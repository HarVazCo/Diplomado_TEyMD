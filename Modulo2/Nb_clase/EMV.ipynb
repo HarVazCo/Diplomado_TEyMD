{
 "cells": [
  {
   "cell_type": "markdown",
   "id": "30b6a90f",
   "metadata": {},
   "source": [
    "# Estimador Máximo Verosímil"
   ]
  },
  {
   "cell_type": "markdown",
   "id": "d2660852",
   "metadata": {},
   "source": [
    "Ejemplo 1. Lanzamos una moneda 100 veces, sabiendo que se obtienen 55 soles. Encontrar el EMV para la probabilidad $p$ de obtener sol en un sólo lanzamiento.\n",
    "\n",
    "Si $X$: el número de soles que se obtiene al lanzar una moneda, se tiene que $X\\sim Bin(100,p)$, es decir\n",
    "\n",
    "$$f(55 \\text{soles};p) = \\binom{100}{55}p^{55}(1-p)^{100-55}$$"
   ]
  },
  {
   "cell_type": "code",
   "execution_count": 3,
   "id": "018f641f",
   "metadata": {},
   "outputs": [],
   "source": [
    "from scipy.stats import binom\n",
    "import numpy as np\n",
    "import sympy # Para el calculo simbólico y algebraico\n",
    "from sympy.abc import x # importa la variable simbólica x"
   ]
  },
  {
   "cell_type": "code",
   "execution_count": 9,
   "id": "0ad54981",
   "metadata": {},
   "outputs": [
    {
     "name": "stdout",
     "output_type": "stream",
     "text": [
      "El estimador de máxima verosimilitud para p es 11/20\n"
     ]
    }
   ],
   "source": [
    "# Vamos a definir a p como una variable simbólica positiva\n",
    "p = sympy.symbols('p', positiva=True)\n",
    "# Definimos f\n",
    "f = p**55 * (1-p)**(100-55)\n",
    "#Derivamos f con respecto a p\n",
    "df = sympy.diff(f,p)\n",
    "# Igualamos la derivada a cero y despejamos p\n",
    "phat = sympy.solve(df,p)[1]\n",
    "phat\n",
    " \n",
    "#print(f'El estimador de máxima verosimilitud para p es: {phat}')\n",
    "print(\"El estimador de máxima verosimilitud para p es\", phat)"
   ]
  },
  {
   "cell_type": "code",
   "execution_count": 12,
   "id": "b9ede3d9",
   "metadata": {},
   "outputs": [
    {
     "data": {
      "text/plain": [
       "array([1, 1, 1, 1, 1, 1, 1, 1, 1, 1, 1, 1, 1, 1, 1, 0, 0, 1, 1, 1, 0, 0,\n",
       "       1, 1, 0, 1, 1, 1, 1, 1, 0, 0, 1, 1, 0, 1, 0, 0, 1, 1, 1, 1, 1, 0,\n",
       "       1, 1, 0, 1, 1, 0, 1, 1, 0, 1, 0, 0, 1, 1, 1, 1, 0, 1, 0, 1, 0, 1,\n",
       "       0, 1, 1, 1, 1, 0, 0, 0, 1, 1, 1, 1, 1, 1, 1, 0, 1, 1, 1, 1, 0, 0,\n",
       "       1, 1, 0, 0, 0, 0, 1, 1, 1, 0, 1, 0])"
      ]
     },
     "execution_count": 12,
     "metadata": {},
     "output_type": "execute_result"
    }
   ],
   "source": [
    "# Veamos otro ejemplo\n",
    "\n",
    "# Simularemos una muestra de tamaño 100\n",
    "\n",
    "r = binom.rvs(n=1, p=0.7, size=100)\n",
    "r"
   ]
  },
  {
   "cell_type": "code",
   "execution_count": null,
   "id": "5aa53e1e",
   "metadata": {},
   "outputs": [
    {
     "name": "stdout",
     "output_type": "stream",
     "text": [
      "El estimador de máxima verosimilitud para p es 17/25\n"
     ]
    }
   ],
   "source": [
    "f = p**x * (1-p)**(1-x)\n",
    "J = np.prod([f.subs(x,i) for i in r]) # subs es de susbtituir la variable simbolica\n",
    "logJ = sympy.expand_log(sympy.log(J))\n",
    "phat = sympy.solve(sympy.diff(logJ,p),p)[0]\n",
    "print(\"El estimador de máxima verosimilitud para p es\", phat)\n",
    "# Obtenemos un valor cercano a 0.7"
   ]
  },
  {
   "cell_type": "code",
   "execution_count": null,
   "id": "39bbea7c",
   "metadata": {},
   "outputs": [],
   "source": [
    "Ejercicio: El tiempo de retardo para pacientes con enfermedad coronaria potencial se define como la duración entre el comienzo de un síntoma agudo cardiovascular y la llegada a la unidad de emergencia.\n",
    "\n",
    "Se supone que el tiempo de retardo sigue una distribución exponencial con parámetro $\\theta $.\n",
    "\n",
    "Se registraron los tiempos de retardo (en minutos) en la clínica para los primeros 20 pacientes:\n",
    "\n",
    "$$ 525, \\ 719, \\ 2880, \\ 150, \\ 30, \\ 251, \\ 45, \\ 858, \\ 15, \\ 47, \\ 90, \\ 56, \\ 68, \\ 6, \\ 189, \\ 180, \\ 60, \\ 60, \\ 294, \\ 747 $$\n",
    "\n",
    "- Encuentra un estimador por el método de momentos para la media de la distribución.\n",
    "- Encuentra el valor del estimador con los datos dados."
   ]
  },
  {
   "cell_type": "markdown",
   "id": "df570b23",
   "metadata": {},
   "source": [
    "**Ejercicio:** El tiempo de retardo para pacientes con enfermedad coronaria potencial se define como la duración entre el comienzo de un síntoma agudo cardiovascular y la llegada a la unidad de emergencia.\n",
    "\n",
    "Se supone que el tiempo de retardo sigue una distribución exponencial con parámetro $\\theta $.\n",
    "\n",
    "Se registraron los tiempos de retardo (en minutos) en la clínica para los primeros 20 pacientes:\n",
    "\n",
    "$$ 525, \\ 719, \\ 2880, \\ 150, \\ 30, \\ 251, \\ 45, \\ 858, \\ 15, \\ 47, \\ 90, \\ 56, \\ 68, \\ 6, \\ 189, \\ 180, \\ 60, \\ 60, \\ 294, \\ 747 $$\n",
    "\n",
    "- Encuentra un estimador por el **método de momentos** para la media de la distribución (exponencial).\n",
    "  Rocordemos que si $X\\sim Exp(\\theta)$, entonces $\\mathbb{E}[X]=\\frac{1}{\\theta}$\n",
    "- (Python) Encuentra el valor del estimador con los datos dados."
   ]
  },
  {
   "cell_type": "markdown",
   "id": "4e5ca41a",
   "metadata": {},
   "source": [
    "**Ejercicio (Pyton)**. Suponga que la vida util de los focos de cierta marca, se modela mediante una distribución expoencial de parametro  θ  (desconocido). Probamos 5 focos y encontramos que tienen una vida útil de  2,3,1,3  y  5  años, respectivamente. ¿Cuál es el MLE para  θ ?"
   ]
  },
  {
   "cell_type": "markdown",
   "id": "79d20b24",
   "metadata": {},
   "source": []
  }
 ],
 "metadata": {
  "kernelspec": {
   "display_name": "base",
   "language": "python",
   "name": "python3"
  },
  "language_info": {
   "codemirror_mode": {
    "name": "ipython",
    "version": 3
   },
   "file_extension": ".py",
   "mimetype": "text/x-python",
   "name": "python",
   "nbconvert_exporter": "python",
   "pygments_lexer": "ipython3",
   "version": "3.13.5"
  }
 },
 "nbformat": 4,
 "nbformat_minor": 5
}
