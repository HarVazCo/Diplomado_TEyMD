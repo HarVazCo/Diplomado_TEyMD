{
 "cells": [
  {
   "cell_type": "markdown",
   "metadata": {},
   "source": [
    "## Equipo 2\n",
    "\n",
    "#### Integrantes:\n",
    "- Contreras Acosta Noel Alejandro\n",
    "- Perez Alvarado Alfonso\n",
    "- Rosales Peña Juan Pablo\n",
    "- Vázquez Corrilo Harold"
   ]
  },
  {
   "cell_type": "markdown",
   "metadata": {},
   "source": [
    "# Generación y uso de variables aleatorias"
   ]
  },
  {
   "cell_type": "markdown",
   "metadata": {},
   "source": [
    "Daremos recopilación de métodos para generar variables aleatorias utilizados en simulación computacional. Se abordan distribuciones uniformes, exponenciales, normales, binomiales y Poisson, entre otras, así como técnicas como la transformada inversa y el método del rechazo.\n",
    "\n",
    "Ejemplos comunes en simulación:\n",
    "- Tiempo entre llegada de cada persona  \n",
    "- Número de personas por minuto  \n",
    "- Número de artículos por persona  \n",
    "- Cantidad de dinero ganado cada hora  \n",
    "- Tiempo de atención por cliente  \n",
    "- Número de veces que la cajera solicita ayuda durante la jornada  \n",
    "- Cantidad de gente que está formada  \n",
    "- Número de personas que pagan con tarjeta"
   ]
  },
  {
   "cell_type": "markdown",
   "metadata": {},
   "source": [
    "## Métodos de generación de números aleatorios rectangulares\n",
    "\n",
    "La generación de variables aleatorias con esta distribución es importante porque las variables que tengan una distribución diferente, tendrán que usar a ésta como base.\n",
    "\n",
    "- Cada posible resultado entre $a$ y $b$ tiene la misma probabilidad $1/n$.\n",
    "\n",
    "Las variables generadas deben cumplir con:\n",
    "- Los valores generados deben ser independientes y estar idénticamente distribuidos\n",
    "- La secuencia generada debe ser lo más larga posible y ser reproducibles\n",
    "- Debe permitir generar múltiples secuencias\n",
    "- Que usen poca memoria\n",
    "\n",
    "Históricamente se han usado cuatro tipos de métodos para generar sucesiones de números rectangulares:\n",
    "- Métodos manuales\n",
    "- Tablas de biblioteca\n",
    "- Computación analógica\n",
    "- Computación digital"
   ]
  },
  {
   "cell_type": "markdown",
   "metadata": {},
   "source": [
    "### Generación pseudoaleatoria\n",
    "\n",
    "La generación de los números aleatorios rectangulares debe realizarse a través de relaciones matemáticas de recurrencia. Por esta razón se consideran **pseudoaleatorios**, ya que el proceso para generarlos es determinístico.\n",
    "\n",
    "Hay dos métodos que son los más utilizados para la generación. Ambos se basan en la siguiente definición:\n",
    "\n",
    "**Definición.** Dos enteros $a$ y $b$ son congruentes módulo $m$ si su diferencia es un múltiplo entero de $m$ y se expresa como\n",
    "$$𝑎 \\equiv 𝑏 ( \\text{𝑚o𝑑 } 𝑚)$$\n",
    "Como consecuencia:\n",
    "- $(a-b)$ es divisible entre $m$\n",
    "- $a$ y $b$ dan el mismo residuo al ser divididos entre $m$\n"
   ]
  },
  {
   "cell_type": "markdown",
   "metadata": {},
   "source": [
    "#### Método congruencial multiplicativo\n",
    "\n",
    "Generar una secuencia de números pseudoaleatorios uniformes en el intervalo (0, 1) usando la siguiente fórmula recursiva:\n",
    "\n",
    "$$n_{i+1} = a n_i \\mod m$$\n",
    "- $m$ debe ser tan grande como sea posible, dependiendo de los bits por palabra que maneje la computadora, descontando el bit del signo ($b$). Por lo tanto: $m = 2^b$\n",
    "- $a$ debe satisfacer que $a \\approx 2^{(b+1)/2}$ y que $a \\equiv \\pm 3 \\mod 8$. La segunda expresión equivale a $( a-(\\pm3 ) )$ es múltiplo de $8$.\n",
    "- $n_0$: entero positivo impar menor a $m$\n",
    "- El periodo será de longitud: $m/4$"
   ]
  },
  {
   "cell_type": "code",
   "execution_count": 1,
   "metadata": {},
   "outputs": [],
   "source": [
    "'''\n",
    "n0 : valor inicial\n",
    "a : multiplicador\n",
    "m : módulo (2^b)\n",
    "n : el número de numeros que quiero generar\n",
    "'''\n",
    "\n",
    "def multiplicativo(n0,a,m,n):\n",
    "    secuencia = [] # lista para guardar los números generados\n",
    "    ni = n0 # inicio con valor inicial\n",
    "    for i in range(n):\n",
    "        ni = (a*ni) % m # calculo del siguiente número utilizando la formula recurrente\n",
    "        secuencia.append(ni/m) # guardo el número en la lista, normalizado entre 0 y 1\n",
    "    return secuencia # devuelvo la lista con los números generados"
   ]
  },
  {
   "cell_type": "code",
   "execution_count": 2,
   "metadata": {},
   "outputs": [
    {
     "name": "stdout",
     "output_type": "stream",
     "text": [
      "[0.7746705110184848, 0.1306216404773295, 0.8116952436976135, 0.6945766978897154, 0.8622029940597713, 0.9220276833511889, 0.7723391535691917, 0.3357857712544501, 0.06366224540397525, 0.35990153113380075]\n"
     ]
    }
   ],
   "source": [
    "m = 2**31\n",
    "a = 65539 # a ≡ +-3 (mod 8)\n",
    "n0 = 123456789\n",
    "n = 10\n",
    "\n",
    "secuencia_mult = multiplicativo(n0,a,m,n)\n",
    "print(secuencia_mult)"
   ]
  },
  {
   "cell_type": "markdown",
   "metadata": {},
   "source": [
    "#### Método congruencial mixto\n",
    "\n",
    "Este método genera números pseudoaleatorios con la fórmula: \n",
    "$$n_{i+1} = (a n_i + c) \\mod m$$\n",
    "\n",
    "**Obs.** Se le llama “mixto” porque incluye una constante adicional $c$ (a diferencia del método multiplicativo).\n",
    "\n",
    "- $m = 2^b$\n",
    "- $a \\approx 2^{(b-1)/2}$, $a \\equiv 1 \\mod 4$, es decir, $(a-1)$ es múltiplo de 4.\n",
    "- $c$, $n_0$: enteros positivos impares menores a $m$\n",
    "- Periodo tiene longitud $m$"
   ]
  },
  {
   "cell_type": "code",
   "execution_count": 3,
   "metadata": {},
   "outputs": [],
   "source": [
    "'''\n",
    "n0 : valor inicial\n",
    "a : multiplicador\n",
    "c : constante (impar)\n",
    "m : módulo (2^b)\n",
    "n : el número de numeros que quiero generar\n",
    "'''\n",
    "\n",
    "def mixto(n0,a,c,m,n):\n",
    "    secuencia = [] # lista para guardar los números generados\n",
    "    ni = n0 # inicio con valor inicial\n",
    "    for i in range(n):\n",
    "        ni = (a*ni + c) % m # calculo del siguiente número utilizando la formula recurrente\n",
    "        secuencia.append(ni/m) # guardo el número en la lista, normalizado entre 0 y 1\n",
    "    return secuencia # devuelvo la lista con los números generados"
   ]
  },
  {
   "cell_type": "code",
   "execution_count": 4,
   "metadata": {},
   "outputs": [
    {
     "name": "stdout",
     "output_type": "stream",
     "text": [
      "[0.06844326015561819, 0.9992314944975078, 0.4621392320841551, 0.9174640052951872, 0.5820055874064565, 0.37821047520264983, 0.2048243023455143, 0.18477003322914243, 0.4875209955498576, 0.8468507858924568]\n"
     ]
    }
   ],
   "source": [
    "m = 2**31\n",
    "a = 1103515245 #  a ≡ 1 (mod 4)\n",
    "c = 12345 # c impar\n",
    "n0 = 41\n",
    "n = 10\n",
    "\n",
    "secuencia_mixto = mixto(n0,a,c,m,n)\n",
    "print(secuencia_mixto)"
   ]
  },
  {
   "cell_type": "markdown",
   "metadata": {},
   "source": [
    "| **Método**     | **Fórmula**                            | **Ventajas**                                          | **Riesgos / Limitaciones**                                |\n",
    "|----------------|----------------------------------------|-------------------------------------------------------|------------------------------------------------------------|\n",
    "| Multiplicativo | \\( n_{i+1} = a n_i \\mod m \\)           | Rápido, menos memoria                                 | Menor aleatoriedad, requiere \\( a, m, n_0 \\) bien elegidos |\n",
    "| Mixto          | \\( n_{i+1} = (a n_i + c) \\mod m \\)     | Mejor distribución, periodo completo posible          | Más complejo, pero más robusto                             |\n",
    "| NumPy (`uniform`) | Motor moderno y validado           | Alta calidad, probado, rápido                         | Caja negra, sin control del generador interno              |\n"
   ]
  },
  {
   "cell_type": "markdown",
   "metadata": {},
   "source": [
    "## Metodos de generación de numeros aleatorios no rectangulares"
   ]
  },
  {
   "cell_type": "markdown",
   "metadata": {},
   "source": [
    "#### Método de la transformada inversa\n",
    "\n",
    "El método utiliza la función de distribución $F(x)$ de la distribución que se va a simular \n",
    "$$F(x) = \\int_{-\\infty}^{x} f(t)\\,dt$$"
   ]
  },
  {
   "attachments": {
    "aeaa5ec8-f8cb-4c7d-89af-44a240c12c61.png": {
     "image/png": "[encoded data removed]"
    }
   },
   "cell_type": "markdown",
   "metadata": {},
   "source": [
    "![image.png](attachment:aeaa5ec8-f8cb-4c7d-89af-44a240c12c61.png)"
   ]
  },
  {
   "cell_type": "markdown",
   "metadata": {},
   "source": [
    "Como se sabe, los valores de $F(x)$ están en el intervalo $(0,1)$ al igual que los números rectangulares $U$. \n",
    "\n",
    "El método genera un $U$ y trata de determinar el valor de la variable aleatoria para la cual $F(x)$ sea igual a $U$.\n",
    "\n",
    "Si $U \\in (0,1)$:\n",
    "$$ F(x) = U \\quad \\Rightarrow \\quad x = F^{-1}(U)$$"
   ]
  },
  {
   "attachments": {
    "e7665e52-3ff6-474b-8d59-0027b66ef343.png": {
     "image/png": "[encoded data removed]"
    }
   },
   "cell_type": "markdown",
   "metadata": {},
   "source": [
    "![image.png](attachment:e7665e52-3ff6-474b-8d59-0027b66ef343.png)"
   ]
  },
  {
   "cell_type": "markdown",
   "metadata": {},
   "source": [
    "$\\mathbf{Teorema}.$ Sea $X$ una variable aleatoria real. Supongamos que su función de distribución $F$ es estrictamente creciente (por lo que $F$ es una biyección de $\\mathbb{R}$ sobre $(0,1)$ y podemos denotar por $F^{-1}$ a su inversa). Sea $U\\sim \\text{unif}[0,1]$. Entonces $F^{-1}(U)$ tiene la misma ley que $X$.\n",
    "\n",
    "Si $F$ no es estrictamente creciente, hemos visto que el teorema precedente sigue siendo válido bajo la condición de definir \n",
    "$$F^{-1}(u)=\\inf\\{ x\\in \\mathbb{R} : F(x)\\geq u\\},$$\n",
    "la inversa generalizada de $F$."
   ]
  },
  {
   "cell_type": "code",
   "execution_count": 5,
   "metadata": {},
   "outputs": [],
   "source": [
    "''' \n",
    "Vamos a simular una variable aleatoria Bernoulli usando una uniforme\n",
    "'''\n",
    "import random"
   ]
  },
  {
   "cell_type": "code",
   "execution_count": 6,
   "metadata": {},
   "outputs": [],
   "source": [
    "def bernoulli(p):\n",
    "    U = random.random() # U --> Unif(0,1)\n",
    "    if U <= p:\n",
    "        return 1\n",
    "    else:\n",
    "        return 0"
   ]
  },
  {
   "cell_type": "code",
   "execution_count": 7,
   "metadata": {},
   "outputs": [
    {
     "name": "stdout",
     "output_type": "stream",
     "text": [
      "[1, 1, 1, 1, 1, 1, 1, 1, 0, 1, 0, 1, 0, 0, 0, 0, 0, 1, 1, 1, 1, 1, 0, 1, 1, 1, 0, 1, 1, 0, 0, 0, 0, 1, 0, 1, 1, 0, 1, 1, 1, 0, 0, 0, 1, 1, 1, 0, 0, 0, 1, 0, 1, 1, 0, 1, 1, 0, 0, 0, 1, 1, 1, 0, 0, 0, 1, 1, 1, 1, 1, 0, 0, 1, 1, 1, 1, 0, 1, 0, 0, 1, 1, 1, 1, 0, 0, 0, 1, 1, 0, 0, 0, 0, 1, 1, 0, 1, 1, 1]\n"
     ]
    }
   ],
   "source": [
    "# Simulamos n valores con p de éxito\n",
    "p = 0.5\n",
    "\n",
    "simulaciones = [bernoulli(p) for _ in range(100)]\n",
    "\n",
    "print(simulaciones)"
   ]
  },
  {
   "cell_type": "code",
   "execution_count": 8,
   "metadata": {},
   "outputs": [
    {
     "data": {
      "text/plain": [
       "58"
      ]
     },
     "execution_count": 8,
     "metadata": {},
     "output_type": "execute_result"
    }
   ],
   "source": [
    "sum(simulaciones)"
   ]
  },
  {
   "cell_type": "code",
   "execution_count": 10,
   "metadata": {},
   "outputs": [
    {
     "name": "stdout",
     "output_type": "stream",
     "text": [
      "Collecting plotly\n",
      "  Downloading plotly-6.3.0-py3-none-any.whl.metadata (8.5 kB)\n",
      "Collecting narwhals>=1.15.1 (from plotly)\n",
      "  Downloading narwhals-2.5.0-py3-none-any.whl.metadata (11 kB)\n",
      "Requirement already satisfied: packaging in /home/hvazquez/miniforge3/envs/analisis/lib/python3.9/site-packages (from plotly) (25.0)\n",
      "Downloading plotly-6.3.0-py3-none-any.whl (9.8 MB)\n",
      "\u001b[2K   \u001b[90m━━━━━━━━━━━━━━━━━━━━━━━━━━━━━━━━━━━━━━━━\u001b[0m \u001b[32m9.8/9.8 MB\u001b[0m \u001b[31m6.4 MB/s\u001b[0m eta \u001b[36m0:00:00\u001b[0m00:01\u001b[0m00:01\u001b[0m\n",
      "\u001b[?25hDownloading narwhals-2.5.0-py3-none-any.whl (407 kB)\n",
      "Installing collected packages: narwhals, plotly\n",
      "Successfully installed narwhals-2.5.0 plotly-6.3.0\n"
     ]
    }
   ],
   "source": [
    "#!pip install plotly"
   ]
  },
  {
   "cell_type": "code",
   "execution_count": null,
   "metadata": {},
   "outputs": [],
   "source": [
    "import plotly.express as px # para visualización interactiva"
   ]
  },
  {
   "cell_type": "code",
   "execution_count": 12,
   "metadata": {},
   "outputs": [
    {
     "data": {
      "application/vnd.plotly.v1+json": {
       "config": {
        "plotlyServerURL": "https://plot.ly"
       },
       "data": [
        {
         "bingroup": "x",
         "hovertemplate": "Valor de la v.a Bernoulli (0 es fracaso, 1 es éxito)=%{x}<br>count=%{y}<extra></extra>",
         "legendgroup": "",
         "marker": {
          "color": "#636efa",
          "pattern": {
           "shape": ""
          }
         },
         "name": "",
         "nbinsx": 2,
         "orientation": "v",
         "showlegend": false,
         "type": "histogram",
         "x": {
          "bdata": "AQEBAQEBAQEAAQABAAAAAAABAQEBAQABAQEAAQEAAAAAAQABAQABAQEAAAABAQEAAAABAAEBAAEBAAAAAQEBAAAAAQEBAQEAAAEBAQEAAQAAAQEBAQAAAAEBAAAAAAEBAAEBAQ==",
          "dtype": "i1"
         },
         "xaxis": "x",
         "yaxis": "y"
        }
       ],
       "layout": {
        "barmode": "relative",
        "legend": {
         "tracegroupgap": 0
        },
        "template": {
         "data": {
          "bar": [
           {
            "error_x": {
             "color": "#2a3f5f"
            },
            "error_y": {
             "color": "#2a3f5f"
            },
            "marker": {
             "line": {
              "color": "#E5ECF6",
              "width": 0.5
             },
             "pattern": {
              "fillmode": "overlay",
              "size": 10,
              "solidity": 0.2
             }
            },
            "type": "bar"
           }
          ],
          "barpolar": [
           {
            "marker": {
             "line": {
              "color": "#E5ECF6",
              "width": 0.5
             },
             "pattern": {
              "fillmode": "overlay",
              "size": 10,
              "solidity": 0.2
             }
            },
            "type": "barpolar"
           }
          ],
          "carpet": [
           {
            "aaxis": {
             "endlinecolor": "#2a3f5f",
             "gridcolor": "white",
             "linecolor": "white",
             "minorgridcolor": "white",
             "startlinecolor": "#2a3f5f"
            },
            "baxis": {
             "endlinecolor": "#2a3f5f",
             "gridcolor": "white",
             "linecolor": "white",
             "minorgridcolor": "white",
             "startlinecolor": "#2a3f5f"
            },
            "type": "carpet"
           }
          ],
          "choropleth": [
           {
            "colorbar": {
             "outlinewidth": 0,
             "ticks": ""
            },
            "type": "choropleth"
           }
          ],
          "contour": [
           {
            "colorbar": {
             "outlinewidth": 0,
             "ticks": ""
            },
            "colorscale": [
             [
              0,
              "#0d0887"
             ],
             [
              0.1111111111111111,
              "#46039f"
             ],
             [
              0.2222222222222222,
              "#7201a8"
             ],
             [
              0.3333333333333333,
              "#9c179e"
             ],
             [
              0.4444444444444444,
              "#bd3786"
             ],
             [
              0.5555555555555556,
              "#d8576b"
             ],
             [
              0.6666666666666666,
              "#ed7953"
             ],
             [
              0.7777777777777778,
              "#fb9f3a"
             ],
             [
              0.8888888888888888,
              "#fdca26"
             ],
             [
              1,
              "#f0f921"
             ]
            ],
            "type": "contour"
           }
          ],
          "contourcarpet": [
           {
            "colorbar": {
             "outlinewidth": 0,
             "ticks": ""
            },
            "type": "contourcarpet"
           }
          ],
          "heatmap": [
           {
            "colorbar": {
             "outlinewidth": 0,
             "ticks": ""
            },
            "colorscale": [
             [
              0,
              "#0d0887"
             ],
             [
              0.1111111111111111,
              "#46039f"
             ],
             [
              0.2222222222222222,
              "#7201a8"
             ],
             [
              0.3333333333333333,
              "#9c179e"
             ],
             [
              0.4444444444444444,
              "#bd3786"
             ],
             [
              0.5555555555555556,
              "#d8576b"
             ],
             [
              0.6666666666666666,
              "#ed7953"
             ],
             [
              0.7777777777777778,
              "#fb9f3a"
             ],
             [
              0.8888888888888888,
              "#fdca26"
             ],
             [
              1,
              "#f0f921"
             ]
            ],
            "type": "heatmap"
           }
          ],
          "histogram": [
           {
            "marker": {
             "pattern": {
              "fillmode": "overlay",
              "size": 10,
              "solidity": 0.2
             }
            },
            "type": "histogram"
           }
          ],
          "histogram2d": [
           {
            "colorbar": {
             "outlinewidth": 0,
             "ticks": ""
            },
            "colorscale": [
             [
              0,
              "#0d0887"
             ],
             [
              0.1111111111111111,
              "#46039f"
             ],
             [
              0.2222222222222222,
              "#7201a8"
             ],
             [
              0.3333333333333333,
              "#9c179e"
             ],
             [
              0.4444444444444444,
              "#bd3786"
             ],
             [
              0.5555555555555556,
              "#d8576b"
             ],
             [
              0.6666666666666666,
              "#ed7953"
             ],
             [
              0.7777777777777778,
              "#fb9f3a"
             ],
             [
              0.8888888888888888,
              "#fdca26"
             ],
             [
              1,
              "#f0f921"
             ]
            ],
            "type": "histogram2d"
           }
          ],
          "histogram2dcontour": [
           {
            "colorbar": {
             "outlinewidth": 0,
             "ticks": ""
            },
            "colorscale": [
             [
              0,
              "#0d0887"
             ],
             [
              0.1111111111111111,
              "#46039f"
             ],
             [
              0.2222222222222222,
              "#7201a8"
             ],
             [
              0.3333333333333333,
              "#9c179e"
             ],
             [
              0.4444444444444444,
              "#bd3786"
             ],
             [
              0.5555555555555556,
              "#d8576b"
             ],
             [
              0.6666666666666666,
              "#ed7953"
             ],
             [
              0.7777777777777778,
              "#fb9f3a"
             ],
             [
              0.8888888888888888,
              "#fdca26"
             ],
             [
              1,
              "#f0f921"
             ]
            ],
            "type": "histogram2dcontour"
           }
          ],
          "mesh3d": [
           {
            "colorbar": {
             "outlinewidth": 0,
             "ticks": ""
            },
            "type": "mesh3d"
           }
          ],
          "parcoords": [
           {
            "line": {
             "colorbar": {
              "outlinewidth": 0,
              "ticks": ""
             }
            },
            "type": "parcoords"
           }
          ],
          "pie": [
           {
            "automargin": true,
            "type": "pie"
           }
          ],
          "scatter": [
           {
            "fillpattern": {
             "fillmode": "overlay",
             "size": 10,
             "solidity": 0.2
            },
            "type": "scatter"
           }
          ],
          "scatter3d": [
           {
            "line": {
             "colorbar": {
              "outlinewidth": 0,
              "ticks": ""
             }
            },
            "marker": {
             "colorbar": {
              "outlinewidth": 0,
              "ticks": ""
             }
            },
            "type": "scatter3d"
           }
          ],
          "scattercarpet": [
           {
            "marker": {
             "colorbar": {
              "outlinewidth": 0,
              "ticks": ""
             }
            },
            "type": "scattercarpet"
           }
          ],
          "scattergeo": [
           {
            "marker": {
             "colorbar": {
              "outlinewidth": 0,
              "ticks": ""
             }
            },
            "type": "scattergeo"
           }
          ],
          "scattergl": [
           {
            "marker": {
             "colorbar": {
              "outlinewidth": 0,
              "ticks": ""
             }
            },
            "type": "scattergl"
           }
          ],
          "scattermap": [
           {
            "marker": {
             "colorbar": {
              "outlinewidth": 0,
              "ticks": ""
             }
            },
            "type": "scattermap"
           }
          ],
          "scattermapbox": [
           {
            "marker": {
             "colorbar": {
              "outlinewidth": 0,
              "ticks": ""
             }
            },
            "type": "scattermapbox"
           }
          ],
          "scatterpolar": [
           {
            "marker": {
             "colorbar": {
              "outlinewidth": 0,
              "ticks": ""
             }
            },
            "type": "scatterpolar"
           }
          ],
          "scatterpolargl": [
           {
            "marker": {
             "colorbar": {
              "outlinewidth": 0,
              "ticks": ""
             }
            },
            "type": "scatterpolargl"
           }
          ],
          "scatterternary": [
           {
            "marker": {
             "colorbar": {
              "outlinewidth": 0,
              "ticks": ""
             }
            },
            "type": "scatterternary"
           }
          ],
          "surface": [
           {
            "colorbar": {
             "outlinewidth": 0,
             "ticks": ""
            },
            "colorscale": [
             [
              0,
              "#0d0887"
             ],
             [
              0.1111111111111111,
              "#46039f"
             ],
             [
              0.2222222222222222,
              "#7201a8"
             ],
             [
              0.3333333333333333,
              "#9c179e"
             ],
             [
              0.4444444444444444,
              "#bd3786"
             ],
             [
              0.5555555555555556,
              "#d8576b"
             ],
             [
              0.6666666666666666,
              "#ed7953"
             ],
             [
              0.7777777777777778,
              "#fb9f3a"
             ],
             [
              0.8888888888888888,
              "#fdca26"
             ],
             [
              1,
              "#f0f921"
             ]
            ],
            "type": "surface"
           }
          ],
          "table": [
           {
            "cells": {
             "fill": {
              "color": "#EBF0F8"
             },
             "line": {
              "color": "white"
             }
            },
            "header": {
             "fill": {
              "color": "#C8D4E3"
             },
             "line": {
              "color": "white"
             }
            },
            "type": "table"
           }
          ]
         },
         "layout": {
          "annotationdefaults": {
           "arrowcolor": "#2a3f5f",
           "arrowhead": 0,
           "arrowwidth": 1
          },
          "autotypenumbers": "strict",
          "coloraxis": {
           "colorbar": {
            "outlinewidth": 0,
            "ticks": ""
           }
          },
          "colorscale": {
           "diverging": [
            [
             0,
             "#8e0152"
            ],
            [
             0.1,
             "#c51b7d"
            ],
            [
             0.2,
             "#de77ae"
            ],
            [
             0.3,
             "#f1b6da"
            ],
            [
             0.4,
             "#fde0ef"
            ],
            [
             0.5,
             "#f7f7f7"
            ],
            [
             0.6,
             "#e6f5d0"
            ],
            [
             0.7,
             "#b8e186"
            ],
            [
             0.8,
             "#7fbc41"
            ],
            [
             0.9,
             "#4d9221"
            ],
            [
             1,
             "#276419"
            ]
           ],
           "sequential": [
            [
             0,
             "#0d0887"
            ],
            [
             0.1111111111111111,
             "#46039f"
            ],
            [
             0.2222222222222222,
             "#7201a8"
            ],
            [
             0.3333333333333333,
             "#9c179e"
            ],
            [
             0.4444444444444444,
             "#bd3786"
            ],
            [
             0.5555555555555556,
             "#d8576b"
            ],
            [
             0.6666666666666666,
             "#ed7953"
            ],
            [
             0.7777777777777778,
             "#fb9f3a"
            ],
            [
             0.8888888888888888,
             "#fdca26"
            ],
            [
             1,
             "#f0f921"
            ]
           ],
           "sequentialminus": [
            [
             0,
             "#0d0887"
            ],
            [
             0.1111111111111111,
             "#46039f"
            ],
            [
             0.2222222222222222,
             "#7201a8"
            ],
            [
             0.3333333333333333,
             "#9c179e"
            ],
            [
             0.4444444444444444,
             "#bd3786"
            ],
            [
             0.5555555555555556,
             "#d8576b"
            ],
            [
             0.6666666666666666,
             "#ed7953"
            ],
            [
             0.7777777777777778,
             "#fb9f3a"
            ],
            [
             0.8888888888888888,
             "#fdca26"
            ],
            [
             1,
             "#f0f921"
            ]
           ]
          },
          "colorway": [
           "#636efa",
           "#EF553B",
           "#00cc96",
           "#ab63fa",
           "#FFA15A",
           "#19d3f3",
           "#FF6692",
           "#B6E880",
           "#FF97FF",
           "#FECB52"
          ],
          "font": {
           "color": "#2a3f5f"
          },
          "geo": {
           "bgcolor": "white",
           "lakecolor": "white",
           "landcolor": "#E5ECF6",
           "showlakes": true,
           "showland": true,
           "subunitcolor": "white"
          },
          "hoverlabel": {
           "align": "left"
          },
          "hovermode": "closest",
          "mapbox": {
           "style": "light"
          },
          "paper_bgcolor": "white",
          "plot_bgcolor": "#E5ECF6",
          "polar": {
           "angularaxis": {
            "gridcolor": "white",
            "linecolor": "white",
            "ticks": ""
           },
           "bgcolor": "#E5ECF6",
           "radialaxis": {
            "gridcolor": "white",
            "linecolor": "white",
            "ticks": ""
           }
          },
          "scene": {
           "xaxis": {
            "backgroundcolor": "#E5ECF6",
            "gridcolor": "white",
            "gridwidth": 2,
            "linecolor": "white",
            "showbackground": true,
            "ticks": "",
            "zerolinecolor": "white"
           },
           "yaxis": {
            "backgroundcolor": "#E5ECF6",
            "gridcolor": "white",
            "gridwidth": 2,
            "linecolor": "white",
            "showbackground": true,
            "ticks": "",
            "zerolinecolor": "white"
           },
           "zaxis": {
            "backgroundcolor": "#E5ECF6",
            "gridcolor": "white",
            "gridwidth": 2,
            "linecolor": "white",
            "showbackground": true,
            "ticks": "",
            "zerolinecolor": "white"
           }
          },
          "shapedefaults": {
           "line": {
            "color": "#2a3f5f"
           }
          },
          "ternary": {
           "aaxis": {
            "gridcolor": "white",
            "linecolor": "white",
            "ticks": ""
           },
           "baxis": {
            "gridcolor": "white",
            "linecolor": "white",
            "ticks": ""
           },
           "bgcolor": "#E5ECF6",
           "caxis": {
            "gridcolor": "white",
            "linecolor": "white",
            "ticks": ""
           }
          },
          "title": {
           "x": 0.05
          },
          "xaxis": {
           "automargin": true,
           "gridcolor": "white",
           "linecolor": "white",
           "ticks": "",
           "title": {
            "standoff": 15
           },
           "zerolinecolor": "white",
           "zerolinewidth": 2
          },
          "yaxis": {
           "automargin": true,
           "gridcolor": "white",
           "linecolor": "white",
           "ticks": "",
           "title": {
            "standoff": 15
           },
           "zerolinecolor": "white",
           "zerolinewidth": 2
          }
         }
        },
        "title": {
         "text": "Simulaciones de una v.a Bernoulli con p=0.50"
        },
        "xaxis": {
         "anchor": "y",
         "domain": [
          0,
          1
         ],
         "title": {
          "text": "Valor de la v.a Bernoulli (0 es fracaso, 1 es éxito)"
         }
        },
        "yaxis": {
         "anchor": "x",
         "domain": [
          0,
          1
         ],
         "title": {
          "text": "count"
         }
        }
       }
      }
     },
     "metadata": {},
     "output_type": "display_data"
    }
   ],
   "source": [
    "px.histogram(\n",
    "    simulaciones,\n",
    "    x = simulaciones,\n",
    "    nbins = 2,\n",
    "    title = f'Simulaciones de una v.a Bernoulli con p={p:.2f}',\n",
    "    labels = {'x':'Valor de la v.a Bernoulli (0 es fracaso, 1 es éxito)'}\n",
    ")"
   ]
  },
  {
   "cell_type": "markdown",
   "metadata": {},
   "source": [
    "## Ejemplo: Distribución exponencial\n",
    "\n",
    "Sea $\\theta,\\lambda>0$, entonces a través del teorema se puede generar una v.a. exponencial.\n",
    "\n",
    "Sea $U \\sim Unif[0,1]$, entonces si $X\\sim Exp(\\lambda)$, entonces\n",
    "\n",
    "$$f_{X}(x) = \\lambda e^{-\\lambda x}$$ \n",
    "y que \n",
    "$$ F_X(x) = 1-e^{-\\lambda x} $$\n",
    "\n",
    "Sabemos que $1-e^{-\\lambda x} = U$, entonces $1-U = e^{-\\lambda x}$, y tomando logaritmo, se tiene que \n",
    "$ \\ln(1-U) = -\\lambda x$ y como $U$ es uniforme entonces $U \\sim 1-U$, por lo que depejando a $x$, se tiene que \n",
    "$$ X = -\\frac{\\ln(U)}{\\lambda} \\sim Exp(\\lambda) $$\n"
   ]
  },
  {
   "cell_type": "code",
   "execution_count": 13,
   "metadata": {},
   "outputs": [],
   "source": [
    "import numpy as np \n",
    "import plotly.graph_objects as go"
   ]
  },
  {
   "cell_type": "code",
   "execution_count": 15,
   "metadata": {},
   "outputs": [],
   "source": [
    "# Semilla \n",
    "np.random.seed(123)\n",
    "\n",
    "# Parametro exponencial\n",
    "lambd = 4\n",
    "\n",
    "# Simulamos 10,000 valores\n",
    "n = 10000\n",
    "\n",
    "uniformes = np.random.random(n) # Generamos n valores uniformes\n",
    "exponenciales = -np.log(uniformes) / lambd\n"
   ]
  },
  {
   "cell_type": "code",
   "execution_count": 16,
   "metadata": {},
   "outputs": [],
   "source": [
    "# Vamos a crear la curva de la densidad teórica, es decir f_X(x) = λe^(-λx)\n",
    "x_vals = np.linspace(0,exponenciales.max(),300)\n",
    "y_vals = lambd*np.exp(-lambd * x_vals)"
   ]
  },
  {
   "cell_type": "code",
   "execution_count": 19,
   "metadata": {},
   "outputs": [
    {
     "data": {
      "application/vnd.plotly.v1+json": {
       "config": {
        "plotlyServerURL": "https://plot.ly"
       },
       "data": [
        {
         "histnorm": "probability density",
         "marker": {
          "color": "skyblue"
         },
         "name": "Simulación",
         "nbinsx": 40,
         "type": "histogram",
         "x": {
          "bdata": "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",
          "dtype": "f8"
         }
        },
        {
         "line": {
          "color": "darkblue"
         },
         "mode": "lines",
         "name": "Densidad teórica",
         "type": "scatter",
         "x": {
          "bdata": "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",
          "dtype": "f8"
         },
         "y": {
          "bdata": "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",
          "dtype": "f8"
         }
        }
       ],
       "layout": {
        "bargap": 0.05,
        "template": {
         "data": {
          "bar": [
           {
            "error_x": {
             "color": "#2a3f5f"
            },
            "error_y": {
             "color": "#2a3f5f"
            },
            "marker": {
             "line": {
              "color": "#E5ECF6",
              "width": 0.5
             },
             "pattern": {
              "fillmode": "overlay",
              "size": 10,
              "solidity": 0.2
             }
            },
            "type": "bar"
           }
          ],
          "barpolar": [
           {
            "marker": {
             "line": {
              "color": "#E5ECF6",
              "width": 0.5
             },
             "pattern": {
              "fillmode": "overlay",
              "size": 10,
              "solidity": 0.2
             }
            },
            "type": "barpolar"
           }
          ],
          "carpet": [
           {
            "aaxis": {
             "endlinecolor": "#2a3f5f",
             "gridcolor": "white",
             "linecolor": "white",
             "minorgridcolor": "white",
             "startlinecolor": "#2a3f5f"
            },
            "baxis": {
             "endlinecolor": "#2a3f5f",
             "gridcolor": "white",
             "linecolor": "white",
             "minorgridcolor": "white",
             "startlinecolor": "#2a3f5f"
            },
            "type": "carpet"
           }
          ],
          "choropleth": [
           {
            "colorbar": {
             "outlinewidth": 0,
             "ticks": ""
            },
            "type": "choropleth"
           }
          ],
          "contour": [
           {
            "colorbar": {
             "outlinewidth": 0,
             "ticks": ""
            },
            "colorscale": [
             [
              0,
              "#0d0887"
             ],
             [
              0.1111111111111111,
              "#46039f"
             ],
             [
              0.2222222222222222,
              "#7201a8"
             ],
             [
              0.3333333333333333,
              "#9c179e"
             ],
             [
              0.4444444444444444,
              "#bd3786"
             ],
             [
              0.5555555555555556,
              "#d8576b"
             ],
             [
              0.6666666666666666,
              "#ed7953"
             ],
             [
              0.7777777777777778,
              "#fb9f3a"
             ],
             [
              0.8888888888888888,
              "#fdca26"
             ],
             [
              1,
              "#f0f921"
             ]
            ],
            "type": "contour"
           }
          ],
          "contourcarpet": [
           {
            "colorbar": {
             "outlinewidth": 0,
             "ticks": ""
            },
            "type": "contourcarpet"
           }
          ],
          "heatmap": [
           {
            "colorbar": {
             "outlinewidth": 0,
             "ticks": ""
            },
            "colorscale": [
             [
              0,
              "#0d0887"
             ],
             [
              0.1111111111111111,
              "#46039f"
             ],
             [
              0.2222222222222222,
              "#7201a8"
             ],
             [
              0.3333333333333333,
              "#9c179e"
             ],
             [
              0.4444444444444444,
              "#bd3786"
             ],
             [
              0.5555555555555556,
              "#d8576b"
             ],
             [
              0.6666666666666666,
              "#ed7953"
             ],
             [
              0.7777777777777778,
              "#fb9f3a"
             ],
             [
              0.8888888888888888,
              "#fdca26"
             ],
             [
              1,
              "#f0f921"
             ]
            ],
            "type": "heatmap"
           }
          ],
          "histogram": [
           {
            "marker": {
             "pattern": {
              "fillmode": "overlay",
              "size": 10,
              "solidity": 0.2
             }
            },
            "type": "histogram"
           }
          ],
          "histogram2d": [
           {
            "colorbar": {
             "outlinewidth": 0,
             "ticks": ""
            },
            "colorscale": [
             [
              0,
              "#0d0887"
             ],
             [
              0.1111111111111111,
              "#46039f"
             ],
             [
              0.2222222222222222,
              "#7201a8"
             ],
             [
              0.3333333333333333,
              "#9c179e"
             ],
             [
              0.4444444444444444,
              "#bd3786"
             ],
             [
              0.5555555555555556,
              "#d8576b"
             ],
             [
              0.6666666666666666,
              "#ed7953"
             ],
             [
              0.7777777777777778,
              "#fb9f3a"
             ],
             [
              0.8888888888888888,
              "#fdca26"
             ],
             [
              1,
              "#f0f921"
             ]
            ],
            "type": "histogram2d"
           }
          ],
          "histogram2dcontour": [
           {
            "colorbar": {
             "outlinewidth": 0,
             "ticks": ""
            },
            "colorscale": [
             [
              0,
              "#0d0887"
             ],
             [
              0.1111111111111111,
              "#46039f"
             ],
             [
              0.2222222222222222,
              "#7201a8"
             ],
             [
              0.3333333333333333,
              "#9c179e"
             ],
             [
              0.4444444444444444,
              "#bd3786"
             ],
             [
              0.5555555555555556,
              "#d8576b"
             ],
             [
              0.6666666666666666,
              "#ed7953"
             ],
             [
              0.7777777777777778,
              "#fb9f3a"
             ],
             [
              0.8888888888888888,
              "#fdca26"
             ],
             [
              1,
              "#f0f921"
             ]
            ],
            "type": "histogram2dcontour"
           }
          ],
          "mesh3d": [
           {
            "colorbar": {
             "outlinewidth": 0,
             "ticks": ""
            },
            "type": "mesh3d"
           }
          ],
          "parcoords": [
           {
            "line": {
             "colorbar": {
              "outlinewidth": 0,
              "ticks": ""
             }
            },
            "type": "parcoords"
           }
          ],
          "pie": [
           {
            "automargin": true,
            "type": "pie"
           }
          ],
          "scatter": [
           {
            "fillpattern": {
             "fillmode": "overlay",
             "size": 10,
             "solidity": 0.2
            },
            "type": "scatter"
           }
          ],
          "scatter3d": [
           {
            "line": {
             "colorbar": {
              "outlinewidth": 0,
              "ticks": ""
             }
            },
            "marker": {
             "colorbar": {
              "outlinewidth": 0,
              "ticks": ""
             }
            },
            "type": "scatter3d"
           }
          ],
          "scattercarpet": [
           {
            "marker": {
             "colorbar": {
              "outlinewidth": 0,
              "ticks": ""
             }
            },
            "type": "scattercarpet"
           }
          ],
          "scattergeo": [
           {
            "marker": {
             "colorbar": {
              "outlinewidth": 0,
              "ticks": ""
             }
            },
            "type": "scattergeo"
           }
          ],
          "scattergl": [
           {
            "marker": {
             "colorbar": {
              "outlinewidth": 0,
              "ticks": ""
             }
            },
            "type": "scattergl"
           }
          ],
          "scattermap": [
           {
            "marker": {
             "colorbar": {
              "outlinewidth": 0,
              "ticks": ""
             }
            },
            "type": "scattermap"
           }
          ],
          "scattermapbox": [
           {
            "marker": {
             "colorbar": {
              "outlinewidth": 0,
              "ticks": ""
             }
            },
            "type": "scattermapbox"
           }
          ],
          "scatterpolar": [
           {
            "marker": {
             "colorbar": {
              "outlinewidth": 0,
              "ticks": ""
             }
            },
            "type": "scatterpolar"
           }
          ],
          "scatterpolargl": [
           {
            "marker": {
             "colorbar": {
              "outlinewidth": 0,
              "ticks": ""
             }
            },
            "type": "scatterpolargl"
           }
          ],
          "scatterternary": [
           {
            "marker": {
             "colorbar": {
              "outlinewidth": 0,
              "ticks": ""
             }
            },
            "type": "scatterternary"
           }
          ],
          "surface": [
           {
            "colorbar": {
             "outlinewidth": 0,
             "ticks": ""
            },
            "colorscale": [
             [
              0,
              "#0d0887"
             ],
             [
              0.1111111111111111,
              "#46039f"
             ],
             [
              0.2222222222222222,
              "#7201a8"
             ],
             [
              0.3333333333333333,
              "#9c179e"
             ],
             [
              0.4444444444444444,
              "#bd3786"
             ],
             [
              0.5555555555555556,
              "#d8576b"
             ],
             [
              0.6666666666666666,
              "#ed7953"
             ],
             [
              0.7777777777777778,
              "#fb9f3a"
             ],
             [
              0.8888888888888888,
              "#fdca26"
             ],
             [
              1,
              "#f0f921"
             ]
            ],
            "type": "surface"
           }
          ],
          "table": [
           {
            "cells": {
             "fill": {
              "color": "#EBF0F8"
             },
             "line": {
              "color": "white"
             }
            },
            "header": {
             "fill": {
              "color": "#C8D4E3"
             },
             "line": {
              "color": "white"
             }
            },
            "type": "table"
           }
          ]
         },
         "layout": {
          "annotationdefaults": {
           "arrowcolor": "#2a3f5f",
           "arrowhead": 0,
           "arrowwidth": 1
          },
          "autotypenumbers": "strict",
          "coloraxis": {
           "colorbar": {
            "outlinewidth": 0,
            "ticks": ""
           }
          },
          "colorscale": {
           "diverging": [
            [
             0,
             "#8e0152"
            ],
            [
             0.1,
             "#c51b7d"
            ],
            [
             0.2,
             "#de77ae"
            ],
            [
             0.3,
             "#f1b6da"
            ],
            [
             0.4,
             "#fde0ef"
            ],
            [
             0.5,
             "#f7f7f7"
            ],
            [
             0.6,
             "#e6f5d0"
            ],
            [
             0.7,
             "#b8e186"
            ],
            [
             0.8,
             "#7fbc41"
            ],
            [
             0.9,
             "#4d9221"
            ],
            [
             1,
             "#276419"
            ]
           ],
           "sequential": [
            [
             0,
             "#0d0887"
            ],
            [
             0.1111111111111111,
             "#46039f"
            ],
            [
             0.2222222222222222,
             "#7201a8"
            ],
            [
             0.3333333333333333,
             "#9c179e"
            ],
            [
             0.4444444444444444,
             "#bd3786"
            ],
            [
             0.5555555555555556,
             "#d8576b"
            ],
            [
             0.6666666666666666,
             "#ed7953"
            ],
            [
             0.7777777777777778,
             "#fb9f3a"
            ],
            [
             0.8888888888888888,
             "#fdca26"
            ],
            [
             1,
             "#f0f921"
            ]
           ],
           "sequentialminus": [
            [
             0,
             "#0d0887"
            ],
            [
             0.1111111111111111,
             "#46039f"
            ],
            [
             0.2222222222222222,
             "#7201a8"
            ],
            [
             0.3333333333333333,
             "#9c179e"
            ],
            [
             0.4444444444444444,
             "#bd3786"
            ],
            [
             0.5555555555555556,
             "#d8576b"
            ],
            [
             0.6666666666666666,
             "#ed7953"
            ],
            [
             0.7777777777777778,
             "#fb9f3a"
            ],
            [
             0.8888888888888888,
             "#fdca26"
            ],
            [
             1,
             "#f0f921"
            ]
           ]
          },
          "colorway": [
           "#636efa",
           "#EF553B",
           "#00cc96",
           "#ab63fa",
           "#FFA15A",
           "#19d3f3",
           "#FF6692",
           "#B6E880",
           "#FF97FF",
           "#FECB52"
          ],
          "font": {
           "color": "#2a3f5f"
          },
          "geo": {
           "bgcolor": "white",
           "lakecolor": "white",
           "landcolor": "#E5ECF6",
           "showlakes": true,
           "showland": true,
           "subunitcolor": "white"
          },
          "hoverlabel": {
           "align": "left"
          },
          "hovermode": "closest",
          "mapbox": {
           "style": "light"
          },
          "paper_bgcolor": "white",
          "plot_bgcolor": "#E5ECF6",
          "polar": {
           "angularaxis": {
            "gridcolor": "white",
            "linecolor": "white",
            "ticks": ""
           },
           "bgcolor": "#E5ECF6",
           "radialaxis": {
            "gridcolor": "white",
            "linecolor": "white",
            "ticks": ""
           }
          },
          "scene": {
           "xaxis": {
            "backgroundcolor": "#E5ECF6",
            "gridcolor": "white",
            "gridwidth": 2,
            "linecolor": "white",
            "showbackground": true,
            "ticks": "",
            "zerolinecolor": "white"
           },
           "yaxis": {
            "backgroundcolor": "#E5ECF6",
            "gridcolor": "white",
            "gridwidth": 2,
            "linecolor": "white",
            "showbackground": true,
            "ticks": "",
            "zerolinecolor": "white"
           },
           "zaxis": {
            "backgroundcolor": "#E5ECF6",
            "gridcolor": "white",
            "gridwidth": 2,
            "linecolor": "white",
            "showbackground": true,
            "ticks": "",
            "zerolinecolor": "white"
           }
          },
          "shapedefaults": {
           "line": {
            "color": "#2a3f5f"
           }
          },
          "ternary": {
           "aaxis": {
            "gridcolor": "white",
            "linecolor": "white",
            "ticks": ""
           },
           "baxis": {
            "gridcolor": "white",
            "linecolor": "white",
            "ticks": ""
           },
           "bgcolor": "#E5ECF6",
           "caxis": {
            "gridcolor": "white",
            "linecolor": "white",
            "ticks": ""
           }
          },
          "title": {
           "x": 0.05
          },
          "xaxis": {
           "automargin": true,
           "gridcolor": "white",
           "linecolor": "white",
           "ticks": "",
           "title": {
            "standoff": 15
           },
           "zerolinecolor": "white",
           "zerolinewidth": 2
          },
          "yaxis": {
           "automargin": true,
           "gridcolor": "white",
           "linecolor": "white",
           "ticks": "",
           "title": {
            "standoff": 15
           },
           "zerolinecolor": "white",
           "zerolinewidth": 2
          }
         }
        },
        "title": {
         "text": "Distribución Exponencial simulada vs teórica (λ = 4.00)"
        },
        "xaxis": {
         "title": {
          "text": "x"
         }
        },
        "yaxis": {
         "title": {
          "text": "Densidad"
         }
        }
       }
      }
     },
     "metadata": {},
     "output_type": "display_data"
    }
   ],
   "source": [
    "fig = go.Figure()\n",
    "\n",
    "fig.add_trace(go.Histogram(\n",
    "    x=exponenciales,\n",
    "    nbinsx=40,\n",
    "    histnorm='probability density',\n",
    "    marker_color='skyblue',\n",
    "    name='Simulación'\n",
    "))\n",
    "\n",
    "fig.add_trace(go.Scatter(\n",
    "    x=x_vals,\n",
    "    y=y_vals,\n",
    "    mode='lines',\n",
    "    name='Densidad teórica',\n",
    "    line=dict(color='darkblue')\n",
    "))\n",
    "\n",
    "fig.update_layout(\n",
    "    title=f'Distribución Exponencial simulada vs teórica (λ = {lambd:.2f})',\n",
    "    xaxis_title='x',\n",
    "    yaxis_title='Densidad',\n",
    "    bargap=0.05\n",
    ")\n",
    "\n",
    "fig.show()"
   ]
  },
  {
   "cell_type": "markdown",
   "metadata": {},
   "source": [
    "## Ejemplo: Distribución Uniforme Continua\n",
    "$$f(x) = \\frac{1}{b-a}, \\quad a \\leq x \\leq b$$\n",
    "$$F(x) = \\frac{x-a}{b-a} = U \\Rightarrow X = a + (b-a)U \\sim Unif(a,b)$$"
   ]
  },
  {
   "cell_type": "code",
   "execution_count": 20,
   "metadata": {},
   "outputs": [],
   "source": [
    "# Parametros de la continua\n",
    "a = 2\n",
    "b = 5\n",
    "n = 10000 # Número de simulaciones \n",
    "\n",
    "uniforme = np.random.random(n) # Generamos n valores uniformes\n",
    "uniforme_continua = a + (b - a) * uniformes # Transformada inversa"
   ]
  },
  {
   "cell_type": "code",
   "execution_count": 21,
   "metadata": {},
   "outputs": [],
   "source": [
    "# Hacemos la densida teorica\n",
    "x_vals = np.linspace(a,b,300)\n",
    "y_vals = np.ones_like(x_vals) / (b-a) # Densidad "
   ]
  },
  {
   "cell_type": "code",
   "execution_count": 23,
   "metadata": {},
   "outputs": [
    {
     "data": {
      "application/vnd.plotly.v1+json": {
       "config": {
        "plotlyServerURL": "https://plot.ly"
       },
       "data": [
        {
         "histnorm": "probability density",
         "marker": {
          "color": "orange"
         },
         "name": "Simulación",
         "nbinsx": 40,
         "type": "histogram",
         "x": {
          "bdata": "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",
          "dtype": "f8"
         }
        },
        {
         "line": {
          "color": "red"
         },
         "mode": "lines",
         "name": "Densidad teórica",
         "type": "scatter",
         "x": {
          "bdata": "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",
          "dtype": "f8"
         },
         "y": {
          "bdata": "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",
          "dtype": "f8"
         }
        }
       ],
       "layout": {
        "bargap": 0.05,
        "template": {
         "data": {
          "bar": [
           {
            "error_x": {
             "color": "#2a3f5f"
            },
            "error_y": {
             "color": "#2a3f5f"
            },
            "marker": {
             "line": {
              "color": "#E5ECF6",
              "width": 0.5
             },
             "pattern": {
              "fillmode": "overlay",
              "size": 10,
              "solidity": 0.2
             }
            },
            "type": "bar"
           }
          ],
          "barpolar": [
           {
            "marker": {
             "line": {
              "color": "#E5ECF6",
              "width": 0.5
             },
             "pattern": {
              "fillmode": "overlay",
              "size": 10,
              "solidity": 0.2
             }
            },
            "type": "barpolar"
           }
          ],
          "carpet": [
           {
            "aaxis": {
             "endlinecolor": "#2a3f5f",
             "gridcolor": "white",
             "linecolor": "white",
             "minorgridcolor": "white",
             "startlinecolor": "#2a3f5f"
            },
            "baxis": {
             "endlinecolor": "#2a3f5f",
             "gridcolor": "white",
             "linecolor": "white",
             "minorgridcolor": "white",
             "startlinecolor": "#2a3f5f"
            },
            "type": "carpet"
           }
          ],
          "choropleth": [
           {
            "colorbar": {
             "outlinewidth": 0,
             "ticks": ""
            },
            "type": "choropleth"
           }
          ],
          "contour": [
           {
            "colorbar": {
             "outlinewidth": 0,
             "ticks": ""
            },
            "colorscale": [
             [
              0,
              "#0d0887"
             ],
             [
              0.1111111111111111,
              "#46039f"
             ],
             [
              0.2222222222222222,
              "#7201a8"
             ],
             [
              0.3333333333333333,
              "#9c179e"
             ],
             [
              0.4444444444444444,
              "#bd3786"
             ],
             [
              0.5555555555555556,
              "#d8576b"
             ],
             [
              0.6666666666666666,
              "#ed7953"
             ],
             [
              0.7777777777777778,
              "#fb9f3a"
             ],
             [
              0.8888888888888888,
              "#fdca26"
             ],
             [
              1,
              "#f0f921"
             ]
            ],
            "type": "contour"
           }
          ],
          "contourcarpet": [
           {
            "colorbar": {
             "outlinewidth": 0,
             "ticks": ""
            },
            "type": "contourcarpet"
           }
          ],
          "heatmap": [
           {
            "colorbar": {
             "outlinewidth": 0,
             "ticks": ""
            },
            "colorscale": [
             [
              0,
              "#0d0887"
             ],
             [
              0.1111111111111111,
              "#46039f"
             ],
             [
              0.2222222222222222,
              "#7201a8"
             ],
             [
              0.3333333333333333,
              "#9c179e"
             ],
             [
              0.4444444444444444,
              "#bd3786"
             ],
             [
              0.5555555555555556,
              "#d8576b"
             ],
             [
              0.6666666666666666,
              "#ed7953"
             ],
             [
              0.7777777777777778,
              "#fb9f3a"
             ],
             [
              0.8888888888888888,
              "#fdca26"
             ],
             [
              1,
              "#f0f921"
             ]
            ],
            "type": "heatmap"
           }
          ],
          "histogram": [
           {
            "marker": {
             "pattern": {
              "fillmode": "overlay",
              "size": 10,
              "solidity": 0.2
             }
            },
            "type": "histogram"
           }
          ],
          "histogram2d": [
           {
            "colorbar": {
             "outlinewidth": 0,
             "ticks": ""
            },
            "colorscale": [
             [
              0,
              "#0d0887"
             ],
             [
              0.1111111111111111,
              "#46039f"
             ],
             [
              0.2222222222222222,
              "#7201a8"
             ],
             [
              0.3333333333333333,
              "#9c179e"
             ],
             [
              0.4444444444444444,
              "#bd3786"
             ],
             [
              0.5555555555555556,
              "#d8576b"
             ],
             [
              0.6666666666666666,
              "#ed7953"
             ],
             [
              0.7777777777777778,
              "#fb9f3a"
             ],
             [
              0.8888888888888888,
              "#fdca26"
             ],
             [
              1,
              "#f0f921"
             ]
            ],
            "type": "histogram2d"
           }
          ],
          "histogram2dcontour": [
           {
            "colorbar": {
             "outlinewidth": 0,
             "ticks": ""
            },
            "colorscale": [
             [
              0,
              "#0d0887"
             ],
             [
              0.1111111111111111,
              "#46039f"
             ],
             [
              0.2222222222222222,
              "#7201a8"
             ],
             [
              0.3333333333333333,
              "#9c179e"
             ],
             [
              0.4444444444444444,
              "#bd3786"
             ],
             [
              0.5555555555555556,
              "#d8576b"
             ],
             [
              0.6666666666666666,
              "#ed7953"
             ],
             [
              0.7777777777777778,
              "#fb9f3a"
             ],
             [
              0.8888888888888888,
              "#fdca26"
             ],
             [
              1,
              "#f0f921"
             ]
            ],
            "type": "histogram2dcontour"
           }
          ],
          "mesh3d": [
           {
            "colorbar": {
             "outlinewidth": 0,
             "ticks": ""
            },
            "type": "mesh3d"
           }
          ],
          "parcoords": [
           {
            "line": {
             "colorbar": {
              "outlinewidth": 0,
              "ticks": ""
             }
            },
            "type": "parcoords"
           }
          ],
          "pie": [
           {
            "automargin": true,
            "type": "pie"
           }
          ],
          "scatter": [
           {
            "fillpattern": {
             "fillmode": "overlay",
             "size": 10,
             "solidity": 0.2
            },
            "type": "scatter"
           }
          ],
          "scatter3d": [
           {
            "line": {
             "colorbar": {
              "outlinewidth": 0,
              "ticks": ""
             }
            },
            "marker": {
             "colorbar": {
              "outlinewidth": 0,
              "ticks": ""
             }
            },
            "type": "scatter3d"
           }
          ],
          "scattercarpet": [
           {
            "marker": {
             "colorbar": {
              "outlinewidth": 0,
              "ticks": ""
             }
            },
            "type": "scattercarpet"
           }
          ],
          "scattergeo": [
           {
            "marker": {
             "colorbar": {
              "outlinewidth": 0,
              "ticks": ""
             }
            },
            "type": "scattergeo"
           }
          ],
          "scattergl": [
           {
            "marker": {
             "colorbar": {
              "outlinewidth": 0,
              "ticks": ""
             }
            },
            "type": "scattergl"
           }
          ],
          "scattermap": [
           {
            "marker": {
             "colorbar": {
              "outlinewidth": 0,
              "ticks": ""
             }
            },
            "type": "scattermap"
           }
          ],
          "scattermapbox": [
           {
            "marker": {
             "colorbar": {
              "outlinewidth": 0,
              "ticks": ""
             }
            },
            "type": "scattermapbox"
           }
          ],
          "scatterpolar": [
           {
            "marker": {
             "colorbar": {
              "outlinewidth": 0,
              "ticks": ""
             }
            },
            "type": "scatterpolar"
           }
          ],
          "scatterpolargl": [
           {
            "marker": {
             "colorbar": {
              "outlinewidth": 0,
              "ticks": ""
             }
            },
            "type": "scatterpolargl"
           }
          ],
          "scatterternary": [
           {
            "marker": {
             "colorbar": {
              "outlinewidth": 0,
              "ticks": ""
             }
            },
            "type": "scatterternary"
           }
          ],
          "surface": [
           {
            "colorbar": {
             "outlinewidth": 0,
             "ticks": ""
            },
            "colorscale": [
             [
              0,
              "#0d0887"
             ],
             [
              0.1111111111111111,
              "#46039f"
             ],
             [
              0.2222222222222222,
              "#7201a8"
             ],
             [
              0.3333333333333333,
              "#9c179e"
             ],
             [
              0.4444444444444444,
              "#bd3786"
             ],
             [
              0.5555555555555556,
              "#d8576b"
             ],
             [
              0.6666666666666666,
              "#ed7953"
             ],
             [
              0.7777777777777778,
              "#fb9f3a"
             ],
             [
              0.8888888888888888,
              "#fdca26"
             ],
             [
              1,
              "#f0f921"
             ]
            ],
            "type": "surface"
           }
          ],
          "table": [
           {
            "cells": {
             "fill": {
              "color": "#EBF0F8"
             },
             "line": {
              "color": "white"
             }
            },
            "header": {
             "fill": {
              "color": "#C8D4E3"
             },
             "line": {
              "color": "white"
             }
            },
            "type": "table"
           }
          ]
         },
         "layout": {
          "annotationdefaults": {
           "arrowcolor": "#2a3f5f",
           "arrowhead": 0,
           "arrowwidth": 1
          },
          "autotypenumbers": "strict",
          "coloraxis": {
           "colorbar": {
            "outlinewidth": 0,
            "ticks": ""
           }
          },
          "colorscale": {
           "diverging": [
            [
             0,
             "#8e0152"
            ],
            [
             0.1,
             "#c51b7d"
            ],
            [
             0.2,
             "#de77ae"
            ],
            [
             0.3,
             "#f1b6da"
            ],
            [
             0.4,
             "#fde0ef"
            ],
            [
             0.5,
             "#f7f7f7"
            ],
            [
             0.6,
             "#e6f5d0"
            ],
            [
             0.7,
             "#b8e186"
            ],
            [
             0.8,
             "#7fbc41"
            ],
            [
             0.9,
             "#4d9221"
            ],
            [
             1,
             "#276419"
            ]
           ],
           "sequential": [
            [
             0,
             "#0d0887"
            ],
            [
             0.1111111111111111,
             "#46039f"
            ],
            [
             0.2222222222222222,
             "#7201a8"
            ],
            [
             0.3333333333333333,
             "#9c179e"
            ],
            [
             0.4444444444444444,
             "#bd3786"
            ],
            [
             0.5555555555555556,
             "#d8576b"
            ],
            [
             0.6666666666666666,
             "#ed7953"
            ],
            [
             0.7777777777777778,
             "#fb9f3a"
            ],
            [
             0.8888888888888888,
             "#fdca26"
            ],
            [
             1,
             "#f0f921"
            ]
           ],
           "sequentialminus": [
            [
             0,
             "#0d0887"
            ],
            [
             0.1111111111111111,
             "#46039f"
            ],
            [
             0.2222222222222222,
             "#7201a8"
            ],
            [
             0.3333333333333333,
             "#9c179e"
            ],
            [
             0.4444444444444444,
             "#bd3786"
            ],
            [
             0.5555555555555556,
             "#d8576b"
            ],
            [
             0.6666666666666666,
             "#ed7953"
            ],
            [
             0.7777777777777778,
             "#fb9f3a"
            ],
            [
             0.8888888888888888,
             "#fdca26"
            ],
            [
             1,
             "#f0f921"
            ]
           ]
          },
          "colorway": [
           "#636efa",
           "#EF553B",
           "#00cc96",
           "#ab63fa",
           "#FFA15A",
           "#19d3f3",
           "#FF6692",
           "#B6E880",
           "#FF97FF",
           "#FECB52"
          ],
          "font": {
           "color": "#2a3f5f"
          },
          "geo": {
           "bgcolor": "white",
           "lakecolor": "white",
           "landcolor": "#E5ECF6",
           "showlakes": true,
           "showland": true,
           "subunitcolor": "white"
          },
          "hoverlabel": {
           "align": "left"
          },
          "hovermode": "closest",
          "mapbox": {
           "style": "light"
          },
          "paper_bgcolor": "white",
          "plot_bgcolor": "#E5ECF6",
          "polar": {
           "angularaxis": {
            "gridcolor": "white",
            "linecolor": "white",
            "ticks": ""
           },
           "bgcolor": "#E5ECF6",
           "radialaxis": {
            "gridcolor": "white",
            "linecolor": "white",
            "ticks": ""
           }
          },
          "scene": {
           "xaxis": {
            "backgroundcolor": "#E5ECF6",
            "gridcolor": "white",
            "gridwidth": 2,
            "linecolor": "white",
            "showbackground": true,
            "ticks": "",
            "zerolinecolor": "white"
           },
           "yaxis": {
            "backgroundcolor": "#E5ECF6",
            "gridcolor": "white",
            "gridwidth": 2,
            "linecolor": "white",
            "showbackground": true,
            "ticks": "",
            "zerolinecolor": "white"
           },
           "zaxis": {
            "backgroundcolor": "#E5ECF6",
            "gridcolor": "white",
            "gridwidth": 2,
            "linecolor": "white",
            "showbackground": true,
            "ticks": "",
            "zerolinecolor": "white"
           }
          },
          "shapedefaults": {
           "line": {
            "color": "#2a3f5f"
           }
          },
          "ternary": {
           "aaxis": {
            "gridcolor": "white",
            "linecolor": "white",
            "ticks": ""
           },
           "baxis": {
            "gridcolor": "white",
            "linecolor": "white",
            "ticks": ""
           },
           "bgcolor": "#E5ECF6",
           "caxis": {
            "gridcolor": "white",
            "linecolor": "white",
            "ticks": ""
           }
          },
          "title": {
           "x": 0.05
          },
          "xaxis": {
           "automargin": true,
           "gridcolor": "white",
           "linecolor": "white",
           "ticks": "",
           "title": {
            "standoff": 15
           },
           "zerolinecolor": "white",
           "zerolinewidth": 2
          },
          "yaxis": {
           "automargin": true,
           "gridcolor": "white",
           "linecolor": "white",
           "ticks": "",
           "title": {
            "standoff": 15
           },
           "zerolinecolor": "white",
           "zerolinewidth": 2
          }
         }
        },
        "title": {
         "text": "Distribución Uniforme Continua simulada vs teórica [2.0, 5.0]"
        },
        "xaxis": {
         "title": {
          "text": "x"
         }
        },
        "yaxis": {
         "title": {
          "text": "Densidad"
         }
        }
       }
      }
     },
     "metadata": {},
     "output_type": "display_data"
    }
   ],
   "source": [
    "# Gráfico\n",
    "fig = go.Figure()\n",
    "fig.add_trace(go.Histogram(\n",
    "    x=uniforme_continua,\n",
    "    nbinsx=40,\n",
    "    histnorm='probability density',\n",
    "    marker_color='orange',\n",
    "    name='Simulación'\n",
    "))\n",
    "fig.add_trace(go.Scatter(\n",
    "    x=x_vals,\n",
    "    y=y_vals,\n",
    "    mode='lines',\n",
    "    name='Densidad teórica',\n",
    "    line=dict(color='red')\n",
    "))\n",
    "fig.update_layout(\n",
    "    title=f'Distribución Uniforme Continua simulada vs teórica [{a:.1f}, {b:.1f}]',\n",
    "    xaxis_title='x',\n",
    "    yaxis_title='Densidad',\n",
    "    bargap=0.05\n",
    ")\n",
    "fig.show()"
   ]
  },
  {
   "cell_type": "markdown",
   "metadata": {},
   "source": [
    "$\\mathbf{Ejemplo}$ (Variable aleatoria Cauchy) Simulemos la variable aleatoria de Cauchy de parámetro $1$ que tiene por función de densidad \n",
    "$$f_X(x)=\\frac{1}{\\pi}\\frac{1}{1+x^{2}}, \\ x\\in \\mathbb{R}$$\n",
    "\n"
   ]
  },
  {
   "cell_type": "markdown",
   "metadata": {},
   "source": [
    "**Ejercicio:** \n",
    "- Corroborar que la función así definida es una función de densidad de probabilidad\n",
    "- Encontrar $F_X$\n",
    "- Crear una gráfica en Python que muestre su forma\n",
    "- Generar v.a. Cauchy a partir de una uniforme\n",
    "\n",
    "Por el teorema anterior, para $u\\in (0,1)$\n",
    "$$u=\\frac{1}{\\pi}\\arctan(x)+\\frac{1}{2} \\qquad \\text{si y sólo si} \\qquad x=\\tan\\left({\\pi}\\left(u-\\frac{1}{2} \\right) \\right).$$"
   ]
  },
  {
   "cell_type": "markdown",
   "metadata": {},
   "source": [
    "**Primer inciso**\n",
    "\n",
    "$$ \\int_{-\\infty}^{\\infty}\\frac{1}{\\pi}\\frac{1}{1+x^2}dx = \\frac{1}{\\pi} \\int_{-\\infty}^{\\infty}\\frac{1}{1+x^2}dx = \\frac{1}{\\pi} \\left(\\arctan(x) \\Big|_{-\\infty}^{\\infty} \\right) = \\frac{1}{\\pi}\\left( \\frac{\\pi}{2}- \\left( -\\frac{\\pi}{2} \\right) \\right) = \\frac{1}{\\pi}(\\pi) = 1 $$\n",
    "\n",
    "Por lo tanto sí es una función de densidad de probabilidad."
   ]
  },
  {
   "cell_type": "markdown",
   "metadata": {},
   "source": [
    "**Segundo inciso**\n",
    "$$\\begin{align*}F_X(x)&= \\int_{-\\infty}^{x}\\frac{1}{\\pi}\\frac{1}{1+u^2}du = \\frac{1}{\\pi} \\int_{-\\infty}^{x}\\frac{1}{1+u^2}du = \\frac{1}{\\pi} \\left(\\arctan(u) \\Big|_{-\\infty}^{x} \\right)\\\\ &= \\frac{1}{\\pi} \\left( \\arctan(x) - \\left( -\\frac{\\pi}{2}  \\right)  \\right)= \\frac{\\arctan(x)}{\\pi} + \\frac{1}{2} \\end{align*}$$ \n",
    "\n",
    "Obtuvimos $$F_X(x) = \\frac{1}{\\pi}\\arctan(x) + \\frac{1}{2} $$"
   ]
  },
  {
   "cell_type": "markdown",
   "metadata": {},
   "source": [
    "**Tercer inciso**"
   ]
  },
  {
   "cell_type": "code",
   "execution_count": 24,
   "metadata": {},
   "outputs": [],
   "source": [
    "import numpy as np \n",
    "import matplotlib.pyplot as plt"
   ]
  },
  {
   "cell_type": "code",
   "execution_count": 26,
   "metadata": {},
   "outputs": [],
   "source": [
    "# definimos F_X\n",
    "def fx(x):\n",
    "    return (1/np.pi)*np.arctan(x) + (1/2)\n",
    "\n",
    "# Generamos los puntos\n",
    "x_valores = np.linspace(-100,100,400)\n",
    "y_valores = fx(x_valores)"
   ]
  },
  {
   "cell_type": "code",
   "execution_count": 30,
   "metadata": {},
   "outputs": [
    {
     "data": {
      "image/png": "[encoded data removed]",
      "text/plain": [
       "<Figure size 1000x600 with 1 Axes>"
      ]
     },
     "metadata": {},
     "output_type": "display_data"
    }
   ],
   "source": [
    "# Graficamos \n",
    "\n",
    "plt.figure(figsize=(10,6))\n",
    "\n",
    "plt.plot(x_valores,y_valores,c='r',label='Densidad teórica')\n",
    "plt.xlabel('x')\n",
    "plt.ylabel('F(x)')\n",
    "plt.legend()\n",
    "plt.grid()\n",
    "\n",
    "plt.show()"
   ]
  },
  {
   "cell_type": "markdown",
   "metadata": {},
   "source": [
    "**Cuarto inciso**\n",
    "\n",
    "Si $U = F_X(x) = \\frac{1}{\\pi}\\arctan(x) + \\frac{1}{2} $, despejando obtenemos $X = \\tan\\left(\\pi \\left( u - \\frac{1}{2}  \\right)  \\right)$"
   ]
  },
  {
   "cell_type": "code",
   "execution_count": 53,
   "metadata": {},
   "outputs": [],
   "source": [
    "n = 1000 # Número de simulaciones \n",
    "\n",
    "uniforme = np.random.random(n) # Generamos n valores uniformes\n",
    "cauchy = np.tan(np.pi * (uniforme - (1/2)))"
   ]
  },
  {
   "cell_type": "code",
   "execution_count": 44,
   "metadata": {},
   "outputs": [],
   "source": [
    "# Hacemos la densida teorica\n",
    "x_vals = np.linspace(-100,100,400)\n",
    "y_vals = fx(x_valores)"
   ]
  },
  {
   "cell_type": "code",
   "execution_count": 55,
   "metadata": {},
   "outputs": [
    {
     "data": {
      "application/vnd.plotly.v1+json": {
       "config": {
        "plotlyServerURL": "https://plot.ly"
       },
       "data": [
        {
         "histnorm": "probability density",
         "marker": {
          "color": "orange"
         },
         "name": "Simulación",
         "nbinsx": 1000,
         "type": "histogram",
         "x": {
          "bdata": "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",
          "dtype": "f8"
         }
        },
        {
         "line": {
          "color": "red"
         },
         "mode": "lines",
         "name": "Densidad teórica",
         "type": "scatter",
         "x": {
          "bdata": "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",
          "dtype": "f8"
         },
         "y": {
          "bdata": "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",
          "dtype": "f8"
         }
        }
       ],
       "layout": {
        "bargap": 0.05,
        "template": {
         "data": {
          "bar": [
           {
            "error_x": {
             "color": "#2a3f5f"
            },
            "error_y": {
             "color": "#2a3f5f"
            },
            "marker": {
             "line": {
              "color": "#E5ECF6",
              "width": 0.5
             },
             "pattern": {
              "fillmode": "overlay",
              "size": 10,
              "solidity": 0.2
             }
            },
            "type": "bar"
           }
          ],
          "barpolar": [
           {
            "marker": {
             "line": {
              "color": "#E5ECF6",
              "width": 0.5
             },
             "pattern": {
              "fillmode": "overlay",
              "size": 10,
              "solidity": 0.2
             }
            },
            "type": "barpolar"
           }
          ],
          "carpet": [
           {
            "aaxis": {
             "endlinecolor": "#2a3f5f",
             "gridcolor": "white",
             "linecolor": "white",
             "minorgridcolor": "white",
             "startlinecolor": "#2a3f5f"
            },
            "baxis": {
             "endlinecolor": "#2a3f5f",
             "gridcolor": "white",
             "linecolor": "white",
             "minorgridcolor": "white",
             "startlinecolor": "#2a3f5f"
            },
            "type": "carpet"
           }
          ],
          "choropleth": [
           {
            "colorbar": {
             "outlinewidth": 0,
             "ticks": ""
            },
            "type": "choropleth"
           }
          ],
          "contour": [
           {
            "colorbar": {
             "outlinewidth": 0,
             "ticks": ""
            },
            "colorscale": [
             [
              0,
              "#0d0887"
             ],
             [
              0.1111111111111111,
              "#46039f"
             ],
             [
              0.2222222222222222,
              "#7201a8"
             ],
             [
              0.3333333333333333,
              "#9c179e"
             ],
             [
              0.4444444444444444,
              "#bd3786"
             ],
             [
              0.5555555555555556,
              "#d8576b"
             ],
             [
              0.6666666666666666,
              "#ed7953"
             ],
             [
              0.7777777777777778,
              "#fb9f3a"
             ],
             [
              0.8888888888888888,
              "#fdca26"
             ],
             [
              1,
              "#f0f921"
             ]
            ],
            "type": "contour"
           }
          ],
          "contourcarpet": [
           {
            "colorbar": {
             "outlinewidth": 0,
             "ticks": ""
            },
            "type": "contourcarpet"
           }
          ],
          "heatmap": [
           {
            "colorbar": {
             "outlinewidth": 0,
             "ticks": ""
            },
            "colorscale": [
             [
              0,
              "#0d0887"
             ],
             [
              0.1111111111111111,
              "#46039f"
             ],
             [
              0.2222222222222222,
              "#7201a8"
             ],
             [
              0.3333333333333333,
              "#9c179e"
             ],
             [
              0.4444444444444444,
              "#bd3786"
             ],
             [
              0.5555555555555556,
              "#d8576b"
             ],
             [
              0.6666666666666666,
              "#ed7953"
             ],
             [
              0.7777777777777778,
              "#fb9f3a"
             ],
             [
              0.8888888888888888,
              "#fdca26"
             ],
             [
              1,
              "#f0f921"
             ]
            ],
            "type": "heatmap"
           }
          ],
          "histogram": [
           {
            "marker": {
             "pattern": {
              "fillmode": "overlay",
              "size": 10,
              "solidity": 0.2
             }
            },
            "type": "histogram"
           }
          ],
          "histogram2d": [
           {
            "colorbar": {
             "outlinewidth": 0,
             "ticks": ""
            },
            "colorscale": [
             [
              0,
              "#0d0887"
             ],
             [
              0.1111111111111111,
              "#46039f"
             ],
             [
              0.2222222222222222,
              "#7201a8"
             ],
             [
              0.3333333333333333,
              "#9c179e"
             ],
             [
              0.4444444444444444,
              "#bd3786"
             ],
             [
              0.5555555555555556,
              "#d8576b"
             ],
             [
              0.6666666666666666,
              "#ed7953"
             ],
             [
              0.7777777777777778,
              "#fb9f3a"
             ],
             [
              0.8888888888888888,
              "#fdca26"
             ],
             [
              1,
              "#f0f921"
             ]
            ],
            "type": "histogram2d"
           }
          ],
          "histogram2dcontour": [
           {
            "colorbar": {
             "outlinewidth": 0,
             "ticks": ""
            },
            "colorscale": [
             [
              0,
              "#0d0887"
             ],
             [
              0.1111111111111111,
              "#46039f"
             ],
             [
              0.2222222222222222,
              "#7201a8"
             ],
             [
              0.3333333333333333,
              "#9c179e"
             ],
             [
              0.4444444444444444,
              "#bd3786"
             ],
             [
              0.5555555555555556,
              "#d8576b"
             ],
             [
              0.6666666666666666,
              "#ed7953"
             ],
             [
              0.7777777777777778,
              "#fb9f3a"
             ],
             [
              0.8888888888888888,
              "#fdca26"
             ],
             [
              1,
              "#f0f921"
             ]
            ],
            "type": "histogram2dcontour"
           }
          ],
          "mesh3d": [
           {
            "colorbar": {
             "outlinewidth": 0,
             "ticks": ""
            },
            "type": "mesh3d"
           }
          ],
          "parcoords": [
           {
            "line": {
             "colorbar": {
              "outlinewidth": 0,
              "ticks": ""
             }
            },
            "type": "parcoords"
           }
          ],
          "pie": [
           {
            "automargin": true,
            "type": "pie"
           }
          ],
          "scatter": [
           {
            "fillpattern": {
             "fillmode": "overlay",
             "size": 10,
             "solidity": 0.2
            },
            "type": "scatter"
           }
          ],
          "scatter3d": [
           {
            "line": {
             "colorbar": {
              "outlinewidth": 0,
              "ticks": ""
             }
            },
            "marker": {
             "colorbar": {
              "outlinewidth": 0,
              "ticks": ""
             }
            },
            "type": "scatter3d"
           }
          ],
          "scattercarpet": [
           {
            "marker": {
             "colorbar": {
              "outlinewidth": 0,
              "ticks": ""
             }
            },
            "type": "scattercarpet"
           }
          ],
          "scattergeo": [
           {
            "marker": {
             "colorbar": {
              "outlinewidth": 0,
              "ticks": ""
             }
            },
            "type": "scattergeo"
           }
          ],
          "scattergl": [
           {
            "marker": {
             "colorbar": {
              "outlinewidth": 0,
              "ticks": ""
             }
            },
            "type": "scattergl"
           }
          ],
          "scattermap": [
           {
            "marker": {
             "colorbar": {
              "outlinewidth": 0,
              "ticks": ""
             }
            },
            "type": "scattermap"
           }
          ],
          "scattermapbox": [
           {
            "marker": {
             "colorbar": {
              "outlinewidth": 0,
              "ticks": ""
             }
            },
            "type": "scattermapbox"
           }
          ],
          "scatterpolar": [
           {
            "marker": {
             "colorbar": {
              "outlinewidth": 0,
              "ticks": ""
             }
            },
            "type": "scatterpolar"
           }
          ],
          "scatterpolargl": [
           {
            "marker": {
             "colorbar": {
              "outlinewidth": 0,
              "ticks": ""
             }
            },
            "type": "scatterpolargl"
           }
          ],
          "scatterternary": [
           {
            "marker": {
             "colorbar": {
              "outlinewidth": 0,
              "ticks": ""
             }
            },
            "type": "scatterternary"
           }
          ],
          "surface": [
           {
            "colorbar": {
             "outlinewidth": 0,
             "ticks": ""
            },
            "colorscale": [
             [
              0,
              "#0d0887"
             ],
             [
              0.1111111111111111,
              "#46039f"
             ],
             [
              0.2222222222222222,
              "#7201a8"
             ],
             [
              0.3333333333333333,
              "#9c179e"
             ],
             [
              0.4444444444444444,
              "#bd3786"
             ],
             [
              0.5555555555555556,
              "#d8576b"
             ],
             [
              0.6666666666666666,
              "#ed7953"
             ],
             [
              0.7777777777777778,
              "#fb9f3a"
             ],
             [
              0.8888888888888888,
              "#fdca26"
             ],
             [
              1,
              "#f0f921"
             ]
            ],
            "type": "surface"
           }
          ],
          "table": [
           {
            "cells": {
             "fill": {
              "color": "#EBF0F8"
             },
             "line": {
              "color": "white"
             }
            },
            "header": {
             "fill": {
              "color": "#C8D4E3"
             },
             "line": {
              "color": "white"
             }
            },
            "type": "table"
           }
          ]
         },
         "layout": {
          "annotationdefaults": {
           "arrowcolor": "#2a3f5f",
           "arrowhead": 0,
           "arrowwidth": 1
          },
          "autotypenumbers": "strict",
          "coloraxis": {
           "colorbar": {
            "outlinewidth": 0,
            "ticks": ""
           }
          },
          "colorscale": {
           "diverging": [
            [
             0,
             "#8e0152"
            ],
            [
             0.1,
             "#c51b7d"
            ],
            [
             0.2,
             "#de77ae"
            ],
            [
             0.3,
             "#f1b6da"
            ],
            [
             0.4,
             "#fde0ef"
            ],
            [
             0.5,
             "#f7f7f7"
            ],
            [
             0.6,
             "#e6f5d0"
            ],
            [
             0.7,
             "#b8e186"
            ],
            [
             0.8,
             "#7fbc41"
            ],
            [
             0.9,
             "#4d9221"
            ],
            [
             1,
             "#276419"
            ]
           ],
           "sequential": [
            [
             0,
             "#0d0887"
            ],
            [
             0.1111111111111111,
             "#46039f"
            ],
            [
             0.2222222222222222,
             "#7201a8"
            ],
            [
             0.3333333333333333,
             "#9c179e"
            ],
            [
             0.4444444444444444,
             "#bd3786"
            ],
            [
             0.5555555555555556,
             "#d8576b"
            ],
            [
             0.6666666666666666,
             "#ed7953"
            ],
            [
             0.7777777777777778,
             "#fb9f3a"
            ],
            [
             0.8888888888888888,
             "#fdca26"
            ],
            [
             1,
             "#f0f921"
            ]
           ],
           "sequentialminus": [
            [
             0,
             "#0d0887"
            ],
            [
             0.1111111111111111,
             "#46039f"
            ],
            [
             0.2222222222222222,
             "#7201a8"
            ],
            [
             0.3333333333333333,
             "#9c179e"
            ],
            [
             0.4444444444444444,
             "#bd3786"
            ],
            [
             0.5555555555555556,
             "#d8576b"
            ],
            [
             0.6666666666666666,
             "#ed7953"
            ],
            [
             0.7777777777777778,
             "#fb9f3a"
            ],
            [
             0.8888888888888888,
             "#fdca26"
            ],
            [
             1,
             "#f0f921"
            ]
           ]
          },
          "colorway": [
           "#636efa",
           "#EF553B",
           "#00cc96",
           "#ab63fa",
           "#FFA15A",
           "#19d3f3",
           "#FF6692",
           "#B6E880",
           "#FF97FF",
           "#FECB52"
          ],
          "font": {
           "color": "#2a3f5f"
          },
          "geo": {
           "bgcolor": "white",
           "lakecolor": "white",
           "landcolor": "#E5ECF6",
           "showlakes": true,
           "showland": true,
           "subunitcolor": "white"
          },
          "hoverlabel": {
           "align": "left"
          },
          "hovermode": "closest",
          "mapbox": {
           "style": "light"
          },
          "paper_bgcolor": "white",
          "plot_bgcolor": "#E5ECF6",
          "polar": {
           "angularaxis": {
            "gridcolor": "white",
            "linecolor": "white",
            "ticks": ""
           },
           "bgcolor": "#E5ECF6",
           "radialaxis": {
            "gridcolor": "white",
            "linecolor": "white",
            "ticks": ""
           }
          },
          "scene": {
           "xaxis": {
            "backgroundcolor": "#E5ECF6",
            "gridcolor": "white",
            "gridwidth": 2,
            "linecolor": "white",
            "showbackground": true,
            "ticks": "",
            "zerolinecolor": "white"
           },
           "yaxis": {
            "backgroundcolor": "#E5ECF6",
            "gridcolor": "white",
            "gridwidth": 2,
            "linecolor": "white",
            "showbackground": true,
            "ticks": "",
            "zerolinecolor": "white"
           },
           "zaxis": {
            "backgroundcolor": "#E5ECF6",
            "gridcolor": "white",
            "gridwidth": 2,
            "linecolor": "white",
            "showbackground": true,
            "ticks": "",
            "zerolinecolor": "white"
           }
          },
          "shapedefaults": {
           "line": {
            "color": "#2a3f5f"
           }
          },
          "ternary": {
           "aaxis": {
            "gridcolor": "white",
            "linecolor": "white",
            "ticks": ""
           },
           "baxis": {
            "gridcolor": "white",
            "linecolor": "white",
            "ticks": ""
           },
           "bgcolor": "#E5ECF6",
           "caxis": {
            "gridcolor": "white",
            "linecolor": "white",
            "ticks": ""
           }
          },
          "title": {
           "x": 0.05
          },
          "xaxis": {
           "automargin": true,
           "gridcolor": "white",
           "linecolor": "white",
           "ticks": "",
           "title": {
            "standoff": 15
           },
           "zerolinecolor": "white",
           "zerolinewidth": 2
          },
          "yaxis": {
           "automargin": true,
           "gridcolor": "white",
           "linecolor": "white",
           "ticks": "",
           "title": {
            "standoff": 15
           },
           "zerolinecolor": "white",
           "zerolinewidth": 2
          }
         }
        },
        "title": {
         "text": "Distribución Cauchy simulada vs teórica"
        },
        "xaxis": {
         "title": {
          "text": "x"
         }
        },
        "yaxis": {
         "title": {
          "text": "Densidad"
         }
        }
       }
      }
     },
     "metadata": {},
     "output_type": "display_data"
    }
   ],
   "source": [
    "# Gráfico\n",
    "fig = go.Figure()\n",
    "fig.add_trace(go.Histogram(\n",
    "    x=cauchy,\n",
    "    nbinsx=1000,\n",
    "    histnorm='probability density',\n",
    "    marker_color='orange',\n",
    "    name='Simulación'\n",
    "))\n",
    "fig.add_trace(go.Scatter(\n",
    "    x=x_vals,\n",
    "    y=y_vals,\n",
    "    mode='lines',\n",
    "    name='Densidad teórica',\n",
    "    line=dict(color='red')\n",
    "))\n",
    "fig.update_layout(\n",
    "    title=f'Distribución Cauchy simulada vs teórica',\n",
    "    xaxis_title='x',\n",
    "    yaxis_title='Densidad',\n",
    "    bargap=0.05\n",
    ")\n",
    "fig.show()"
   ]
  }
 ],
 "metadata": {
  "kernelspec": {
   "display_name": "analisis",
   "language": "python",
   "name": "python3"
  },
  "language_info": {
   "codemirror_mode": {
    "name": "ipython",
    "version": 3
   },
   "file_extension": ".py",
   "mimetype": "text/x-python",
   "name": "python",
   "nbconvert_exporter": "python",
   "pygments_lexer": "ipython3",
   "version": "3.9.19"
  }
 },
 "nbformat": 4,
 "nbformat_minor": 4
}
