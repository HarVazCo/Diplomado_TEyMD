{
 "cells": [
  {
   "cell_type": "markdown",
   "metadata": {},
   "source": [
    "## Equipo i\n",
    "\n",
    "### Integrantes\n",
    "- Vázquez Corrilo Harold\n"
   ]
  },
  {
   "cell_type": "markdown",
   "metadata": {},
   "source": [
    "### Probabilidad Laplaciana"
   ]
  },
  {
   "cell_type": "markdown",
   "metadata": {},
   "source": [
    "Para un experimento aleatorio, se tiene que $\\Omega$ es el espacio muestral.\n",
    "\n",
    "Sea $A$ un evento, entonces\n",
    "$$ \\mathbb{P}(A) = \\frac{|A|}{|\\Omega|} $$\n",
    "\n",
    "**Ejemplo** \n",
    "\n",
    "Sea el experimento aleatorio de lanzar una moneda 3 veces, de manera independiente, es decir, el $i$-ésimo lanzamiento no me afecta el $i+1$ lanzamiento. El espacio muestral de este experimento es:\n",
    "$$ \\Omega = \\{A,S\\}\\times \\{A,S\\} \\times \\{A,S\\} = \\{A,S\\}^3 $$\n",
    "\n",
    "y se tiene que $|\\Omega| = 2^{3}$.\n",
    "\n",
    "Sean los eventos:\n",
    "- $A$ : todos los resultados son águila\n",
    "- $S$ : todos los resultados son soles\n",
    "- $E$ : por lo menos un resutado es sol\n",
    "\n",
    "Calcular las probabilidades de $A$, $S$ y $E$.\n",
    "\n",
    "**Solución**\n",
    "\n",
    "Para $A$, vamos a descomponer al conjunto de la siguiente manera $A = A_1 \\cap A_2 \\cap A_3$ donde $A_i$: cae águila en el $i$-ésimo lanzamiento."
   ]
  },
  {
   "cell_type": "code",
   "execution_count": null,
   "metadata": {},
   "outputs": [
    {
     "name": "stdout",
     "output_type": "stream",
     "text": [
      "Collecting more-itertools\n",
      "  Downloading more_itertools-10.7.0-py3-none-any.whl.metadata (37 kB)\n",
      "Downloading more_itertools-10.7.0-py3-none-any.whl (65 kB)\n",
      "Installing collected packages: more-itertools\n",
      "Successfully installed more-itertools-10.7.0\n"
     ]
    }
   ],
   "source": [
    "#!pip install more-itertools"
   ]
  },
  {
   "cell_type": "code",
   "execution_count": 3,
   "metadata": {},
   "outputs": [],
   "source": [
    "import itertools \n",
    "from itertools import product"
   ]
  },
  {
   "cell_type": "code",
   "execution_count": 5,
   "metadata": {},
   "outputs": [
    {
     "data": {
      "text/plain": [
       "{('A', 'A', 'A'),\n",
       " ('A', 'A', 'S'),\n",
       " ('A', 'S', 'A'),\n",
       " ('A', 'S', 'S'),\n",
       " ('S', 'A', 'A'),\n",
       " ('S', 'A', 'S'),\n",
       " ('S', 'S', 'A'),\n",
       " ('S', 'S', 'S')}"
      ]
     },
     "execution_count": 5,
     "metadata": {},
     "output_type": "execute_result"
    }
   ],
   "source": [
    "omega = set(product(('A','S'),repeat=3))\n",
    "omega"
   ]
  },
  {
   "cell_type": "code",
   "execution_count": 6,
   "metadata": {},
   "outputs": [
    {
     "data": {
      "text/plain": [
       "8"
      ]
     },
     "execution_count": 6,
     "metadata": {},
     "output_type": "execute_result"
    }
   ],
   "source": [
    "#cardinalidd de omega\n",
    "len(omega)"
   ]
  },
  {
   "cell_type": "code",
   "execution_count": 9,
   "metadata": {},
   "outputs": [],
   "source": [
    "# creacion de los conjuntos\n",
    "a1 = {om for om in omega if om[0]=='A'}\n",
    "a2 = {om for om in omega if om[1]=='A'}\n",
    "a3 = {om for om in omega if om[2]=='A'}"
   ]
  },
  {
   "cell_type": "code",
   "execution_count": 10,
   "metadata": {},
   "outputs": [
    {
     "data": {
      "text/plain": [
       "{('A', 'A', 'A')}"
      ]
     },
     "execution_count": 10,
     "metadata": {},
     "output_type": "execute_result"
    }
   ],
   "source": [
    "a = a1.intersection(a2.intersection(a3))\n",
    "a"
   ]
  },
  {
   "cell_type": "code",
   "execution_count": 11,
   "metadata": {},
   "outputs": [],
   "source": [
    "# cardinalidad a\n",
    "card_A = len(a)"
   ]
  },
  {
   "cell_type": "code",
   "execution_count": 13,
   "metadata": {},
   "outputs": [
    {
     "data": {
      "text/plain": [
       "0.125"
      ]
     },
     "execution_count": 13,
     "metadata": {},
     "output_type": "execute_result"
    }
   ],
   "source": [
    "# calculamos probabilidad\n",
    "p_A = card_A/len(omega)\n",
    "p_A"
   ]
  },
  {
   "cell_type": "code",
   "execution_count": 14,
   "metadata": {},
   "outputs": [],
   "source": [
    "# proba condifcional\n",
    "\n",
    "def prob_cond(e,f):\n",
    "    return len(e & f ) / len (f)"
   ]
  },
  {
   "cell_type": "markdown",
   "metadata": {},
   "source": [
    "Quiero calcular la probabilidad de los siguientes eventos:\n",
    "- B: el primer lanzamiento es águila\n",
    "- C: dos de los resultados son águila"
   ]
  },
  {
   "cell_type": "code",
   "execution_count": 20,
   "metadata": {},
   "outputs": [
    {
     "data": {
      "text/plain": [
       "{('A', 'A', 'A'), ('A', 'A', 'S'), ('A', 'S', 'A'), ('A', 'S', 'S')}"
      ]
     },
     "execution_count": 20,
     "metadata": {},
     "output_type": "execute_result"
    }
   ],
   "source": [
    "b = {om for om in omega if om[0]=='A'}\n",
    "b"
   ]
  },
  {
   "cell_type": "code",
   "execution_count": 19,
   "metadata": {},
   "outputs": [
    {
     "data": {
      "text/plain": [
       "{('A', 'A', 'S'), ('A', 'S', 'A'), ('S', 'A', 'A')}"
      ]
     },
     "execution_count": 19,
     "metadata": {},
     "output_type": "execute_result"
    }
   ],
   "source": [
    "c = {om for om in omega if om.count('A')==2}\n",
    "c"
   ]
  },
  {
   "cell_type": "code",
   "execution_count": 21,
   "metadata": {},
   "outputs": [
    {
     "data": {
      "text/plain": [
       "0.6666666666666666"
      ]
     },
     "execution_count": 21,
     "metadata": {},
     "output_type": "execute_result"
    }
   ],
   "source": [
    "prob_cond(b,c)"
   ]
  },
  {
   "cell_type": "markdown",
   "metadata": {},
   "source": [
    "### Independecia de eventos\n",
    "\n",
    "Decimos que dos eventos $A$ y $B$ son independientes si \n",
    "$$ \\mathbb{P}(A\\cap B) = \\mathbb{P}(A) \\mathbb{P}(B)$$"
   ]
  },
  {
   "cell_type": "code",
   "execution_count": 22,
   "metadata": {},
   "outputs": [],
   "source": [
    "def prob(f):\n",
    "    return len(f) / len(omega) "
   ]
  },
  {
   "cell_type": "code",
   "execution_count": 23,
   "metadata": {},
   "outputs": [],
   "source": [
    "def indep(e,f):\n",
    "    return prob(e & f) == prob(e)*prob(f)"
   ]
  },
  {
   "cell_type": "code",
   "execution_count": 25,
   "metadata": {},
   "outputs": [
    {
     "data": {
      "text/plain": [
       "False"
      ]
     },
     "execution_count": 25,
     "metadata": {},
     "output_type": "execute_result"
    }
   ],
   "source": [
    "indep(b,c)"
   ]
  },
  {
   "cell_type": "markdown",
   "metadata": {},
   "source": [
    "### Ejemplo\n",
    "seal el experimento aleatorio de lanzar un dado dos veces. Sabemos que el espacio muestral es el siguiente :\n",
    "$$ \\Omega = \\{(i,j) \\mid i,j \\in \\{1,2,3,4,5,6\\}\\} $$\n",
    "\n",
    "y además $|\\Omega|=6^2=36$"
   ]
  },
  {
   "cell_type": "code",
   "execution_count": 27,
   "metadata": {},
   "outputs": [
    {
     "data": {
      "text/plain": [
       "{(1, 1),\n",
       " (1, 2),\n",
       " (1, 3),\n",
       " (1, 4),\n",
       " (1, 5),\n",
       " (1, 6),\n",
       " (2, 1),\n",
       " (2, 2),\n",
       " (2, 3),\n",
       " (2, 4),\n",
       " (2, 5),\n",
       " (2, 6),\n",
       " (3, 1),\n",
       " (3, 2),\n",
       " (3, 3),\n",
       " (3, 4),\n",
       " (3, 5),\n",
       " (3, 6),\n",
       " (4, 1),\n",
       " (4, 2),\n",
       " (4, 3),\n",
       " (4, 4),\n",
       " (4, 5),\n",
       " (4, 6),\n",
       " (5, 1),\n",
       " (5, 2),\n",
       " (5, 3),\n",
       " (5, 4),\n",
       " (5, 5),\n",
       " (5, 6),\n",
       " (6, 1),\n",
       " (6, 2),\n",
       " (6, 3),\n",
       " (6, 4),\n",
       " (6, 5),\n",
       " (6, 6)}"
      ]
     },
     "execution_count": 27,
     "metadata": {},
     "output_type": "execute_result"
    }
   ],
   "source": [
    "omega_dado = set(product((1,2,3,4,5,6),repeat=2))\n",
    "omega_dado"
   ]
  },
  {
   "cell_type": "code",
   "execution_count": 29,
   "metadata": {},
   "outputs": [],
   "source": [
    "card_dado = len(omega_dado)"
   ]
  }
 ],
 "metadata": {
  "kernelspec": {
   "display_name": "analisis",
   "language": "python",
   "name": "python3"
  },
  "language_info": {
   "codemirror_mode": {
    "name": "ipython",
    "version": 3
   },
   "file_extension": ".py",
   "mimetype": "text/x-python",
   "name": "python",
   "nbconvert_exporter": "python",
   "pygments_lexer": "ipython3",
   "version": "3.9.19"
  }
 },
 "nbformat": 4,
 "nbformat_minor": 2
}
