{
 "cells": [
  {
   "cell_type": "markdown",
   "metadata": {},
   "source": [
    "## Equipo 2\n",
    "\n",
    "#### Integrantes:\n",
    "- Contreras Acosta Noel Alejandro\n",
    "- Perez Alvarado Alfonso\n",
    "- Rosales Peña Juan Pablo\n",
    "- Vázquez Corrilo Harold"
   ]
  },
  {
   "cell_type": "markdown",
   "metadata": {},
   "source": [
    "## Distribuciones de valiables aleatorias discretas"
   ]
  },
  {
   "cell_type": "code",
   "execution_count": 21,
   "metadata": {},
   "outputs": [],
   "source": [
    "import numpy as np \n",
    "import numpy.random as npr\n",
    "\n",
    "import matplotlib.pyplot as plt\n",
    "import random\n",
    "\n",
    "import scipy.stats as stats\n",
    "import scipy.special as sps\n",
    "from scipy.stats import randint"
   ]
  },
  {
   "cell_type": "markdown",
   "metadata": {},
   "source": [
    "### Variable aleatoria uniforme discreta\n"
   ]
  },
  {
   "cell_type": "markdown",
   "metadata": {},
   "source": [
    "Decimos que una variable aleatoria $X$ tiene distribución **uniforme discreta** en el conjunto \n",
    "$\\{x_1,x_2,\\dots,x_n \\}$ si su función de densidad esta dada por\n",
    "$$f_{X}(x) = \\begin{cases} \\frac{1}{n}, \\quad \\text{si } x\\in \\{x_1,x_2,\\dots,x_n \\} \\\\\n",
    "0, \\qquad \\text{e.o.c} \\end{cases}$$\n",
    "\n",
    "Se llama uniforme porque cada uno de de sus posibles resultados de $X$ tiene la misma probabilidad.\n",
    "\n",
    "**Notación:** $X \\sim Unif(x_1,x_2,\\dots,x_n)$.\n",
    "\n",
    "La esperanza y la varianza de $X$ están dadas por:\n",
    "\n",
    "$$ \\mathbb{E}(X) = \\sum_{x}xf_{X}(x) = \\frac{x_n+x_1}{2} $$\n",
    "y\n",
    "$$\\text{Var}(X) = \\mathbb{E}[(X-\\mathbb{E}(x))^2] = \\frac{(x_n-x_1+1)^2-1}{12}$$"
   ]
  },
  {
   "cell_type": "markdown",
   "metadata": {},
   "source": [
    "$\\color{purple}\\text{Ejercicio 1.}$ Verifica que, en efecto, las formulas anteriores son ciertas."
   ]
  },
  {
   "cell_type": "markdown",
   "metadata": {},
   "source": [
    "Se tiene que para la esperanza\n",
    "$$\\mathbb{E}(X) = \\sum_{x=x_1}^{x_n}xf_X(x)= \\sum_{x=x_1}^{x_n}x \\left(\\frac{1}{n}\\right) = \\frac{1}{n} \\sum_{x=x_1}^{x_n}x = \\frac{1}{n} \\frac{n(x_n+x_1)}{2} = \\frac{x_n+x_1}{2}$$ \n",
    "\n",
    "Para la varianza\n",
    "$$ \\text{Var}(X)= \\mathbb{E}(X^2) - (\\mathbb{E}(X))^2 = \\sum_{x_1}^{x_n}\\frac{x^2}{n} - \\left(\\sum_{x_1}^{x_n}\\frac{x}{n}\\right)^2 $$\n",
    "\n",
    "Calculamos:\n",
    "\n",
    "$$\\mathbb{E}[X^2] = \\frac{1}{n}\\sum_{k=0}^{n-1} (x_1 + k)^2 = \\frac{1}{n} \\left(nx_1^2 + 2x_1 \\sum_{k=0}^{n-1} (k) + \\sum_{k=0}^{n-1} (k^2)\\right)$$\n",
    "\n",
    "En este caso tenemos que:\n",
    "\n",
    "$$ \\sum_{k=o}^{n-1} k = \\frac{n(n-1)}{2}$$\n",
    "y\n",
    "$$ \\sum_{k=o}^{n-1} k^2 = \\frac{(n-1)n(2n-1)}{6}$$\n",
    "\n",
    "Sustituyendo nos queda:\n",
    "\n",
    "$$\\mathbb{E}[X^2] = \\frac{1}{n} \\left(nx_1^2 + 2x_1 \\frac{n(n-1)}{2} + \\frac{(n-1)n(2n-1)}{6}\\right)$$\n",
    "\n",
    "$$\\mathbb{E}[X^2] = x_1^2 + x_1 (n-1) + \\frac{(n-1)(2n-1)}{6}$$\n",
    "\n",
    "Usando:\n",
    "\n",
    "$$\\mathbb{E}[X] = x_1 + \\frac{n-1}{2}$$\n",
    "\n",
    "$$ (\\mathbb{E}[X])^2 = x_1^2 + x_1(n-1) + \\frac{(n-1)^2}{4}$$\n",
    "\n",
    "Calculando la varianza\n",
    "\n",
    "$$\\text{Var}(X) = \\left[ x_1^2 + x_1(n-1) + \\frac{(n-1)(2n-1)}{6} \\right] - \\left[ x_1^2 + x_1(n-1) + \\frac{(n-1)^2}{4} \\right] = \\frac{(n-1)(2n-1)}{6} - \\frac{(n-1)^2}{4}$$\n",
    "\n",
    "$$\\text{Var}(X) = \\frac{2(n-1)(2n-1) - 3(n-1)^2}{12} = \\frac{(n-1)[4n - 2 - 3n + 3]}{12} = \\frac{(n-1)(n+1)}{12} = \\frac{n^2 - 1}{12}$$\n",
    "\n",
    "Donde\n",
    "\n",
    "$$ x_n = x_1 + n - 1 \\Rightarrow n=x_n-x_1+1$$\n",
    "\n",
    "Sustituyendo tenemos que:\n",
    "\n",
    "$$\\text{Var}(X) = \\frac{(x_n - x_1 + 1)^2 - 1}{12}$$"
   ]
  },
  {
   "cell_type": "markdown",
   "metadata": {},
   "source": [
    "**Ejemplo** Se lleva a cabo una rifa donde los boletos estan numerados del $00$ al $99$. Si $Y$ es la variable aleatoria definida como el número del boleto ganador, entonces:\n",
    "$$\\mathbb{P}(Y=k)=\\begin{cases} \\frac{1}{100} &\\quad \\text{si } k=00,01,\\dots,99 \\\\\n",
    "0 &\\quad \\text{en otro caso} \\end{cases}$$\n",
    "Consideremos que el premio de la rifa se determina a partir del número premiado de la siguiente forma $X=Y+1$, donde $X$ es el monto del premio en pesos y $Y$ es el número premiado, entonces $X$ es una variable aleatoria, pues es una función de $Y$, y además se tiene \n",
    "$$ f_X(k) = \\begin{cases} \\frac{1}{100} &\\quad \\text{si } x=1,2,\\dots,100 \\\\\n",
    "0 &\\quad \\text{en otro caso} \\end{cases}$$"
   ]
  },
  {
   "cell_type": "markdown",
   "metadata": {},
   "source": [
    "$\\color{purple}\\text{Ejercicio 2.}$ Calcular su esperanza y varianza.\n",
    "\n"
   ]
  },
  {
   "cell_type": "code",
   "execution_count": 30,
   "metadata": {},
   "outputs": [
    {
     "data": {
      "text/plain": [
       "50.5"
      ]
     },
     "execution_count": 30,
     "metadata": {},
     "output_type": "execute_result"
    }
   ],
   "source": [
    "# Esperanza \n",
    "xn = 100\n",
    "x1 =1\n",
    "esperanza = (xn+x1)/2\n",
    "esperanza"
   ]
  },
  {
   "cell_type": "code",
   "execution_count": 31,
   "metadata": {},
   "outputs": [
    {
     "data": {
      "text/plain": [
       "833.25"
      ]
     },
     "execution_count": 31,
     "metadata": {},
     "output_type": "execute_result"
    }
   ],
   "source": [
    "# Varianza\n",
    "varianza = ((xn-x1+1)**2 - 1)/12\n",
    "varianza"
   ]
  },
  {
   "cell_type": "markdown",
   "metadata": {},
   "source": [
    "Supongamos que nos interesa calcular la probabilidad de que el premio sea mayor a $80, entonces\n",
    "$$ \\mathbb{P}(X>80) =\\sum_{x=81}^{100} \\frac{1}{100}=0.2$$"
   ]
  },
  {
   "cell_type": "code",
   "execution_count": 6,
   "metadata": {},
   "outputs": [
    {
     "data": {
      "image/png": "[encoded data removed]",
      "text/plain": [
       "<Figure size 1000x600 with 1 Axes>"
      ]
     },
     "metadata": {},
     "output_type": "display_data"
    }
   ],
   "source": [
    "# Distribucion uniforme discreta\n",
    "\n",
    "# Definimos los limites \n",
    "lim_inf = 0\n",
    "lim_sup = 10\n",
    "\n",
    "# Creamos los valores posibles dentro del rango de ña variable aleatoria\n",
    "x = np.arange(lim_inf,lim_sup)\n",
    "\n",
    "# Calculamos la funcion de densidad de la uniforme\n",
    "pmf = np.full_like(x, 1/(lim_sup-lim_inf),dtype='float') # crea un arreglo del mismo tamaño que x, donde todos sus elementos tienen el mismo valor\n",
    "\n",
    "\n",
    "# Grafica de funcion de densidad\n",
    "plt.figure(figsize=(10,6))\n",
    "plt.bar(x,pmf,width=0.2,color='skyblue') # grafica de barras\n",
    "plt.xlabel('Valores')\n",
    "plt.ylabel('Probabilidades')\n",
    "plt.title('Función de densidad de una variable aleatoria uniforme discreta')\n",
    "plt.grid()"
   ]
  },
  {
   "cell_type": "markdown",
   "metadata": {},
   "source": [
    "### Variable aleatoria Bernoulli con parámetro $p \\in (0,1)$"
   ]
  },
  {
   "cell_type": "markdown",
   "metadata": {},
   "source": [
    "Este modelo se aplica a un experiemento cuyo espacio muestral tiene dos resultados\n",
    "$$ \\Omega = \\{\\text{éxito} , \\text{fracaso}\\}$$\n",
    "y definimos\n",
    "- $X(\\{\\text{éxito}\\}) =1$\n",
    "- $X(\\{\\text{fracaso}\\}) =0$\n",
    "Las probabilidades asociadas a este modelo son\n",
    "- $\\mathbb{P}(\\{\\text{éxito}\\}) = p$\n",
    "- $\\mathbb{P}(\\{\\text{fracaso}\\}) = 1-p$\n",
    "donde $0<p<1$.\n",
    "La función de densidad, está definida de la siguiente manera\n",
    "$$ f_X(x) = \\mathbb{P}(X=x) = \\begin{cases} p^x(1-p)^{1-x}, \\quad \\text{si } x\\in \\{0,1\\} \\\\\n",
    "0, \\quad \\text{e.o.c} \\end{cases}$$\n",
    "**Notación:** $X\\sim Ber(p)$\n",
    "\n",
    "Mediante la combinación de v.a. Bernoulli es posible construir otras v.a.\n",
    "\n",
    "La esperanza y varianza de $X\\sim Ber(p)$, está dada por:\n",
    "\n",
    "$$ \\mathbb{E}(X) = \\sum_{x=0}^{1}xf_{X}(x) = 0 \\cdot (1-p) + 1 \\cdot p = p$$\n",
    "\n",
    "$$ \\mathbb{E}(X^2) = \\sum_{x=0}^{1}x^2f_{X}(x) = 0^2 \\cdot (1-p) + 1^2 \\cdot p = p$$\n",
    "\n",
    "entonces\n",
    "\n",
    "$$ \\text{Var}(x) = \\mathbb{E}(X^2) - (\\mathbb{E}(X))^2 = p - p^2 = p(1-p)$$"
   ]
  },
  {
   "cell_type": "code",
   "execution_count": 11,
   "metadata": {},
   "outputs": [
    {
     "name": "stdout",
     "output_type": "stream",
     "text": [
      "La función de densidad es: [0.7 0.3]\n"
     ]
    },
    {
     "data": {
      "image/png": "[encoded data removed]",
      "text/plain": [
       "<Figure size 1000x600 with 1 Axes>"
      ]
     },
     "metadata": {},
     "output_type": "display_data"
    }
   ],
   "source": [
    "# Distribución Bornoulli \n",
    "from scipy.stats import bernoulli\n",
    "\n",
    "# Definimos la probabilidad de exito\n",
    "p = 0.3\n",
    "\n",
    "# Defino los posibles valores de la variable aleatoria\n",
    "x = [0,1]\n",
    "\n",
    "# Calcula funcion de densidad \n",
    "pmf = bernoulli.pmf(x,p)\n",
    "\n",
    "print('La función de densidad es:',pmf)\n",
    "\n",
    "# Graficamos la función de densidad \n",
    "plt.figure(figsize=(10,6))\n",
    "plt.bar(x,pmf,width=0.2,color='skyblue',edgecolor='red') # grafica de barras\n",
    "plt.xlabel('Valores')\n",
    "plt.ylabel('Probabilidades')\n",
    "plt.title('Función de densidad de una variable aleatoria Bernoulli')\n",
    "plt.grid()"
   ]
  },
  {
   "cell_type": "code",
   "execution_count": 12,
   "metadata": {},
   "outputs": [
    {
     "name": "stdout",
     "output_type": "stream",
     "text": [
      "La esperanza es: 0.3\n",
      "La varianza es: 0.21\n"
     ]
    }
   ],
   "source": [
    "# Podemos calcular la esperanza y la varianza de la variable aleatoria bernoulli\n",
    "print('La esperanza es:',bernoulli.mean(p))\n",
    "print('La varianza es:',bernoulli.var(p))"
   ]
  },
  {
   "cell_type": "code",
   "execution_count": null,
   "metadata": {},
   "outputs": [],
   "source": []
  },
  {
   "cell_type": "markdown",
   "metadata": {},
   "source": [
    "**Ejemplo** Una moneda justa se tira seis veces, donde la probabilidad de obtener sol es de $0.3$. Sea $X$ el número de veces que cae sol, entonces dabemos que $X$ tiene una distribución binomial con parámetros $n=6$ y $p=0.3$. Calcular:\n",
    "- $\\mathbb{P}(X=2) = \\binom{6}{2}(0.3)^2 (1-p)^{6-2} = 0.3241$\n",
    "- $\\mathbb{P}(X=3) = \\binom{6}{3}(0.3)^3 (1-p)^{6-3} = 0.1852$\n",
    "- $$ \\begin{align*} \\mathbb{P}(1<X \\le 5) &= \\mathbb{P}(X=2) + \\mathbb{P}(X=3) + \\mathbb{P}(X=4) + \\mathbb{P}(X=5) \\\\\n",
    "    &= 0.3241 + 0.1852 + \\binom{6}{4}(0.3)^4 (1-p)^{6-4} + \\binom{6}{5}(0.3)^5 (1-p)^{6-5}  \\\\\n",
    "    &= 0.579 \\end{align*} $$"
   ]
  },
  {
   "cell_type": "markdown",
   "metadata": {},
   "source": [
    "Vamos a calcular probabilidades en python utilizando el atributo `.cfd`"
   ]
  },
  {
   "cell_type": "markdown",
   "metadata": {},
   "source": [
    "Sabemos que podemos calcular la siguiente probabilidad\n",
    "$$ \\mathbb{P}(1< X \\leq 5) = F_X(5)-F_X(1)$$"
   ]
  },
  {
   "cell_type": "code",
   "execution_count": 13,
   "metadata": {},
   "outputs": [
    {
     "data": {
      "text/plain": [
       "np.float64(0.999271)"
      ]
     },
     "execution_count": 13,
     "metadata": {},
     "output_type": "execute_result"
    }
   ],
   "source": [
    "from scipy.stats import binom\n",
    "\n",
    "binom.cdf(5,6,0.3) # calcular la probabilidad de que haya 5 o menos exitos en 6 ensayos\n"
   ]
  },
  {
   "cell_type": "code",
   "execution_count": 15,
   "metadata": {},
   "outputs": [
    {
     "data": {
      "text/plain": [
       "np.float64(0.4201749999999998)"
      ]
     },
     "execution_count": 15,
     "metadata": {},
     "output_type": "execute_result"
    }
   ],
   "source": [
    "binom.cdf(1,6,0.3) # calcular la probabilidad de que haya 1 o menos exitos en 6 ensayos"
   ]
  },
  {
   "cell_type": "code",
   "execution_count": 16,
   "metadata": {},
   "outputs": [
    {
     "data": {
      "text/plain": [
       "np.float64(0.5790960000000003)"
      ]
     },
     "execution_count": 16,
     "metadata": {},
     "output_type": "execute_result"
    }
   ],
   "source": [
    "binom.cdf(5,6,0.3)-binom.cdf(1,6,0.3) # La probabilidad de que haya más de 1 y hasta 5 exitos en 6 ensayos"
   ]
  },
  {
   "cell_type": "code",
   "execution_count": 28,
   "metadata": {},
   "outputs": [],
   "source": [
    "# Distribucion binomial\n",
    "n = 25 # numero de ensayos bernoulli\n",
    "p = 0.1 # probabilidad de exito en cada ensayo \n",
    "s = 100000 # numero de muestras aleatorias (simulaciones)\n",
    "\n",
    "# vamos a generar los numeros aleatorios con distribucion binomial \n",
    "binom_numeros = binom.rvs(n,p,size=s)\n",
    "\n"
   ]
  },
  {
   "cell_type": "code",
   "execution_count": 29,
   "metadata": {},
   "outputs": [
    {
     "data": {
      "text/plain": [
       "Text(0.5, 1.0, 'Densidad de una variable aleatoria binomial')"
      ]
     },
     "execution_count": 29,
     "metadata": {},
     "output_type": "execute_result"
    },
    {
     "data": {
      "image/png": "[encoded data removed]",
      "text/plain": [
       "<Figure size 1000x600 with 1 Axes>"
      ]
     },
     "metadata": {},
     "output_type": "display_data"
    }
   ],
   "source": [
    "# creamos la grafica \n",
    "plt.figure(figsize=(10,6))\n",
    "plt.hist(\n",
    "    binom_numeros,\n",
    "    density=True,\n",
    "    bins = len(np.unique(binom_numeros)),\n",
    "    color='skyblue',\n",
    "    edgecolor = 'black'\n",
    ")\n",
    "plt.xlabel('Valores')\n",
    "plt.ylabel('Probabilidades')\n",
    "plt.title('Densidad de una variable aleatoria binomial')"
   ]
  },
  {
   "cell_type": "markdown",
   "metadata": {},
   "source": [
    "### Variable aleatoria Poisson"
   ]
  },
  {
   "cell_type": "markdown",
   "metadata": {},
   "source": [
    "Es una distribución de probabilidad discreta que sirve para calcular la probabilidad de que ocurra un determinado número de eventos raros durante un intervalo dado (puede ser tiempo, lingitud, área, etc).\n",
    "Esta v.a. tomavalores sobre el conjunto $\\{0,1,2,...\\}$ y tiene un parámetro $\\lambda>0$, el cual representa el número de veces que se **espera** que ocurra un evento durante un intervalo dado.\n",
    "Su función de densidad, está dado como sigue:\n",
    "$$ f_X(x) = \\mathbb{P}(X=x) = \\begin{cases} e^{-\\lambda}\\frac{\\lambda^x}{x!}, \\quad \\text{si } x\\in \\{0,1,...\\} \\\\\n",
    "0, \\quad \\text{e.o.c} \\end{cases}$$\n",
    "\n",
    "**Notación:** $X \\sim \\text{Poi}(\\lambda)$\n",
    "\n",
    "Notemos que $\\mathbb{E}[X]=\\lambda$ y que $\\text{Var}(X)=\\lambda$."
   ]
  },
  {
   "cell_type": "markdown",
   "metadata": {},
   "source": [
    "**Ejemplo** Supongamos que el número de accidentes que ocurre en un punto en un día tiene distribución Poisson con parámetro $\\lambda=2$,\n",
    "- ¿cuál es la probabilidad de que en un día ocurran más de dos accidentes?\n",
    "  $$ \\begin{align*} \\mathbb{P}(X>2) &= 1- \\mathbb{P}(X\\le 2) \\\\\n",
    "    &= 1- [\\mathbb{P}(X=0) + \\mathbb{P}(X=1) + \\mathbb{P}(X=2)] \\\\\n",
    "    &= 1- \\left[ e^{-2}\\frac{2^0}{0!} + e^{-2}\\frac{2^1}{1!} + e^{-2}\\frac{2^2}{2!} \\right] \\\\\n",
    "    &= 1 - e^{-2}[1+2+2] = 1-5e^{-2} = 0.3233\n",
    "    \\end{align*} $$\n",
    "- ¿cuál es la probabilidad de que ocurran más de dos accidentes sabiendo que por lo menos ocurre uno?\n",
    "  $$ \\begin{align*} \\mathbb{P}(X>2 \\mid X \\ge 1) &= \\frac{\\mathbb{P}(\\{X>2\\} \\cap \\{X \\ge 1\\} )}{\\mathbb{P}\\{X \\ge 1)\\}} \\\\\n",
    "       &= \\frac{\\mathbb{P}(\\{X>2\\})}{\\mathbb{P}\\{X \\ge 1)\\}} \\\\\n",
    "       & = \\frac{.3233}{1-\\mathbb{P}(X<1)} = \\frac{0.3233}{1-e^{-2}}= \\frac{0.3233}{.8646} = 0.3739\n",
    "       \\end{align*} $$"
   ]
  },
  {
   "cell_type": "markdown",
   "metadata": {},
   "source": [
    "$\\color{red}{\\text{Ejercicio 3.}}$ Usando el atributo `.cdf` [Poisson](https://docs.scipy.org/doc/scipy/reference/generated/scipy.stats.poisson.html) calcula las probabilidades anteriores. Y también graficar la función de densidad."
   ]
  },
  {
   "cell_type": "code",
   "execution_count": 32,
   "metadata": {},
   "outputs": [],
   "source": [
    "from scipy.stats import poisson"
   ]
  },
  {
   "cell_type": "code",
   "execution_count": 34,
   "metadata": {},
   "outputs": [
    {
     "data": {
      "text/plain": [
       "np.float64(0.3233235838169366)"
      ]
     },
     "execution_count": 34,
     "metadata": {},
     "output_type": "execute_result"
    }
   ],
   "source": [
    "# Primera probabilidad \n",
    "1-poisson.cdf(2,2)"
   ]
  },
  {
   "cell_type": "code",
   "execution_count": 42,
   "metadata": {},
   "outputs": [
    {
     "data": {
      "text/plain": [
       "np.float64(0.37392942900133747)"
      ]
     },
     "execution_count": 42,
     "metadata": {},
     "output_type": "execute_result"
    }
   ],
   "source": [
    "# Segunda probabilidad\n",
    "(1-poisson.cdf(2,2))/(1-poisson.cdf(0,2))"
   ]
  },
  {
   "cell_type": "code",
   "execution_count": 43,
   "metadata": {},
   "outputs": [],
   "source": [
    "# Distribución Poisson \n",
    "lam = 2\n",
    "s = 100000\n",
    "\n",
    "# generamos los numeros\n",
    "poisson_numeros = poisson.rvs(lam,size=s)"
   ]
  },
  {
   "cell_type": "code",
   "execution_count": 44,
   "metadata": {},
   "outputs": [
    {
     "data": {
      "text/plain": [
       "Text(0.5, 1.0, 'Densidad de una variable aleatoria de Poisson con lambda=2')"
      ]
     },
     "execution_count": 44,
     "metadata": {},
     "output_type": "execute_result"
    },
    {
     "data": {
      "image/png": "[encoded data removed]",
      "text/plain": [
       "<Figure size 1000x600 with 1 Axes>"
      ]
     },
     "metadata": {},
     "output_type": "display_data"
    }
   ],
   "source": [
    "# creamos la grafica \n",
    "plt.figure(figsize=(10,6))\n",
    "plt.hist(\n",
    "    poisson_numeros,\n",
    "    density=True,\n",
    "    bins = len(np.unique(poisson_numeros)),\n",
    "    color='skyblue',\n",
    "    edgecolor = 'black'\n",
    ")\n",
    "plt.xlabel('Valores')\n",
    "plt.ylabel('Probabilidades')\n",
    "plt.title('Densidad de una variable aleatoria de Poisson con lambda=2')"
   ]
  },
  {
   "cell_type": "code",
   "execution_count": null,
   "metadata": {},
   "outputs": [],
   "source": []
  }
 ],
 "metadata": {
  "kernelspec": {
   "display_name": "analisis",
   "language": "python",
   "name": "python3"
  },
  "language_info": {
   "codemirror_mode": {
    "name": "ipython",
    "version": 3
   },
   "file_extension": ".py",
   "mimetype": "text/x-python",
   "name": "python",
   "nbconvert_exporter": "python",
   "pygments_lexer": "ipython3",
   "version": "3.9.19"
  }
 },
 "nbformat": 4,
 "nbformat_minor": 2
}
