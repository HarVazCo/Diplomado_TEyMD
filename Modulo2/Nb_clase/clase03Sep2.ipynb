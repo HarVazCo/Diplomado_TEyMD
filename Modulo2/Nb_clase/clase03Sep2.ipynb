{
 "cells": [
  {
   "cell_type": "markdown",
   "metadata": {},
   "source": [
    "# Probabilidad Frecuentista"
   ]
  },
  {
   "cell_type": "markdown",
   "metadata": {},
   "source": [
    "El espacio muestral es un conjunto finito, y podemos definir la probabilidad asociada a un evento $A$:\n",
    "\n",
    "$$ f_n(A) = \\frac{n(A)}{n} $$\n",
    "\n",
    "donde $n(A)$ es el número de veces que ocurre $A$ y $n$ es el número de veces que se realiza el experimento."
   ]
  },
  {
   "cell_type": "code",
   "execution_count": 1,
   "metadata": {},
   "outputs": [],
   "source": [
    "import random # para generar numeros aleatorios"
   ]
  },
  {
   "cell_type": "code",
   "execution_count": 2,
   "metadata": {},
   "outputs": [],
   "source": [
    "def volado(p): # probabilidad de obtener sol\n",
    "    r = 'sol' if random.random() < p else 'aguila' # random.random() genera un numero entre 0 y 1\n",
    "    return r"
   ]
  },
  {
   "cell_type": "code",
   "execution_count": 3,
   "metadata": {},
   "outputs": [
    {
     "data": {
      "text/plain": [
       "'aguila'"
      ]
     },
     "execution_count": 3,
     "metadata": {},
     "output_type": "execute_result"
    }
   ],
   "source": [
    "volado(0.4)"
   ]
  },
  {
   "cell_type": "code",
   "execution_count": 4,
   "metadata": {},
   "outputs": [
    {
     "data": {
      "text/plain": [
       "['sol',\n",
       " 'aguila',\n",
       " 'aguila',\n",
       " 'aguila',\n",
       " 'sol',\n",
       " 'sol',\n",
       " 'aguila',\n",
       " 'aguila',\n",
       " 'aguila',\n",
       " 'sol']"
      ]
     },
     "execution_count": 4,
     "metadata": {},
     "output_type": "execute_result"
    }
   ],
   "source": [
    "# vamos a realizar 10 volados con p=0.4\n",
    "a = [volado(0.4) for i in range(10)]\n",
    "a"
   ]
  },
  {
   "cell_type": "code",
   "execution_count": 5,
   "metadata": {},
   "outputs": [
    {
     "data": {
      "text/plain": [
       "4"
      ]
     },
     "execution_count": 5,
     "metadata": {},
     "output_type": "execute_result"
    }
   ],
   "source": [
    "# para contar el numero de soles en la lista \n",
    "a.count('sol')"
   ]
  },
  {
   "cell_type": "code",
   "execution_count": 6,
   "metadata": {},
   "outputs": [
    {
     "data": {
      "text/plain": [
       "6"
      ]
     },
     "execution_count": 6,
     "metadata": {},
     "output_type": "execute_result"
    }
   ],
   "source": [
    "a.count('aguila')"
   ]
  },
  {
   "cell_type": "code",
   "execution_count": 7,
   "metadata": {},
   "outputs": [],
   "source": [
    "resultados = []"
   ]
  },
  {
   "cell_type": "code",
   "execution_count": 8,
   "metadata": {},
   "outputs": [
    {
     "data": {
      "text/plain": [
       "['sol',\n",
       " 'aguila',\n",
       " 'sol',\n",
       " 'aguila',\n",
       " 'aguila',\n",
       " 'sol',\n",
       " 'aguila',\n",
       " 'aguila',\n",
       " 'aguila',\n",
       " 'aguila']"
      ]
     },
     "execution_count": 8,
     "metadata": {},
     "output_type": "execute_result"
    }
   ],
   "source": [
    "for i in range(10):\n",
    "    resultado = volado(0.4)\n",
    "    resultados.append(resultado)\n",
    "\n",
    "resultados"
   ]
  },
  {
   "cell_type": "markdown",
   "metadata": {},
   "source": [
    "<font size=\"5\">**Ahora vamos a simular nuestra probabilidad frecuentista**</font>"
   ]
  },
  {
   "cell_type": "code",
   "execution_count": 9,
   "metadata": {},
   "outputs": [
    {
     "name": "stdout",
     "output_type": "stream",
     "text": [
      "Probabilidad frecuentista promedio de obtener sol: 0.5997660000000005\n"
     ]
    }
   ],
   "source": [
    "p = [] # lista vacia de probabilidades\n",
    "\n",
    "for i in range(1000): # realizamos 1000 experimentos\n",
    "    n = 1000 # cada experimeto tiene 1000 volados\n",
    "    resultados = [] # almacena 'sol' o 'aguila'\n",
    "\n",
    "    for j in range(n):\n",
    "        resultado = volado(0.6)\n",
    "        resultados.append(resultado)\n",
    "\n",
    "    n_soles = resultados.count('sol') # cuenta el numero de soles\n",
    "    p_soles = n_soles / n # calcula la probabilidad frecuentista \n",
    "    p.append(p_soles) # almacena las probabilidades\n",
    "\n",
    "# Probabilidad frecuentista promedio\n",
    "p_soles_prom = sum(p) / 1000 # por la ley de los grandes numeros\n",
    "\n",
    "print(f'Probabilidad frecuentista promedio de obtener sol: {p_soles_prom}')"
   ]
  },
  {
   "cell_type": "code",
   "execution_count": null,
   "metadata": {},
   "outputs": [],
   "source": []
  }
 ],
 "metadata": {
  "kernelspec": {
   "display_name": "analisis",
   "language": "python",
   "name": "python3"
  },
  "language_info": {
   "codemirror_mode": {
    "name": "ipython",
    "version": 3
   },
   "file_extension": ".py",
   "mimetype": "text/x-python",
   "name": "python",
   "nbconvert_exporter": "python",
   "pygments_lexer": "ipython3",
   "version": "3.9.19"
  }
 },
 "nbformat": 4,
 "nbformat_minor": 2
}
