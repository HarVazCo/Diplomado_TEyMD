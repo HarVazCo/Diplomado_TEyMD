{
 "cells": [
  {
   "cell_type": "markdown",
   "metadata": {},
   "source": [
    "## Equipo 2\n",
    "\n",
    "#### Integrantes:\n",
    "- Contreras Acosta Noel Alejandro\n",
    "- Perez Alvarado Alfonso\n",
    "- Rosales Peña Juan Pablo\n",
    "- Vázquez Corrilo Harold"
   ]
  },
  {
   "cell_type": "markdown",
   "metadata": {},
   "source": [
    "# Estimador Máximo Verosimil"
   ]
  },
  {
   "cell_type": "markdown",
   "metadata": {},
   "source": [
    "**Ejemplo 1.** Lanzamos una moneda 100 veces, sabiendo que se obtienen 55 soles. Encontrar el EMV para la probabilidad $p$ de obtener sol en un solo lanzamiento.\n",
    "\n",
    "Si $X$: el número de soles que se obtiene al lanzar una moneda, se tiene que $X \\sim Bin(100,p)$, es decir \n",
    "$$f(55 \\ \\text{soles}; p) = \\binom{100}{55} p^{55} (1-p)^{100-55} $$"
   ]
  },
  {
   "cell_type": "code",
   "execution_count": 10,
   "metadata": {},
   "outputs": [],
   "source": [
    "from scipy.stats import binom\n",
    "import numpy as np\n",
    "import sympy # Para calculo simbolico y algebraico\n",
    "from sympy.abc import x"
   ]
  },
  {
   "cell_type": "code",
   "execution_count": 11,
   "metadata": {},
   "outputs": [
    {
     "name": "stdout",
     "output_type": "stream",
     "text": [
      "El estimador de máxima verosimilitud para p es: 11/20\n"
     ]
    }
   ],
   "source": [
    "# Vamos a definir a p como una variable simbolica positiva \n",
    "p = sympy.symbols('p',positive=True)\n",
    "\n",
    "# Definimos f\n",
    "f = p**55 * (1-p)**(100-55)\n",
    "\n",
    "# Derivamos f respecto a p\n",
    "df = sympy.diff(f,p)\n",
    "\n",
    "# Igualamos la derivada a cero y despejamos p\n",
    "phat = sympy.solve(df,p)[0]\n",
    "\n",
    "print(f'El estimador de máxima verosimilitud para p es: {phat}')"
   ]
  },
  {
   "cell_type": "code",
   "execution_count": 12,
   "metadata": {},
   "outputs": [],
   "source": [
    "''' \n",
    "Veamos otro ejemplo\n",
    "\n",
    "\n",
    "Simularemos una muestra de tamaño 100\n",
    "'''\n",
    "\n",
    "r = binom.rvs(n=1, p=0.7, size=100)"
   ]
  },
  {
   "cell_type": "code",
   "execution_count": 13,
   "metadata": {},
   "outputs": [
    {
     "name": "stdout",
     "output_type": "stream",
     "text": [
      "El estimador de maxima verosimilitud es: 17/25\n"
     ]
    }
   ],
   "source": [
    "f = p**x * (1-p)**(1-x)\n",
    "j = np.prod([f.subs(x,i) for i in r])\n",
    "logj = sympy.expand_log(sympy.log(j))\n",
    "phat = sympy.solve(sympy.diff(logj,p),p)[0]\n",
    "print('El estimador de maxima verosimilitud es:',phat)"
   ]
  },
  {
   "cell_type": "markdown",
   "metadata": {},
   "source": [
    "**Ejercicio:** El tiempo de retardo para pacientes con enfermedad coronaria potencial se define como la duración entre el comienzo de un síntoma agudo cardiovascular y la llegada a la unidad de emergencia.\n",
    "Se supone que el tiempo de retardo sigue una distribución exponencial con parámetro $\\theta $.\n",
    "Se registraron los tiempos de retardo (en minutos) en la clínica para los primeros 20 pacientes:\n",
    "$$ 525, \\ 719, \\ 2880, \\ 150, \\ 30, \\ 251, \\ 45, \\ 858, \\ 15, \\ 47, \\ 90, \\ 56, \\ 68, \\ 6, \\ 189, \\ 180, \\ 60, \\ 60, \\ 294, \\ 747 $$\n",
    "- Encuentra un estimador por el **método de momentos** para la media de la distribución (exponencial).\n",
    "  Recordemos que si $X\\sim Exp(\\theta)$, entonces $\\mathbb{E}[X]=\\frac{1}{\\theta}$\n",
    "- (Python) Encuentra el valor del estimador con los datos dados."
   ]
  },
  {
   "cell_type": "markdown",
   "metadata": {},
   "source": [
    "**Inciso 1**\n",
    "\n",
    "Sabemos que para una distribución exponencial $\\mathbb{E}[X] = \\frac{1}{\\theta}$ y que el momento muestral $m_1 = \\frac{1}{n}\\sum_{i=1}^{n}x_i$, igualando los momentos obtenemos \n",
    "$$ \\frac{1}{\\theta} = \\frac{1}{n}\\sum_{i=1}^{n}x_i = \\bar{x}$$\n",
    "y despejando, llegamos al estimador \n",
    "$$ \\hat{\\theta} = \\frac{1}{\\bar{x}}$$"
   ]
  },
  {
   "cell_type": "markdown",
   "metadata": {},
   "source": [
    "**Inciso 2**"
   ]
  },
  {
   "cell_type": "code",
   "execution_count": 14,
   "metadata": {},
   "outputs": [],
   "source": [
    "# Llamamos a las librerias que ocuparemos\n",
    "import numpy as np"
   ]
  },
  {
   "cell_type": "code",
   "execution_count": 17,
   "metadata": {},
   "outputs": [
    {
     "name": "stdout",
     "output_type": "stream",
     "text": [
      "El valor del estimador es: 0.002751031636863824\n"
     ]
    }
   ],
   "source": [
    "# Creamos un arreglo con los datos \n",
    "datos = np.array([525, 719, 2880, 150, 30, 251, 45, 858, 15, 47, \n",
    "                 90, 56, 68, 6, 189, 180, 60, 60, 294, 747])\n",
    "\n",
    "# Calculamos la media \n",
    "media = np.mean(datos)\n",
    "\n",
    "# Calculamos el estimador\n",
    "theta_hat = 1/media\n",
    "\n",
    "# Imprimimos el valor del estimador\n",
    "print('El valor del estimador es:',theta_hat)"
   ]
  },
  {
   "cell_type": "markdown",
   "metadata": {},
   "source": [
    "**Ejercicio (Python)**. Suponga que la vida util de los focos de cierta marca, se modela mediante una distribución exponencial de parametro  θ  (desconocido). Probamos 5 focos y encontramos que tienen una vida útil de  2,3,1,3  y  5  años, respectivamente. ¿Cuál es el MLE para  θ ?\n"
   ]
  },
  {
   "cell_type": "code",
   "execution_count": 21,
   "metadata": {},
   "outputs": [],
   "source": [
    "# Llamamos a las librerias que ocuparemos \n",
    "import numpy as np\n",
    "import sympy # Para calculo simbolico y algebraico\n",
    "from sympy.abc import x\n",
    "\n",
    "# Vamos a definir a t como una variable simbolica positiva \n",
    "t = sympy.symbols('t',positive=True)"
   ]
  },
  {
   "cell_type": "code",
   "execution_count": 20,
   "metadata": {},
   "outputs": [],
   "source": [
    "# Creamos un arreglo con los datos \n",
    "r = np.array([2,3,1,3,5])"
   ]
  },
  {
   "cell_type": "code",
   "execution_count": null,
   "metadata": {},
   "outputs": [
    {
     "name": "stdout",
     "output_type": "stream",
     "text": [
      "El estimador de maxima verosimilitud es: 5/14\n"
     ]
    }
   ],
   "source": [
    "# Calculamos el estimador de maxima verosimilitud usando calculo simbólico \n",
    "f = t * sympy.exp(-t*x) # distribución exponencial \n",
    "j = np.prod([f.subs(x,i) for i in r]) # se sustituyen los datos en la función y se hace el producto\n",
    "logj = sympy.expand_log(sympy.log(j))\n",
    "that = sympy.solve(sympy.diff(logj,t),t)[0]\n",
    "print('El estimador de maxima verosimilitud es:',that)"
   ]
  },
  {
   "cell_type": "markdown",
   "metadata": {},
   "source": [
    "**Ejemplo.** Sea $x_1,\\dots,x_n$ una m.a $Poisson(\\lambda)$\n",
    "$$ f(x_i;\\lambda) = e^{-\\lambda}\\frac{\\lambda^{x_i}}{x_i !}, \\quad i\\in\\{1,2,\\dots,n\\}$$\n",
    "1. Encontrar EMV\n",
    "2. ¿es insesgado?\n",
    "3. ECM"
   ]
  },
  {
   "cell_type": "markdown",
   "metadata": {},
   "source": [
    "**Inciso 1**\n",
    "\n",
    "$$L(x_1\\dots x_n;\\theta) = \\prod_{i=1}^{n} e^{-\\theta}\\frac{\\theta^{x_i}}{x_i !} = \\frac{e^{-n\\theta}\\theta^{\\sum x_i}}{x_1!\\dots x_n!}$$\n",
    "\n",
    "$$\\log{L(x_1\\dots x_n;\\theta)} = \\log{e^{-n\\theta}\\theta^{\\sum x_i}} - \\log{x_1!\\dots x_n!} = -n\\theta + \\sum x_i \\log{\\theta} - \\sum \\log{x_i!}$$\n",
    "derivando $L(x_i;\\theta)$ e igualando a cero\n",
    "$$ \\frac{dL(x_i;\\theta)}{d\\theta} = -n + \\frac{\\sum x_i}{\\theta} = 0$$\n",
    "así\n",
    "$$ \\frac{\\sum x_i}{\\theta} = n \\rightarrow  \\theta = \\frac{\\sum x_i}{n} \\quad \\text{entonces} \\quad \\hat{\\theta} = \\bar{x}$$"
   ]
  },
  {
   "cell_type": "markdown",
   "metadata": {},
   "source": [
    "**Inciso 2**\n",
    "$$ \\mathbb{E}[\\hat{\\theta}] = \\mathbb{E}\\left[\\frac{\\sum x_i}{n}\\right] = \\frac{1}{n}\\sum \\mathbb{E}[x_i] = \\frac{1}{n}\\sum \\theta = \\frac{n\\theta}{n} = \\theta $$"
   ]
  },
  {
   "cell_type": "markdown",
   "metadata": {},
   "source": [
    "**Inciso 3**\n",
    "$$\\begin{align*}ECM(\\hat{\\theta}) &= Var(\\hat{\\theta}) = Var\\left(\\frac{\\sum x_i}{n} \\right) = \\frac{1}{n^2} \\sum Var(x_i) \\\\ & = \\frac{1}{n^2} \\sum \\theta = \\frac{n\\theta}{n^2} = \\frac{\\theta}{n} \\end{align*}$$\n",
    "disminuye a medida que aumenta la cantidad de datos."
   ]
  }
 ],
 "metadata": {
  "kernelspec": {
   "display_name": "analisis",
   "language": "python",
   "name": "python3"
  },
  "language_info": {
   "codemirror_mode": {
    "name": "ipython",
    "version": 3
   },
   "file_extension": ".py",
   "mimetype": "text/x-python",
   "name": "python",
   "nbconvert_exporter": "python",
   "pygments_lexer": "ipython3",
   "version": "3.9.19"
  }
 },
 "nbformat": 4,
 "nbformat_minor": 2
}
