{
 "cells": [
  {
   "cell_type": "markdown",
   "metadata": {
    "id": "lU2x5qpOHS_Y"
   },
   "source": [
    "# Tarea. Intervalos de confianza (equipo)\n",
    "\n",
    "- Entregar 3 (2 del 2, 4 o 5) y uno del 1 o 3\n",
    "- Conclusión"
   ]
  },
  {
   "cell_type": "markdown",
   "metadata": {},
   "source": [
    "**Ejercicio 1** \n",
    "\n",
    "En una encuesta de una Universidad, 225 estudiantes son seleccionados al azar de los que toman cálculo y se les pregunta si cálculo es su materia favorita. 100 estudiantes responden que el cálculo es su materia favorita. Proporcione un intervalo de confianza del 95 %  para la proporción de todos los estudiantes que toman cálculo y que la consideran su materia favorita.  "
   ]
  },
  {
   "cell_type": "code",
   "execution_count": 21,
   "metadata": {},
   "outputs": [],
   "source": [
    "import numpy as np\n",
    "import scipy.stats as st\n",
    "from statistics import stdev # función para calcular desviación estándar muestral"
   ]
  },
  {
   "cell_type": "code",
   "execution_count": null,
   "metadata": {},
   "outputs": [
    {
     "name": "stdout",
     "output_type": "stream",
     "text": [
      "El intervalo de confianza es: (0.378,0.512)\n"
     ]
    }
   ],
   "source": [
    "# Datos \n",
    "n = 225 # Tamaño de la muestra\n",
    "x = 100 # Numero de exitos (materia favorita)\n",
    "confianza = 0.95\n",
    "\n",
    "# Realizamos una prueba binomial \n",
    "prueba = st.binomtest(x,n) \n",
    "\n",
    "# Obtenemos el intervalo de confianza\n",
    "inter = prueba.proportion_ci(confianza) # como n>30, utilizamos una aproximación normal\n",
    "\n",
    "print(f'El intervalo de confianza es: ({inter[0]:.3f},{inter[1]:.3f})')"
   ]
  },
  {
   "cell_type": "markdown",
   "metadata": {},
   "source": [
    "**Ejercicio 2** Los datos $1.2,\\ 2.1,\\ 2.3,\\ 1.9,\\ 3.0,\\ 1.5,\\ 2.8,\\ 2.4,\\ 1.7,\\ 2.6,\\ 2.0,\\ 1.8,\\ 3.1,\\ 2.2,\\ 2.5$ se toman a partir de una distribución normal $N(\\mu,\\sigma^2)$ con $\\mu$ desconocida.\n",
    "\n",
    "**a)** Encuentra un intervalo de confianza al nivel de $90\\%$ para $\\mu$, dado que $\\sigma =2$.\n",
    "\n",
    "**b)** Encuentra un intervalo de confianza al nivel de $90\\%$ para $\\mu$.\n",
    "\n",
    "**c)** Encuentra un intervalo de confianza al nivel de $90\\%$ para $\\sigma^2$."
   ]
  },
  {
   "cell_type": "code",
   "execution_count": 22,
   "metadata": {},
   "outputs": [
    {
     "name": "stdout",
     "output_type": "stream",
     "text": [
      "Media muestral es: 2.21\n",
      "El intervalo de confianza del 90.0% es: (1.357,3.056)\n",
      "Media muestral es: 2.21\n",
      "El intervalo de confianza del 90.0% es: (1.959,2.454)\n",
      "El intervalo de confianza para la varianza del 90.0% es: (0.175,0.631)\n"
     ]
    }
   ],
   "source": [
    "# Datos \n",
    "datos = [1.2,2.1,2.3,1.9,3.0,1.5,2.8,2.4,1.7,2.6,2.0,1.8,3.1,2.2,2.5]\n",
    "n = len(datos)\n",
    "\n",
    "# a) Conocemos la desviación estándar, usaremos a la normal\n",
    "confianza = 0.90\n",
    "sigma = 2\n",
    "media_muestral = np.mean(datos)\n",
    "error_std = sigma/np.sqrt(n)\n",
    "\n",
    "# Calculamos el intervalo de confianza\n",
    "intervalo = st.norm.interval(confianza,loc=media_muestral, scale=error_std)\n",
    "\n",
    "# Imprimimos los resultados\n",
    "print(f'Media muestral es: {media_muestral:.2f}')\n",
    "print(f'El intervalo de confianza del {confianza*100}% es: ({intervalo[0]:.3f},{intervalo[1]:.3f})')\n",
    "\n",
    "\n",
    "\n",
    "\n",
    "# b) No conocemos la desviación estándar, usaremo t de Student \n",
    "confianza = 0.90\n",
    "gl = n - 1\n",
    "\n",
    "media_muestral = np.mean(datos)\n",
    "error_std = st.sem(datos) # std error of the mean utilizando la desviación estándar muestral\n",
    "\n",
    "# Utilizamos la distribución t de Student\n",
    "intervalo = st.t.interval(confianza, df=gl, loc=media_muestral, scale=error_std)\n",
    "\n",
    "print(f'Media muestral es: {media_muestral:.2f}')\n",
    "print(f'El intervalo de confianza del {confianza*100}% es: ({intervalo[0]:.3f},{intervalo[1]:.3f})')\n",
    "\n",
    "\n",
    "\n",
    "# c) Intervalo de confianza para la varianza\n",
    "confianza = 0.90\n",
    "gl = n - 1\n",
    "alpha = 1 - confianza\n",
    "desv_muestral = stdev(datos) \n",
    "s2 = desv_muestral**2\n",
    "\n",
    "# Calculamos el intervalo de confianza para la varianza\n",
    "chi2_inf,chi2_sup = st.chi2.interval(confianza,df=gl)\n",
    "inter_vari2 = ((gl*s2)/chi2_sup,(gl*s2)/chi2_inf)\n",
    "print(f'El intervalo de confianza para la varianza del {confianza*100}% es: ({inter_vari2[0]:.3f},{inter_vari2[1]:.3f})')"
   ]
  },
  {
   "cell_type": "markdown",
   "metadata": {
    "id": "DBQyaEKLGnwg"
   },
   "source": [
    "\n",
    "     \n",
    "**Ejercicio 3** Los ingresos semanales promedio de las personas que trabajan en varias industrias aparecieron en el *The New York Times 1988 Almanac*.  \n",
    "Esos ingresos para quienes trabajan en los servicios fueron de $\\$369$. Suponga que este resultado se basó en una muestra de 250 personas dedicadas a los servicios y que la desviación estándar de la muestra fue de $\\$50$. Calcula el intervalo de confianza del 95% para la media de la población de ingresos semanales de personas que trabajan en los servicios.\n",
    "\n",
    "**Ejercicio 4** En un estudio de préstamos a estudiantes, el Departamento de Educación informó que los beneficiarios del fondo Stafford Loan deberían un promedio de \\$12,658 al recibirse (*USA Today*, 5 de abril de 1995). Suponga que este promedio de deuda se basa en una muestra de 480 préstamos a estudiantes y que la desviación estándar de la población de las deudas al recibirse es \\$2,000.\n",
    "\n",
    "**a)** Determina un estimado de confianza del **90%** del promedio poblacional de la deuda.\n",
    "\n",
    "**b)** Determina un estimado de confianza del **95%** del promedio poblacional de la deuda.\n",
    "\n",
    "**c)** Determina un estimado de confianza del **99%** del promedio poblacional de la deuda.\n",
    "\n",
    "**d)** Describe lo que sucede con el **ancho del intervalo de confianza** a medida que se **aumenta el nivel de confianza**. ¿Parece razonable? Explica tu respuesta.\n",
    "\n",
    "**Ejercicio 5** La encuesta anual de calidad de automóviles, efectuada por *J. D. Power & Associates*, determinó que la cantidad promedio de defectos, en todas las marcas, por cada vehículo nuevo es **1.07**  (*The Wall Street Journal*, 27 de enero de 1994). Suponga que se toma una muestra de **30 automóviles nuevos** de determinada marca y se obtienen las siguientes cantidades de defectos por vehículo:\n",
    "$$ 0, 1, 1, 2, 1, 0, 2, 3, 2, 1, 0, 2, 0, 0, 2, 3, 0, 4, 3, 1, 1, 1, 0, 2, 0, 2, 0, 3, 1, 0 $$\n",
    "\n",
    "**a)** ¿Cuál es el promedio muestral de la cantidad de defectos por vehículo?\n",
    "\n",
    "**b)** ¿Cuál es la desviación estándar de la muestra?\n",
    "\n",
    "**c)** Determine un intervalo de confianza del 95% para la **media de defectos** por vehículo de esta marca.\n",
    "\n",
    "**d)** Un analista sugirió que se debería **revisar una muestra mayor** antes de comparar con el promedio general de J.D. Power (1.07). ¿Respalda usted esta idea? ¿Por qué?"
   ]
  },
  {
   "cell_type": "markdown",
   "metadata": {},
   "source": []
  }
 ],
 "metadata": {
  "colab": {
   "provenance": []
  },
  "kernelspec": {
   "display_name": "analisis",
   "language": "python",
   "name": "python3"
  },
  "language_info": {
   "codemirror_mode": {
    "name": "ipython",
    "version": 3
   },
   "file_extension": ".py",
   "mimetype": "text/x-python",
   "name": "python",
   "nbconvert_exporter": "python",
   "pygments_lexer": "ipython3",
   "version": "3.9.19"
  }
 },
 "nbformat": 4,
 "nbformat_minor": 4
}
