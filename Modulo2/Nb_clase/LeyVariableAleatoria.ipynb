{
 "cells": [
  {
   "cell_type": "code",
   "execution_count": null,
   "id": "7367cbba",
   "metadata": {},
   "outputs": [],
   "source": []
  },
  {
   "cell_type": "markdown",
   "id": "66b67bb8",
   "metadata": {},
   "source": [
    "# La variable aleatoria asociada al evento $S_{n}$"
   ]
  },
  {
   "cell_type": "code",
   "execution_count": 2,
   "id": "22ba0a16",
   "metadata": {},
   "outputs": [],
   "source": [
    "from fractions import Fraction"
   ]
  },
  {
   "cell_type": "code",
   "execution_count": 3,
   "id": "bed39c5e",
   "metadata": {},
   "outputs": [],
   "source": [
    "# Definimos la función de probabildiad P(A)\n",
    "def P(A):\n",
    "    P = Fraction(len(A),len(Omega))\n",
    "    return P"
   ]
  },
  {
   "cell_type": "markdown",
   "id": "ae754b01",
   "metadata": {},
   "source": [
    "# Vamos a introducir que es un diccionario en Python\n",
    "\n",
    "Un diccionario es un objeto que se crea a partir de algo que se llama \"llave\" y nos arroja \"valores\".\n",
    "$$ \\{ \\text{key} : \\text{valores} \\} $$"
   ]
  },
  {
   "cell_type": "code",
   "execution_count": 5,
   "id": "f998c06a",
   "metadata": {},
   "outputs": [
    {
     "data": {
      "text/plain": [
       "{'Claudia': ['Masha', 'Snow'],\n",
       " 'Calificaciones': [10, 9.5, 8],\n",
       " 'Documento': ['G2436778']}"
      ]
     },
     "execution_count": 5,
     "metadata": {},
     "output_type": "execute_result"
    }
   ],
   "source": [
    "dict = { 'Claudia' : ['Masha', 'Snow'], 'Calificaciones' : [10, 9.5, 8], 'Documento' : ['G2436778']}\n",
    "dict"
   ]
  },
  {
   "cell_type": "markdown",
   "id": "78b78052",
   "metadata": {},
   "source": [
    "Otra forma de crear diccionarios es usando `dict()`\n",
    "\n",
    "dict = dict( [ ('Claudia', ['Masha', 'Snow']), ('Calif', [])]) "
   ]
  },
  {
   "cell_type": "code",
   "execution_count": null,
   "id": "dd4451df",
   "metadata": {},
   "outputs": [
    {
     "data": {
      "text/plain": [
       "dict"
      ]
     },
     "execution_count": 6,
     "metadata": {},
     "output_type": "execute_result"
    }
   ],
   "source": [
    "type(dict)  "
   ]
  },
  {
   "cell_type": "code",
   "execution_count": 7,
   "id": "8db08b8f",
   "metadata": {},
   "outputs": [
    {
     "data": {
      "text/plain": [
       "dict_keys(['Claudia', 'Calificaciones', 'Documento'])"
      ]
     },
     "execution_count": 7,
     "metadata": {},
     "output_type": "execute_result"
    }
   ],
   "source": [
    "# Las llaves del dicccionario se muestran de la siguiente\n",
    "dict.keys()"
   ]
  },
  {
   "cell_type": "code",
   "execution_count": 8,
   "id": "5588679f",
   "metadata": {},
   "outputs": [
    {
     "data": {
      "text/plain": [
       "dict_values([['Masha', 'Snow'], [10, 9.5, 8], ['G2436778']])"
      ]
     },
     "execution_count": 8,
     "metadata": {},
     "output_type": "execute_result"
    }
   ],
   "source": [
    "# Puedo obtener los valores del diccionario\n",
    "dict.values()"
   ]
  },
  {
   "cell_type": "code",
   "execution_count": 10,
   "id": "c297c7a3",
   "metadata": {},
   "outputs": [
    {
     "data": {
      "text/plain": [
       "{(1, 1),\n",
       " (1, 2),\n",
       " (1, 3),\n",
       " (1, 4),\n",
       " (1, 5),\n",
       " (1, 6),\n",
       " (2, 1),\n",
       " (2, 2),\n",
       " (2, 3),\n",
       " (2, 4),\n",
       " (2, 5),\n",
       " (2, 6),\n",
       " (3, 1),\n",
       " (3, 2),\n",
       " (3, 3),\n",
       " (3, 4),\n",
       " (3, 5),\n",
       " (3, 6),\n",
       " (4, 1),\n",
       " (4, 2),\n",
       " (4, 3),\n",
       " (4, 4),\n",
       " (4, 5),\n",
       " (4, 6),\n",
       " (5, 1),\n",
       " (5, 2),\n",
       " (5, 3),\n",
       " (5, 4),\n",
       " (5, 5),\n",
       " (5, 6),\n",
       " (6, 1),\n",
       " (6, 2),\n",
       " (6, 3),\n",
       " (6, 4),\n",
       " (6, 5),\n",
       " (6, 6)}"
      ]
     },
     "execution_count": 10,
     "metadata": {},
     "output_type": "execute_result"
    }
   ],
   "source": [
    "from itertools import product\n",
    "Omega = set(product([1,2,3,4,5,6],repeat=2))\n",
    "Omega"
   ]
  },
  {
   "cell_type": "code",
   "execution_count": 12,
   "id": "bbec98bd",
   "metadata": {},
   "outputs": [
    {
     "data": {
      "text/plain": [
       "{(3, 4): 7,\n",
       " (4, 3): 7,\n",
       " (3, 1): 4,\n",
       " (5, 4): 9,\n",
       " (4, 6): 10,\n",
       " (5, 1): 6,\n",
       " (2, 2): 4,\n",
       " (1, 6): 7,\n",
       " (2, 5): 7,\n",
       " (1, 3): 4,\n",
       " (6, 2): 8,\n",
       " (6, 5): 11,\n",
       " (4, 2): 6,\n",
       " (4, 5): 9,\n",
       " (3, 3): 6,\n",
       " (5, 6): 11,\n",
       " (3, 6): 9,\n",
       " (5, 3): 8,\n",
       " (2, 4): 6,\n",
       " (1, 2): 3,\n",
       " (2, 1): 3,\n",
       " (1, 5): 6,\n",
       " (6, 1): 7,\n",
       " (6, 4): 10,\n",
       " (3, 2): 5,\n",
       " (4, 1): 5,\n",
       " (3, 5): 8,\n",
       " (5, 2): 7,\n",
       " (4, 4): 8,\n",
       " (5, 5): 10,\n",
       " (1, 1): 2,\n",
       " (1, 4): 5,\n",
       " (2, 3): 5,\n",
       " (2, 6): 8,\n",
       " (6, 6): 12,\n",
       " (6, 3): 9}"
      ]
     },
     "execution_count": 12,
     "metadata": {},
     "output_type": "execute_result"
    }
   ],
   "source": [
    "# Vamos a crear un diccionario para el evento S_n\n",
    "\n",
    "S = { (i,j) : i+j for i,j in Omega }\n",
    "S"
   ]
  },
  {
   "cell_type": "code",
   "execution_count": 13,
   "id": "eebac380",
   "metadata": {},
   "outputs": [],
   "source": [
    "# Vamos a agrupar combinaciones por suma (mismo resultado)\n",
    "from collections import defaultdict\n",
    "dS = defaultdict(set)"
   ]
  },
  {
   "cell_type": "code",
   "execution_count": 14,
   "id": "e5c702b1",
   "metadata": {},
   "outputs": [],
   "source": [
    "# Ahora vamos a recorrer sobre los elementos de S\n",
    "\n",
    "for i,j in S.items():\n",
    "    dS[j].add(i) # i es la clave (a,b) y j es a+b"
   ]
  },
  {
   "cell_type": "code",
   "execution_count": 16,
   "id": "e40c6aa1",
   "metadata": {},
   "outputs": [
    {
     "data": {
      "text/plain": [
       "[(7, {(1, 6), (2, 5), (3, 4), (4, 3), (5, 2), (6, 1)}),\n",
       " (4, {(1, 3), (2, 2), (3, 1)}),\n",
       " (9, {(3, 6), (4, 5), (5, 4), (6, 3)}),\n",
       " (10, {(4, 6), (5, 5), (6, 4)}),\n",
       " (6, {(1, 5), (2, 4), (3, 3), (4, 2), (5, 1)}),\n",
       " (8, {(2, 6), (3, 5), (4, 4), (5, 3), (6, 2)}),\n",
       " (11, {(5, 6), (6, 5)}),\n",
       " (3, {(1, 2), (2, 1)}),\n",
       " (5, {(1, 4), (2, 3), (3, 2), (4, 1)}),\n",
       " (2, {(1, 1)}),\n",
       " (12, {(6, 6)})]"
      ]
     },
     "execution_count": 16,
     "metadata": {},
     "output_type": "execute_result"
    }
   ],
   "source": [
    "# Para visualizar la lista (suma, pares ordenados)\n",
    "list(dS.items())"
   ]
  },
  {
   "cell_type": "code",
   "execution_count": null,
   "id": "5ecdec22",
   "metadata": {},
   "outputs": [],
   "source": []
  },
  {
   "cell_type": "markdown",
   "id": "fec77907",
   "metadata": {},
   "source": [
    "Recordemos que una variable aleatoria real $X$ es una función $X: \\Omega \\to \\mathbb{R}$\n",
    "\n",
    "Sabemos que la **ley de una variable aleatoria discreta** $X$ (es la función de densidad, función de masa de probabilidad), se define como sigue:\n",
    "\n",
    "$$ f_{X}(x) = \\begin{cases} \\mathbb{P}(X=x), \\quad \\text{si } x\\in R_{X} \\\\ \\qquad 0, \\quad \\text{en otro caso} \\end{cases} $$\n",
    "\n",
    "donde $R_{X}$ es el rango de la variable aleatoria $X$.\n",
    "\n",
    "Para nuestro evento $S_{n}$ se tiene la siguiente variable aleatoria:\n",
    "\n",
    "$$S : \\Omega \\to \\{ 2,3,4,5,6,7,8,9,10,11,12 \\}$$"
   ]
  },
  {
   "cell_type": "markdown",
   "id": "a3cd236a",
   "metadata": {},
   "source": []
  },
  {
   "cell_type": "code",
   "execution_count": 17,
   "id": "1a3bf841",
   "metadata": {},
   "outputs": [
    {
     "data": {
      "text/plain": [
       "{7: Fraction(1, 6),\n",
       " 4: Fraction(1, 12),\n",
       " 9: Fraction(1, 9),\n",
       " 10: Fraction(1, 12),\n",
       " 6: Fraction(5, 36),\n",
       " 8: Fraction(5, 36),\n",
       " 11: Fraction(1, 18),\n",
       " 3: Fraction(1, 18),\n",
       " 5: Fraction(1, 9),\n",
       " 2: Fraction(1, 36),\n",
       " 12: Fraction(1, 36)}"
      ]
     },
     "execution_count": 17,
     "metadata": {},
     "output_type": "execute_result"
    }
   ],
   "source": [
    "# LeyS almacena la probabilidad de cada posible suma\n",
    "# Usando la función P(A)\n",
    "# Creando la función de densidad\n",
    "# A es el conjunto de pares que producen la suma i      \n",
    "\n",
    "LeyS = { i : P(A) for i,A in dS.items() }\n",
    "LeyS"
   ]
  },
  {
   "cell_type": "code",
   "execution_count": 18,
   "id": "12dc776e",
   "metadata": {},
   "outputs": [],
   "source": [
    "# Importamos la libreria Pandas \n",
    "import pandas as pd"
   ]
  },
  {
   "cell_type": "code",
   "execution_count": null,
   "id": "5a55d3c3",
   "metadata": {},
   "outputs": [
    {
     "data": {
      "text/plain": [
       "7      1/6\n",
       "4     1/12\n",
       "9      1/9\n",
       "10    1/12\n",
       "6     5/36\n",
       "8     5/36\n",
       "11    1/18\n",
       "3     1/18\n",
       "5      1/9\n",
       "2     1/36\n",
       "12    1/36\n",
       "dtype: object"
      ]
     },
     "execution_count": 19,
     "metadata": {},
     "output_type": "execute_result"
    }
   ],
   "source": [
    "# Vamos a creae una Serie\n",
    "Ley_S = pd.Series(LeyS)\n",
    "Ley_S"
   ]
  },
  {
   "cell_type": "code",
   "execution_count": null,
   "id": "d635ede1",
   "metadata": {},
   "outputs": [
    {
     "data": {
      "text/plain": [
       "2     1/36\n",
       "3     1/18\n",
       "4     1/12\n",
       "5      1/9\n",
       "6     5/36\n",
       "7      1/6\n",
       "8     5/36\n",
       "9      1/9\n",
       "10    1/12\n",
       "11    1/18\n",
       "12    1/36\n",
       "dtype: object"
      ]
     },
     "execution_count": 20,
     "metadata": {},
     "output_type": "execute_result"
    }
   ],
   "source": [
    "# Para ordenae la Serie\n",
    "Ley_S = Ley_S.sort_index() #odenar ascendente por índice\n",
    "# Ley_S = Ley_S.sort_index(ascending=False) #ordenar descendente por índice\n",
    "Ley_S"
   ]
  },
  {
   "cell_type": "code",
   "execution_count": 21,
   "id": "5d2c4daf",
   "metadata": {},
   "outputs": [],
   "source": [
    "import numpy as np"
   ]
  },
  {
   "cell_type": "code",
   "execution_count": 22,
   "id": "d20967fc",
   "metadata": {},
   "outputs": [],
   "source": [
    "# LeyS(i) devuelve la probabilidad de obtnener la suma i, si i está en el rango\n",
    "\n",
    "def LeyS(i):\n",
    "    if i in range(2,13):\n",
    "        x = Ley_S[i]\n",
    "    else:\n",
    "        x = 0 # no me asigne probabilidad\n",
    "    return x  "
   ]
  },
  {
   "cell_type": "code",
   "execution_count": 23,
   "id": "f0c0787c",
   "metadata": {},
   "outputs": [],
   "source": [
    "# Vamos a crear el rango de S\n",
    "\n",
    "rango_S = [k for k in range(2,13)]\n",
    "\n",
    "# Obtener la probabilidad de cada suma en el rango de S\n",
    "p_k = [float(LeyS(k)) for k in rango_S]"
   ]
  },
  {
   "cell_type": "code",
   "execution_count": null,
   "id": "8fe033be",
   "metadata": {},
   "outputs": [
    {
     "data": {
      "text/plain": [
       "1.0"
      ]
     },
     "execution_count": 28,
     "metadata": {},
     "output_type": "execute_result"
    }
   ],
   "source": [
    "# Para verificar que la suma de las probabilidades es 1\n",
    "sum(p_k)\n",
    "# Funciona para listas, tuplas, arrays de numpy, range, generadores, sumar valores del diccionario"
   ]
  },
  {
   "cell_type": "code",
   "execution_count": 26,
   "id": "3804267d",
   "metadata": {},
   "outputs": [
    {
     "data": {
      "text/html": [
       "<div>\n",
       "<style scoped>\n",
       "    .dataframe tbody tr th:only-of-type {\n",
       "        vertical-align: middle;\n",
       "    }\n",
       "\n",
       "    .dataframe tbody tr th {\n",
       "        vertical-align: top;\n",
       "    }\n",
       "\n",
       "    .dataframe thead th {\n",
       "        text-align: right;\n",
       "    }\n",
       "</style>\n",
       "<table border=\"1\" class=\"dataframe\">\n",
       "  <thead>\n",
       "    <tr style=\"text-align: right;\">\n",
       "      <th></th>\n",
       "      <th>rango</th>\n",
       "      <th>densidad</th>\n",
       "    </tr>\n",
       "  </thead>\n",
       "  <tbody>\n",
       "    <tr>\n",
       "      <th>S_2</th>\n",
       "      <td>2</td>\n",
       "      <td>0.027778</td>\n",
       "    </tr>\n",
       "    <tr>\n",
       "      <th>S_3</th>\n",
       "      <td>3</td>\n",
       "      <td>0.055556</td>\n",
       "    </tr>\n",
       "    <tr>\n",
       "      <th>S_4</th>\n",
       "      <td>4</td>\n",
       "      <td>0.083333</td>\n",
       "    </tr>\n",
       "    <tr>\n",
       "      <th>S_5</th>\n",
       "      <td>5</td>\n",
       "      <td>0.111111</td>\n",
       "    </tr>\n",
       "    <tr>\n",
       "      <th>S_6</th>\n",
       "      <td>6</td>\n",
       "      <td>0.138889</td>\n",
       "    </tr>\n",
       "    <tr>\n",
       "      <th>S_7</th>\n",
       "      <td>7</td>\n",
       "      <td>0.166667</td>\n",
       "    </tr>\n",
       "    <tr>\n",
       "      <th>S_8</th>\n",
       "      <td>8</td>\n",
       "      <td>0.138889</td>\n",
       "    </tr>\n",
       "    <tr>\n",
       "      <th>S_9</th>\n",
       "      <td>9</td>\n",
       "      <td>0.111111</td>\n",
       "    </tr>\n",
       "    <tr>\n",
       "      <th>S_10</th>\n",
       "      <td>10</td>\n",
       "      <td>0.083333</td>\n",
       "    </tr>\n",
       "    <tr>\n",
       "      <th>S_11</th>\n",
       "      <td>11</td>\n",
       "      <td>0.055556</td>\n",
       "    </tr>\n",
       "    <tr>\n",
       "      <th>S_12</th>\n",
       "      <td>12</td>\n",
       "      <td>0.027778</td>\n",
       "    </tr>\n",
       "  </tbody>\n",
       "</table>\n",
       "</div>"
      ],
      "text/plain": [
       "      rango  densidad\n",
       "S_2       2  0.027778\n",
       "S_3       3  0.055556\n",
       "S_4       4  0.083333\n",
       "S_5       5  0.111111\n",
       "S_6       6  0.138889\n",
       "S_7       7  0.166667\n",
       "S_8       8  0.138889\n",
       "S_9       9  0.111111\n",
       "S_10     10  0.083333\n",
       "S_11     11  0.055556\n",
       "S_12     12  0.027778"
      ]
     },
     "execution_count": 26,
     "metadata": {},
     "output_type": "execute_result"
    }
   ],
   "source": [
    "# Creamos un DataFrame:\n",
    "# los valores del rango de S (rango_S)\n",
    "# las probabilidades de cada suma (p_k)\n",
    "# Indexamos una etiquerta s_2, s_3, ... , s_12\n",
    "\n",
    "lS = pd.DataFrame(list(zip(rango_S,p_k)),\n",
    "                  index = [f'S_{k}' for k in rango_S],\n",
    "                  columns = ['rango', 'densidad'])\n",
    "lS"
   ]
  },
  {
   "cell_type": "code",
   "execution_count": 27,
   "id": "c8d9a381",
   "metadata": {},
   "outputs": [
    {
     "data": {
      "text/plain": [
       "<Axes: xlabel='rango'>"
      ]
     },
     "execution_count": 27,
     "metadata": {},
     "output_type": "execute_result"
    },
    {
     "data": {
      "image/png": "[encoded data removed]",
      "text/plain": [
       "<Figure size 640x480 with 1 Axes>"
      ]
     },
     "metadata": {},
     "output_type": "display_data"
    }
   ],
   "source": [
    "lS.plot.bar( x = 'rango', y = 'densidad')"
   ]
  },
  {
   "cell_type": "code",
   "execution_count": null,
   "id": "187618b6",
   "metadata": {},
   "outputs": [],
   "source": []
  }
 ],
 "metadata": {
  "kernelspec": {
   "display_name": "base",
   "language": "python",
   "name": "python3"
  },
  "language_info": {
   "codemirror_mode": {
    "name": "ipython",
    "version": 3
   },
   "file_extension": ".py",
   "mimetype": "text/x-python",
   "name": "python",
   "nbconvert_exporter": "python",
   "pygments_lexer": "ipython3",
   "version": "3.13.5"
  }
 },
 "nbformat": 4,
 "nbformat_minor": 5
}
