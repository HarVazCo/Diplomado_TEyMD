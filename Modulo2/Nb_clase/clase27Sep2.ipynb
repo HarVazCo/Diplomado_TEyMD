{
 "cells": [
  {
   "cell_type": "markdown",
   "metadata": {},
   "source": [
    "# Intervalos de confianza"
   ]
  },
  {
   "cell_type": "code",
   "execution_count": 1,
   "metadata": {},
   "outputs": [],
   "source": [
    "import numpy as np\n",
    "import matplotlib.pyplot as plt\n",
    "import scipy.stats as st"
   ]
  },
  {
   "cell_type": "markdown",
   "metadata": {},
   "source": [
    "## Intervalo de Confianza para la media de una distribución normal (σ conocida)\n",
    "Sea $X_1, \\dots, X_n$ una m.a. $X_i \\sim \\mathcal{N}(\\mu, \\sigma^2)$. Entonces:\n",
    "- $\\bar{X} \\sim \\mathcal{N}(\\mu, \\frac{\\sigma^2}{n})$\n",
    "- $Z = \\frac{\\bar{X} - \\mu}{\\sigma / \\sqrt{n}} \\sim \\mathcal{N}(0,1)$\n",
    "### Nivel de significancia (error): $\\alpha$\n",
    "El intervalo de confianza se basa en que:\n",
    "$$\n",
    "\\mathbb{P}\\left( -z_{\\alpha/2} < \\frac{\\bar{X} - \\mu}{\\sigma / \\sqrt{n}} < z_{\\alpha/2} \\right)\n",
    "= \\mathbb{P}\\left( \\bar{X} - z_{\\alpha/2} \\frac{\\sigma}{\\sqrt{n}} < \\mu < \\bar{X} + z_{\\alpha/2} \\frac{\\sigma}{\\sqrt{n}} \\right)\n",
    "= 1 - \\alpha\n",
    "$$\n",
    "### El intervalo del $(1 - \\alpha) \\cdot 100\\%$ de confianza para $\\mu$ (con $\\sigma$ conocida) es:\n",
    "$$\n",
    "\\left( \\bar{X} - z_{\\alpha/2} \\frac{\\sigma}{\\sqrt{n}}, \\quad \\bar{X} + z_{\\alpha/2} \\frac{\\sigma}{\\sqrt{n}} \\right)\n",
    "$$\n",
    "donde\n",
    " - $\\sigma$ es la desviación estándar\n",
    " - $\\frac{\\sigma}{\\sqrt{n}}$ es el error estándar de la media \n",
    " - $z_{\\alpha/2}$ determina el nivel de confianza\n",
    " - el intervalo está centrado en $\\bar{X}$\n",
    "\n",
    " **OBS:** A mayor valor de $n \\rightarrow$ menor error estándar $\\rightarrow$ el intevalo de confianza es más pequeño $\\rightarrow$ lo cual hace que se acerque más a la media, es decir, que haya menos variación."
   ]
  },
  {
   "cell_type": "markdown",
   "metadata": {},
   "source": [
    "**Ejemplo 1**\n",
    "\n",
    "Para tratar de estimar la media de consumo por cliente de un restaurante, se reunieron datos de una muestra de $49$ clientes durante tres semanas.\n",
    "\n",
    "**a)** Supongamos que la **desviación estándar** de la población es de $\\$2.5$. ¿Cuál es el error estándar de la media?\n",
    "\n",
    "**b)** Con un nivel de confianza del $95\\%$, ¿cuál es el margen de error?\n",
    "\n",
    "**c)** Si la media de la muestra es de $\\$22.6$, ¿cuál es el intervalo de confianza del $95\\%$ para la media de la población?"
   ]
  },
  {
   "cell_type": "code",
   "execution_count": 4,
   "metadata": {},
   "outputs": [
    {
     "name": "stdout",
     "output_type": "stream",
     "text": [
      "Error estándar de la media: 0.36\n",
      "Margen de error: 0.70\n",
      "Intervalo de confianza del 95.0%: (21.90,23.30)\n"
     ]
    }
   ],
   "source": [
    "# Datos\n",
    "n = 49\n",
    "sigma = 2.5\n",
    "media_muestral = 22.6\n",
    "confianza = 0.95\n",
    "\n",
    "# a) Error estandar de la media \n",
    "\n",
    "error_std = sigma/np.sqrt(n)\n",
    "print(f'Error estándar de la media: {error_std:.2f}')\n",
    "\n",
    "\n",
    "# b) Margen de error \n",
    "# 1-confianza = 0.05 => 0.025 en cada cola => (1-confianza)/2\n",
    "\n",
    "z = st.norm.ppf(1 - (1-confianza)/2) # ppf -> percentil point function \n",
    "# z_{0.975} es tal que P(Z <= z_{0.975}) = 0.975\n",
    "margen_err = z * error_std\n",
    "\n",
    "print(f'Margen de error: {margen_err:.2f}')\n",
    "\n",
    "\n",
    "# c) Intervalo de confianza\n",
    "lim_sup = media_muestral + margen_err\n",
    "lim_inf = media_muestral - margen_err\n",
    "\n",
    "print(f'Intervalo de confianza del {confianza*100}%: ({lim_inf:.2f},{lim_sup:.2f})')"
   ]
  },
  {
   "cell_type": "markdown",
   "metadata": {},
   "source": [
    "Por lo tanto, podemos decir que con un $95\\%$ de confianza, se estima que el **consumo medio poblacional** está entre $\\$21.90$ y $\\$23.30$"
   ]
  },
  {
   "cell_type": "markdown",
   "metadata": {},
   "source": [
    "**Ejemplo 2** \n",
    "\n",
    "Supongamos que se toma una muestra aleatoria de 100 personas para estimar la media del peso de una población, y se obtiene que la media muestral es de $70$ kg con una desviación estándar que es conocida de $10$ kg. Para un nivel de confianza del $95\\%$, calcular el intervalo de confianza"
   ]
  },
  {
   "cell_type": "code",
   "execution_count": 7,
   "metadata": {},
   "outputs": [
    {
     "name": "stdout",
     "output_type": "stream",
     "text": [
      "El intervalo de confianza del 95.0% es: (68.04,71.96)\n"
     ]
    }
   ],
   "source": [
    "# Datos\n",
    "n = 100\n",
    "sigma = 10\n",
    "media_muestral = 70\n",
    "confianza = 0.95\n",
    "\n",
    "error_std = sigma/np.sqrt(n)\n",
    "\n",
    "'''\n",
    "Vamos a utilizar la funcion scipy.stats.norm.interval\n",
    "\n",
    "Sintaxis: scipy.stats.norm.interval(confidence=confianza, loc=media_muestral, scale=error_std)\n",
    "'''\n",
    "\n",
    "intervalo = st.norm.interval(confianza,loc=media_muestral, scale=error_std)\n",
    "\n",
    "print(f'El intervalo de confianza del {confianza*100}% es: ({intervalo[0]:.2f},{intervalo[1]:.2f})')"
   ]
  },
  {
   "cell_type": "markdown",
   "metadata": {},
   "source": [
    "## Intervalo de Confianza para la media $\\mu$ de una distribución normal ($\\sigma$ deconocida)\n",
    "Sea $X_1, \\dots, X_n$ una m.a. $X_i \\sim \\mathcal{N}(\\mu, \\sigma^2)$. Entonces:\n",
    "- $\\bar{X} \\sim \\mathcal{N}(\\mu, \\frac{\\sigma^2}{n})$\n",
    "- $Z = \\frac{\\bar{X} - \\mu}{\\sigma / \\sqrt{n}} \\sim \\mathcal{N}(0,1)$\n",
    "Si el tamaño de la muestra es menor a 30, se utiliza la $t$: \n",
    "### Estadístico t\n",
    "Definimos el estadístico $t$ de la siguiente manera:\n",
    "$$T = \\frac{\\bar{X}-\\mu}{s/\\sqrt{n}} \\sim t_{(n-1)} $$\n",
    "### El intervalo del $(1 - \\alpha) \\cdot 100\\%$ de confianza para $\\mu$ (con $\\sigma$ desconocida) es:\n",
    "$$\n",
    "\\left( \\bar{X} - t_{\\alpha/2} \\frac{s}{\\sqrt{n}}, \\quad \\bar{X} + t_{\\alpha/2} \\frac{s}{\\sqrt{n}} \\right)\n",
    "$$\n",
    "donde\n",
    "- $s$ = desviación estándar muestral\n",
    "- $\\frac{s}{\\sqrt{n}}$ = error estándar de la media  \n",
    "- $t_{\\alpha/2}$ determina el nivel de confianza  \n",
    "- El intervalo está centrado en $\\bar{X}$"
   ]
  },
  {
   "cell_type": "markdown",
   "metadata": {},
   "source": [
    "**Ejemplo 3** \n",
    "\n",
    "Supongamos que tenemos los siguientes datos de la muestra aleatoria de 10 observaciones:\n",
    "$$ datos = \\{45,55,67,45,68,79,98,87,84,82\\}$$\n",
    "\n",
    "Calcular un intervalo de confianza para la media."
   ]
  },
  {
   "cell_type": "code",
   "execution_count": 9,
   "metadata": {},
   "outputs": [
    {
     "name": "stdout",
     "output_type": "stream",
     "text": [
      "Media muestral es: 71.00\n",
      "El intervalo de confianza del 95.0% es: (58.0005,83.9995)\n"
     ]
    }
   ],
   "source": [
    "# Datos\n",
    "datos = [45,55,67,45,68,79,98,87,84,82]\n",
    "n = len(datos)\n",
    "confianza = 0.95\n",
    "df = n - 1\n",
    "\n",
    "# Tenemos la media y el error estandar\n",
    "media_muestral = np.mean(datos)\n",
    "\n",
    "error_std = st.sem(datos) # std error of the mean utilizando la desviación estándar muestral\n",
    "\n",
    "# Utilizamos la distribución t de Student\n",
    "intervalo = st.t.interval(confianza, df=df, loc=media_muestral, scale=error_std)\n",
    "\n",
    "print(f'Media muestral es: {media_muestral:.2f}')\n",
    "print(f'El intervalo de confianza del {confianza*100}% es: ({intervalo[0]:.4f},{intervalo[1]:.4f})')"
   ]
  },
  {
   "cell_type": "markdown",
   "metadata": {},
   "source": [
    "**Ejemplo 4** \n",
    "\n",
    "Los artículos de cerámica utilizados sobre velas electricas sobrecargadas se rompen con diferentes presiones. Supongamos que los datos provienen de una distribución normal.\n",
    "La resistencia a la ruptura fue medida en una muestra de 100 artículos, y el promedio fue de $1750$ con un desviación estándar de 315.8\n",
    "\n",
    "**a)** Estimar con un nivel del confianza del $90\\%$ a la media poblacional de la presión de la ruptura.\n",
    "\n",
    "**b)** Estimar con un nivel del confianza del $90\\%$ a la varianza poblacional."
   ]
  },
  {
   "cell_type": "code",
   "execution_count": 10,
   "metadata": {},
   "outputs": [
    {
     "name": "stdout",
     "output_type": "stream",
     "text": [
      "El intervalo de confianza del 90.0% es: (1698.06,1801.94)\n"
     ]
    }
   ],
   "source": [
    "# Datos\n",
    "n = 100\n",
    "media_muestal = 1750\n",
    "desv_muestral = 315.8\n",
    "confianza = 0.90\n",
    "\n",
    "# a) Se tiene que n>30, por lo tanto usamos la normal\n",
    "error_std = desv_muestral/np.sqrt(n)\n",
    "intervalo = st.norm.interval(confianza, loc=media_muestal, scale=error_std)\n",
    "print(f'El intervalo de confianza del {confianza*100}% es: ({intervalo[0]:.2f},{intervalo[1]:.2f})')\n"
   ]
  },
  {
   "cell_type": "markdown",
   "metadata": {},
   "source": []
  },
  {
   "cell_type": "code",
   "execution_count": 16,
   "metadata": {},
   "outputs": [
    {
     "name": "stdout",
     "output_type": "stream",
     "text": [
      "El intervalo de confianza para la varianza del 90.0% es: (80123.49,128146.72)\n"
     ]
    }
   ],
   "source": [
    "# b) Intervalo de confianza para la varianza\n",
    "gl = n - 1\n",
    "alpha = 1 - confianza\n",
    "s2 = desv_muestral**2\n",
    "\n",
    "# Vamos a calcular los cuantiles de la distribución chi-cuadrado\n",
    "chi2_inf = st.chi2.ppf(alpha/2,df=gl)\n",
    "chi2_sup = st.chi2.ppf(1 - alpha/2, df=gl)\n",
    "inter_vari = ((gl*s2)/chi2_sup,(gl*s2)/chi2_inf)\n",
    "print(f'El intervalo de confianza para la varianza del {confianza*100}% es: ({inter_vari[0]:.2f},{inter_vari[1]:.2f})')"
   ]
  },
  {
   "cell_type": "code",
   "execution_count": 17,
   "metadata": {},
   "outputs": [
    {
     "name": "stdout",
     "output_type": "stream",
     "text": [
      "El intervalo de confianza para la varianza del 90.0% es: (80123.49,128146.72)\n"
     ]
    }
   ],
   "source": [
    "# Otra forma de calcular el intervalo de confianza para la varianza\n",
    "chi2_inf,chi2_sup = st.chi2.interval(confianza,df=gl)\n",
    "inter_vari2 = ((gl*s2)/chi2_sup,(gl*s2)/chi2_inf)\n",
    "print(f'El intervalo de confianza para la varianza del {confianza*100}% es: ({inter_vari2[0]:.2f},{inter_vari2[1]:.2f})')"
   ]
  }
 ],
 "metadata": {
  "kernelspec": {
   "display_name": "analisis",
   "language": "python",
   "name": "python3"
  },
  "language_info": {
   "codemirror_mode": {
    "name": "ipython",
    "version": 3
   },
   "file_extension": ".py",
   "mimetype": "text/x-python",
   "name": "python",
   "nbconvert_exporter": "python",
   "pygments_lexer": "ipython3",
   "version": "3.9.19"
  }
 },
 "nbformat": 4,
 "nbformat_minor": 2
}
