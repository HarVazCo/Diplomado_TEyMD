{
 "cells": [
  {
   "cell_type": "markdown",
   "metadata": {},
   "source": [
    "# Espacio de Probabilidad"
   ]
  },
  {
   "cell_type": "markdown",
   "metadata": {},
   "source": [
    "## Enfoque clásico\n",
    "\n",
    "Se le conoce como **experimento aleatorio** a un experimento cuyo resultado no puede ser predecido con certeza, a pesar de ser realizado en condiciones idénticas.\n",
    "\n",
    "#### Espacio muestral\n",
    "\n",
    "Considerando el experimento aleatorio $\\varepsilon$, suponemos que se conocen todos los posibles resultados de $\\varepsilon$. Este conjunto de resultados es conocido como **espacio muestral** y se denota como $\\Omega$.\n",
    "\n",
    "**Ejemplo:**\n",
    "- Si el resultados de un experimento consiste en el sexo de un recién nacido, entonces\n",
    "$$ \\Omega = \\{ H,M \\}. $$\n",
    "\n",
    "#### Evento\n",
    "\n",
    "Cualquier subconjunto de $\\Omega$ es conocido como un **evento**.\n",
    "\n",
    "**Ejemplo:**\n",
    "- Considerando el ejemplo anterior, un evento $A$ pude ser $A=\\{H\\} $. \n",
    "\n",
    "### Probabilidad clásica (Laplaciana)\n",
    "\n",
    "La probabilidad de un evento A se denota como $P(A)$ y es un número real tal que $P(A)\\in[0,1]$, este número representa la frecuencia con la que ocurre el evento cuando el experimento es repetido continuamente. \n",
    "\n",
    "Clasicamente se define a la probabilidad del evento $A$ como:\n",
    "$$ P(A) = \\frac{|A|}{|\\Omega|} $$\n",
    "\n",
    "Esta definición sólo es válida para espacios muestrales finitos. Además, el espacio $\\Omega$ debe ser equiprobable, es decir, todos los elementos del espacio muestral son igualmente probables.\n",
    "\n",
    "**Ejemplo:**\n",
    "\n",
    "Sea el experimento aleatorio de lanzar una moneda 3 veces, de manera independiente, es decir, el $i$-ésimo lanzamiento no me afecta el $i+1$ lanzamiento. El espacio muestral de este experimento es:\n",
    "$$ \\Omega = \\{A,S\\}\\times \\{A,S\\} \\times \\{A,S\\} = \\{A,S\\}^3 $$\n",
    "\n",
    "y se tiene que $|\\Omega| = 2^{3}$.\n",
    "\n",
    "Sean los eventos:\n",
    "- $A$ : todos los resultados son águila\n",
    "- $S$ : todos los resultados son soles\n",
    "- $E$ : por lo menos un resultado es sol\n",
    "\n",
    "Calcular la probabilidad de $A$."
   ]
  },
  {
   "cell_type": "markdown",
   "metadata": {},
   "source": [
    "$\\color{green}\\text{Solución}$\n",
    "\n",
    "Para $A$, vamos a descomponer al conjunto de la siguiente manera $A = A_1 \\cap A_2 \\cap A_3$ donde $A_i$: cae águila en el $i$-ésimo lanzamiento."
   ]
  },
  {
   "cell_type": "code",
   "execution_count": 1,
   "metadata": {},
   "outputs": [],
   "source": [
    "# Se llama a las librerias \n",
    "import itertools \n",
    "from itertools import product"
   ]
  },
  {
   "cell_type": "code",
   "execution_count": 2,
   "metadata": {},
   "outputs": [
    {
     "name": "stdout",
     "output_type": "stream",
     "text": [
      "El espacio muestral es: {('A', 'A', 'S'), ('S', 'A', 'S'), ('A', 'S', 'A'), ('S', 'S', 'A'), ('A', 'S', 'S'), ('S', 'S', 'S'), ('S', 'A', 'A'), ('A', 'A', 'A')}\n",
      "P(A)= 0.125\n"
     ]
    }
   ],
   "source": [
    "# Se crea el espacio muestral\n",
    "omega = set(product(('A','S'),repeat=3))\n",
    "print('El espacio muestral es:',omega)\n",
    "\n",
    "# Se calcula la cardinalidad de omega\n",
    "card_omega = len(omega)\n",
    "\n",
    "# Creacion de los conjuntos A_1, A_2, A_3\n",
    "a1 = {om for om in omega if om[0]=='A'}\n",
    "a2 = {om for om in omega if om[1]=='A'}\n",
    "a3 = {om for om in omega if om[2]=='A'}\n",
    "\n",
    "# Obtenemos la intersección de los tres conjuntos \n",
    "a = a1.intersection(a2.intersection(a3))\n",
    "\n",
    "# Se calcula la cardinalidad de a\n",
    "card_A = len(a)\n",
    "\n",
    "# Calculamos la probabilidad del evento A\n",
    "p_A = card_A/card_omega\n",
    "print('P(A)=',p_A)"
   ]
  },
  {
   "cell_type": "markdown",
   "metadata": {},
   "source": []
  }
 ],
 "metadata": {
  "kernelspec": {
   "display_name": "analisis",
   "language": "python",
   "name": "python3"
  },
  "language_info": {
   "codemirror_mode": {
    "name": "ipython",
    "version": 3
   },
   "file_extension": ".py",
   "mimetype": "text/x-python",
   "name": "python",
   "nbconvert_exporter": "python",
   "pygments_lexer": "ipython3",
   "version": "3.9.19"
  }
 },
 "nbformat": 4,
 "nbformat_minor": 2
}
