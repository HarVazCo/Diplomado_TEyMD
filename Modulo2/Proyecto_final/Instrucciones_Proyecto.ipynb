{
 "cells": [
  {
   "cell_type": "markdown",
   "id": "a4349b09",
   "metadata": {},
   "source": [
    "## Proyecto: Módulo II. Técnicas Estadísticas (Entrega en GitHub)\n",
    "\n",
    "- Trabajo individual\n",
    "\n",
    "- Fecha de entrega: del 6 al 10 de octubre\n",
    "\n",
    "- Bibliografía sugerida: Rincón, Ross, Mood, Mendenhall"
   ]
  },
  {
   "cell_type": "markdown",
   "id": "ed3f31e5",
   "metadata": {},
   "source": [
    "1. Espacio de probabilidad  \n",
    "2. Variables aleatorias  \n",
    "3. Estadística inferencial"
   ]
  },
  {
   "cell_type": "markdown",
   "id": "7dd64543",
   "metadata": {},
   "source": [
    "## 1. Espacio de probabilidad\n",
    "\n",
    "### Axiomatica (Kolmogorov)\n",
    "\n",
    "### Enfoque clásico\n",
    "\n",
    "- Espacio muestral \\( \\Omega \\)\n",
    "- Eventos\n",
    "- Probabilidad condicional\n",
    "- Independencia\n",
    "\n",
    "### Enfoque geómetrico\n",
    "- El problema del encuentro\n",
    "\n",
    "### Enfoque frecuentista\n",
    "- Ejemplo del volado"
   ]
  },
  {
   "cell_type": "markdown",
   "id": "5e697e30",
   "metadata": {},
   "source": [
    "## 2. Variables Aleatorias \n",
    "\n",
    "- (Evitar poner calculos excesivos y demostraciones)\n",
    "- Añadir un ejercicio adicional a cada v.a. (usar los mismos que vimos o añadir el que consideren ustedes)\n",
    "\n",
    "### Discreta\n",
    "\n",
    "- Definición de v.a. discreta \n",
    "- Función de densidad y sus propiedades\n",
    "\n",
    "Ejemplos: Uniforme discreta, Bernoulli, Binomial, Geométrica, Poisson, BN e Hipergeometrica\n",
    "\n",
    "- función de densidad, esperanza, varianza y visuzalización de la densidad (en Python).\n",
    "\n",
    "### Continuas\n",
    "\n",
    "Ejemplos: Uniforme continua, normal, exponencial, gamma\n",
    "\n",
    "- función de densidad, distribución (exponencial), esperanza, varianza y visuzalización.\n",
    "\n",
    "### Simulación de variables aleatorias\n",
    "\n",
    "- Transformada inversa\n",
    "\n",
    "### Funciones Generadoras\n",
    "\n",
    "- FGM (definición y algunas propiedades -> encontrar los momentos)\n",
    "- F. Característica (definición y algunas propiedades -> encontrar los momentos)\n",
    "\n",
    "### Ley de los grandes números (LGN)\n",
    "\n",
    "### Teorema central del límite (TCL)\n",
    "\n"
   ]
  },
  {
   "cell_type": "markdown",
   "id": "10e67ac6",
   "metadata": {},
   "source": [
    "## 3. Estadística Inferencial\n",
    "\n",
    "### Estimadores y sus propiedades\n",
    "- Estimador -> Metodo de momentos y EMV\n",
    "- Insesgadez\n",
    "- Consistencia\n",
    "- Eficiencia\n",
    "\n",
    "### Intervalos de confianza\n"
   ]
  },
  {
   "cell_type": "markdown",
   "id": "2a995394",
   "metadata": {},
   "source": [
    "# NOTA: \n",
    "\n",
    "- Se recomienda hacer el uso de comentarios en la línea de código\n",
    "- El GitHub debe no debe estar privado\n"
   ]
  }
 ],
 "metadata": {
  "kernelspec": {
   "display_name": "base",
   "language": "python",
   "name": "python3"
  },
  "language_info": {
   "codemirror_mode": {
    "name": "ipython",
    "version": 3
   },
   "file_extension": ".py",
   "mimetype": "text/x-python",
   "name": "python",
   "nbconvert_exporter": "python",
   "pygments_lexer": "ipython3",
   "version": "3.13.5"
  }
 },
 "nbformat": 4,
 "nbformat_minor": 5
}
