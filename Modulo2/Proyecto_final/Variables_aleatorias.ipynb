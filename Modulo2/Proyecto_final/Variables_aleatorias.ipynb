{
 "cells": [
  {
   "cell_type": "markdown",
   "metadata": {},
   "source": [
    "# Variables Aleatorias"
   ]
  },
  {
   "cell_type": "markdown",
   "metadata": {},
   "source": [
    "Considerando un experimento aleatorio cualquiera y un espacio de probabilidad asociado $(\\Omega,\\mathscr{F},\\mathbb{P})$. Se define una **variable aleatoria** como una transformación $X$ del espacio muestral $\\Omega$ al conjunto de números reales $\\mathbb{R}$, es decir,\n",
    "$$ X: \\Omega \\to \\mathbb{R},$$\n",
    "tal que para cualquier número real $x$,\n",
    "$$\\{\\omega \\in \\Omega: X(\\omega)\\leq x\\} \\in \\mathscr{F}.$$\n",
    "\n",
    "**Ejemplo**\n",
    "\n",
    "Suponga que un experimento aleatorio consiste en lanzar al aire una moneda equilibrada y observar la cara superior una vez que la moneda cae. Denotemos por “Cara” y “Cruz” los dos lados de la moneda. Entonces claramente el espacio muestral es el conjunto $\\Omega = \\{\\text{``Cara'',``Cruz''} \\}$. Se define la variable aleatoria $X: \\Omega \\to \\mathbb{R}$ de la siguiente forma:\n",
    "$$\\begin{align*} X(\\text{``Cara''})&=0, \\\\ X(\\text{``Cruz''})&=1.\\end{align*}$$ "
   ]
  },
  {
   "cell_type": "markdown",
   "metadata": {},
   "source": [
    "## Variables aleatorias discretas \n",
    "\n",
    "Se dice que una variable aleatoria es **discreta** cuando el conjunto de valores que ésta toma es un conjunto discreto, es decir, un conjunto finito o numerable\n",
    "\n",
    "Para una variable aleatoria discreta $X$, se define la *función de masa de probabilidad* $f_X(k)$ de $X$ como\n",
    "$$f_X(k) = \\mathbb{P}(X=k).$$\n",
    "\n",
    "La *función de masa de probabilidad* $f_X(k)$ es positiva a lo más para un número contable de valores de $k$. Es decir, si $X$ toma el valor de algún valor en $\\{x_1,x_2,\\dots,x_n\\}$ entonces\n",
    "$$\\begin{align*}f_X(x_i) &\\geq 0, \\ \\text{para } i =1,2,\\dots,n \\\\ f_X(x) &=0, \\ \\text{para otros valores de } x \\end{align*} $$\n",
    "\n",
    "Como $X$ debe tomar alguno de los valores de $x_i$, se tiene que \n",
    "$$\\sum_{i=1}^{\\infty} f_X(x_i) = 1 $$\n",
    "\n",
    "### Ejemplos de variables aleatorias discretas"
   ]
  },
  {
   "cell_type": "markdown",
   "metadata": {},
   "source": [
    "#### Variable aleatoria uniforme discreta\n",
    "\n",
    "Una variable aleatoria $X$ tiene distribución uniforme discreta en el conjunto $\\{x_{1},\\dots,x_{n}\\}$ si su función de masa de probabilidades está dada por\n",
    "$$f_{X}(k)=\\mathbb{P}(X=k)=\\begin{cases}\n",
    "\\frac{1}{n} &\\quad \\text{si } k\\in\\{x_{1},\\dots,x_{n}\\} \\\\\n",
    "0 &\\quad \\text{en otro caso}\n",
    "\\end{cases}$$\n",
    "\n",
    "**Notación:** $X\\sim Unif(x_{1},\\dots,x_{n}).$\n",
    "\n",
    "Se llama uniforme porque cada uno de los posibles valores de $X$ tienen la misma probabilidad.\n",
    "\n",
    "Si $X\\sim Unif(x_{1},\\dots,x_{n})$, en este caso, se tiene:\n",
    "\t$$\\mathbb{E}[X] = \\sum_{k}kf_{X}(k)=\\frac{x_n + x_1}{2}.$$\n",
    "\ty\n",
    "\t$$\\text{Var}(X) = \\mathbb{E}[(X-\\mathbb{E}[X])^{2}] =\\sum_{k}(k-\\mathbb{E}[X])^{2}f_{X}(k)=\\frac{(x_n - x_1+1)^2-1}{12}$$\n",
    "\n",
    "**Ejemplo** \n",
    "\n",
    "Se lleva a cabo una rifa donde los boletos están enumerados del $00$ al $99$. Si $Y$ es la variable aleatoria definida como el número del boleto ganador, entonces:  \n",
    "$$\\mathbb{P}(Y=k)=\\begin{cases}\n",
    "\t\\frac{1}{100} &\\quad \\text{si } k=00,01,\\dots,99 \\\\\n",
    "\t0 &\\quad \\text{en otro caso}\n",
    "\\end{cases}$$\n",
    "Consideremos que el premio de la rifa se determina a partir del número premiado de la siguiente forma: $X=Y+1,$ donde $X$ es el monto del premio en pesos y $Y$ es el número premiado, entonces $X$ es una variable aleatoria, pues es una función de $Y$, y además se tiene\n",
    "\t$$f_{X}(k)=\\begin{cases}\n",
    "\t\t\\frac{1}{100} &\\quad \\text{si } x=1,2,\\dots,100 \\\\\n",
    "\t\t0 &\\quad \\text{en otro caso}\n",
    "\t\\end{cases}$$\n",
    "Entonces, la esperanza y varianza de $X$ están dados por:\n",
    "\t$$\\mathbb{E}[X] = \\sum_{k=1}^{100}k\\left(\\frac{1}{100}\\right) = \\frac{1}{100}\\sum_{k=1}^{100}k = \\frac{1}{100}\\left[\\frac{100(100+1)}{2}\\right] = 50.5$$\n",
    "\ty\n",
    "\t$$\\text{Var}(X) = \\mathbb{E}[X^{2}]-(\\mathbb{E}[X])^{2} = \\sum_{k=1}^{100}k^{2}\\left(\\frac{1}{100}\\right)-(50.5)^{2} = 833.25$$   \n",
    "\n",
    "\n",
    "    \n",
    "Supongamos que nos interesa calcular la probabilidad de que el premio sea mayor a $\\$80$, entonces\n",
    "\t$$\\mathbb{P}(X>80) = \\sum_{k=81}^{100}\\frac{1}{100} = \\frac{20}{100} = 0.2$$\n",
    "\tSu función de distribución esta dada por:\n",
    "\t$$F_{X}(x)=\\mathbb{P}(X\\le x)=\\begin{cases}\n",
    "\t\t0 &\\quad \\text{si } x<1 \\\\\n",
    "\t\t\\frac{x}{100} &\\quad \\text{si } x=1,2,\\dots,100\\\\ 1 &\\quad \\text{si } x>100\n",
    "\t\\end{cases}$$     "
   ]
  },
  {
   "cell_type": "markdown",
   "metadata": {},
   "source": [
    "#### Variable aleatoria Bernoulli con parámetro $p\\in (0,1)$.\n",
    "\n",
    "El modelo probabilístico Bernoulli se aplica a un experimento cuyo espacio muestral está constituido sólo por dos resultados posibles, éxito y fracaso:\n",
    "\n",
    "Se considerará una v.a $X$ sobre el espacio muestral $$\\Omega=\\{\\text{éxito, fracaso}\\}$$\n",
    "de tal forma que\n",
    "* $X(\\{\\text{éxito}\\}) = 1$\n",
    "* $X(\\{\\text{fracaso}\\}) = 0$\n",
    "\n",
    "Las probabilidades asociadas a este modelo son:\n",
    "\n",
    "* $\\mathbb{P}(\\{\\text{éxito}\\}) = p$\n",
    "* $\\mathbb{P}(\\{\\text{fracaso}\\}) = 1-p$\n",
    "\n",
    "donde $0<p<1$.\n",
    "\n",
    "\n",
    "Entonces la función de densidad de masa de probabilidades de $X$ está dada por:\n",
    "\n",
    "$$f_{X}(k)=\\begin{cases}\n",
    "p &\\quad \\text{si } k=1 \\\\\n",
    "1-p &\\quad \\text{si } k=0\n",
    "\\end{cases}$$\n",
    "\n",
    "**Notación:** $X\\sim \\text{Ber}(p)$.\n",
    "\n",
    "Esta variable aleatoria es muy importante. En la practica es usada para modelar situaciones en las cuales hay dos posibles resultados como:\n",
    "* el estado de un teléfono en un momento dado: libre u ocupado.\n",
    "* una persona pueda estar enferma o sana de una determinada enfermedad.\n",
    "* la preferencia de una persona, la cual puede estar a favor o en contra de un candidato determinado.\n",
    "\n",
    "Mediante la combinación de variables aleatorias Bernoulli es posible construir otras variables aleatorias.\n",
    "\n",
    "**Esperanza y Varianza**\n",
    "\n",
    "Si $X\\sim \\text{Ber}(p)$, entonces su esperanza es:\n",
    "\\begin{align*}\n",
    "\\mathbb{E}[X] = \\sum_{k=0}^{1}kf_{X}(k) = 1\\cdot p + 0\\cdot (1-p) = p.\n",
    "\\end{align*}\n",
    "\n",
    "Y su varianza se calcula usando,\n",
    "$$\\mathbb{E}[X^{2}] = \\sum_{k=0}^{1}k^{2}f_{X}(k) = 1^{2}\\cdot p + 0^{2}\\cdot (1-p) = p.$$\n",
    "Por lo tanto,\n",
    "$$\\text{Var}(X)=\\mathbb{E}[X^{2}]-(\\mathbb{E}[X])^{2} = p-p^{2} = p(1-p)$$"
   ]
  },
  {
   "cell_type": "markdown",
   "metadata": {},
   "source": []
  }
 ],
 "metadata": {
  "language_info": {
   "name": "python"
  }
 },
 "nbformat": 4,
 "nbformat_minor": 2
}
