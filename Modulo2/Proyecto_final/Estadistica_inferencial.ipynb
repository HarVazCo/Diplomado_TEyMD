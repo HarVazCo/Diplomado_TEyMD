{
 "cells": [
  {
   "cell_type": "markdown",
   "metadata": {},
   "source": [
    "# Estadística Inferencial"
   ]
  },
  {
   "cell_type": "markdown",
   "metadata": {},
   "source": [
    "\"Hay muchas formas de tomar decisiones o predicciones, algunas son subjetivas y otras son objetivas por naturaleza. ¿Qué tan buenas serán las predicciones o decisiones? Es la función del estadístico matemático dar métodos de toma de inferencia estadística que son mejores y más confiables que únicamente cálculos subjetivos.\"  "
   ]
  },
  {
   "cell_type": "markdown",
   "metadata": {},
   "source": [
    "## Estimadores\n",
    "\n",
    "Cuando se quiere estimar el valor de un parámetro poblacional, se puede usar información de la muestra en la forma de un *estimador*. \n",
    "\n",
    "*Estimadores:* es una función de la muestra aleatoria que se usa para aproximar un parámetro desconocido de la población.\n",
    "\n",
    "### Propiedades de los estimadores\n",
    "\n",
    "- **Insesgamiento:** \n",
    "  \n",
    "  Se dice que un estimador de un parámetro es insesgado si la media de su distribución es igual al verdadero valor del parámetro. El estimador no debe subestimar o sobreestimar de manera consistente el parámetro de interés. De otro modo, se dice que el estimador está sesgado.\n",
    "  $$ \\mathbb{E}[\\hat{\\theta}] = \\theta$$\n",
    "\n",
    "- **Consistencia:**\n",
    "  \n",
    "  Esta propiedad considera que el estimador converge en probabilidad al parámetro cuando el tamaño de la muestra crece a infinito. Es decir, si $\\hat{\\theta}_n$ es un estimador para $\\theta$ basado en una m.a. de tamaño n. $\\hat{\\theta}_n$ es consistente si para cualquier $\\varepsilon > 0$\n",
    "  $$ \\lim_{n\\to\\infty} \\mathbb{P}(|\\hat{\\theta}_n - \\theta|>\\varepsilon) = 0$$\n",
    "  otra notación es $\\hat{\\theta}_n \\xrightarrow{p}\\theta$\n",
    "\n",
    "- **Eficiencia:**\n",
    "\n",
    "  La dispersión (medida por la varianza) de la distribución muestral debe ser tan pequeña como sea posible. Esto asegura que, con una alta probabilidad, una estimación individual caerá cerca del valor verdadero del parámetro.\n",
    "\n",
    "### Métodos para construir estimadores\n",
    "\n",
    "#### Método de momentos \n",
    "\n",
    "Consiste en igualar los momentos poblacionales con los momentos muestrales y resolver la ecuación, o sistema de ecuaciones , para el parámetro o vector de parámetros, cuando sea posible. \n",
    " \n",
    " - Momento poblacional: Sea $k \\geq 1$ un entero. El $k$-ésimo momento de una variable aleatoria $X$, es el número $\\mathbb{E}[X^k]$.\n",
    " - Momento muestral: Sea $k \\geq 1$ un entero. El $k$-ésimo momento de una muestra aleatoria $X_1,\\dots,X_n$ es la variable aleatoria $m_k = \\frac{1}{n} \\sum_{i=1}^{n}X_i^k$_\n",
    "\n",
    "**Ejemplo**\n",
    "\n",
    "El tiempo de retardo para pacientes con enfermedad coronaria potencial se define como la duración entre el comienzo de un síntoma agudo cardiovascular y la llegada a la unidad de emergencia.\n",
    "Se supone que el tiempo de retardo sigue una distribución exponencial con parámetro $\\theta $.\n",
    "Se registraron los tiempos de retardo (en minutos) en la clínica para los primeros 20 pacientes:\n",
    "$$ 525, \\ 719, \\ 2880, \\ 150, \\ 30, \\ 251, \\ 45, \\ 858, \\ 15, \\ 47, \\ 90, \\ 56, \\ 68, \\ 6, \\ 189, \\ 180, \\ 60, \\ 60, \\ 294, \\ 747 $$\n",
    "- Encuentra un estimador por el **método de momentos** para la media de la distribución (exponencial).\n",
    "  Recordemos que si $X\\sim Exp(\\theta)$, entonces $\\mathbb{E}[X]=\\frac{1}{\\theta}$\n",
    "- (Python) Encuentra el valor del estimador con los datos dados.\n",
    "\n",
    "**Inciso 1**\n",
    "\n",
    "Sabemos que para una distribución exponencial $\\mathbb{E}[X] = \\frac{1}{\\theta}$ y que el momento muestral $m_1 = \\frac{1}{n}\\sum_{i=1}^{n}x_i$, igualando los momentos obtenemos \n",
    "$$ \\frac{1}{\\theta} = \\frac{1}{n}\\sum_{i=1}^{n}x_i = \\bar{x}$$\n",
    "y despejando, llegamos al estimador \n",
    "$$ \\hat{\\theta} = \\frac{1}{\\bar{x}}$$\n",
    "\n",
    "**Inciso 2**\n",
    "  "
   ]
  },
  {
   "cell_type": "code",
   "execution_count": null,
   "metadata": {},
   "outputs": [
    {
     "name": "stdout",
     "output_type": "stream",
     "text": [
      "El valor del estimador es: 0.002751031636863824\n"
     ]
    }
   ],
   "source": [
    "# Llamamos a las librerias que ocuparemos\n",
    "import numpy as np\n",
    "\n",
    "# Creamos un arreglo con los datos \n",
    "datos = np.array([525, 719, 2880, 150, 30, 251, 45, 858, 15, 47, \n",
    "                 90, 56, 68, 6, 189, 180, 60, 60, 294, 747])\n",
    "\n",
    "# Calculamos la media \n",
    "media = np.mean(datos)\n",
    "\n",
    "# Calculamos el estimador\n",
    "theta_hat = 1/media\n",
    "\n",
    "# Imprimimos el valor del estimador\n",
    "print('El valor del estimador es:',theta_hat)"
   ]
  },
  {
   "cell_type": "markdown",
   "metadata": {},
   "source": [
    "#### Método de máxima verosimilitud\n",
    "\n",
    "La *función de verosimilitud* de un vector aleatorio $ (X_1,\\dots,X_n)$ cuya distribución depende de un parámetro $\\theta$ se define como la función de densidad \n",
    "$$L(\\theta) = f_{X_1,\\dots,X_n}(x_1,\\dots,x_n;\\theta) $$\n",
    "y cuando hay distribución idéntica de $X_i$ se calcula de la siguiente manera\n",
    "$$ L(\\theta) = f(x_1;\\theta)\\cdots f(x_n;\\theta) = \\prod_{i=1}^{n}f(x_i;\\theta).$$\n",
    "\n",
    "El método consiste en encontrar el valor de $\\theta$ que maximiza a la función $L(\\theta)$. Al valor de $\\theta$ en donde $L(\\theta)$ alcanza su máximo se le llama estimación de máxima verosimilitud o estimación máximo verosímil.\n",
    "\n",
    "**Observación**\n",
    "$$\\begin{align*} \\log{L(\\theta)} &=  \\log{\\prod_{i=1}^{n}f(x_i;\\theta)} \\\\ &= \\sum_{i=1}^{n} \\log{f(x_i;\\theta)} \\end{align*}$$\n",
    "\n",
    "**Ejemplo.** \n",
    "\n",
    "Sea $x_1,\\dots,x_n$ una m.a $Poisson(\\lambda)$\n",
    "$$ f(x_i;\\lambda) = e^{-\\lambda}\\frac{\\lambda^{x_i}}{x_i !}, \\quad i\\in\\{1,2,\\dots,n\\}$$\n",
    "1. Encontrar EMV\n",
    "2. ¿es insesgado?\n",
    "3. ECM\n",
    "\n",
    "**Inciso 1**\n",
    "\n",
    "$$L(x_1\\dots x_n;\\theta) = \\prod_{i=1}^{n} e^{-\\theta}\\frac{\\theta^{x_i}}{x_i !} = \\frac{e^{-n\\theta}\\theta^{\\sum x_i}}{x_1!\\dots x_n!}$$\n",
    "\n",
    "$$\\log{L(x_1\\dots x_n;\\theta)} = \\log{e^{-n\\theta}\\theta^{\\sum x_i}} - \\log{x_1!\\dots x_n!} = -n\\theta + \\sum x_i \\log{\\theta} - \\sum \\log{x_i!}$$\n",
    "derivando $L(x_i;\\theta)$ e igualando a cero\n",
    "$$ \\frac{dL(x_i;\\theta)}{d\\theta} = -n + \\frac{\\sum x_i}{\\theta} = 0$$\n",
    "así\n",
    "$$ \\frac{\\sum x_i}{\\theta} = n \\rightarrow  \\theta = \\frac{\\sum x_i}{n} \\quad \\text{entonces} \\quad \\hat{\\theta} = \\bar{x}$$\n",
    "\n",
    "**Inciso 2**\n",
    "$$ \\mathbb{E}[\\hat{\\theta}] = \\mathbb{E}\\left[\\frac{\\sum x_i}{n}\\right] = \\frac{1}{n}\\sum \\mathbb{E}[x_i] = \\frac{1}{n}\\sum \\theta = \\frac{n\\theta}{n} = \\theta $$\n",
    "\n",
    "**Inciso 3**\n",
    "$$\\begin{align*}ECM(\\hat{\\theta}) &= Var(\\hat{\\theta}) + (\\mathbb{E}[\\hat{\\theta}]-\\theta)^2 = Var\\left(\\frac{\\sum x_i}{n} \\right) + 0 \\\\ &= \\frac{1}{n^2} \\sum Var(x_i) = \\frac{1}{n^2} \\sum \\theta = \\frac{n\\theta}{n^2} = \\frac{\\theta}{n} \\end{align*}$$\n",
    "disminuye a medida que aumenta la cantidad de datos."
   ]
  },
  {
   "cell_type": "markdown",
   "metadata": {},
   "source": [
    "## Intervalos de confianza \n",
    "\n",
    "Considerando que se tiene una cierta variable aleatoria de interés, con función de densidad o de probabilidad conocida $f(x;\\theta)$, pero dependiente de un parámetro desconocido $\\theta$, el cual deseamos estimar con base en una muestra aleatoria de esta distribución y $\\alpha\\in(0,1)$ un número fijo dado. Se define un *intervalo de confianza* como un intervalo aleatorio de la forma $(\\hat{\\theta}_1,\\hat{\\theta}_2)$, donde $\\hat{\\theta}_1$ y $\\hat{\\theta}_2$ son dos estadísticas que satisfacen \n",
    "$$ \\mathbb{P}[\\hat{\\theta}_1< \\theta < \\hat{\\theta}_2] = 1-\\alpha.$$\n",
    "\n",
    "Al número $1-\\alpha$ se le conoce como grado o coeficiente de confianza y a $(\\hat{\\theta}_1,\\hat{\\theta}_2)$ se le conoce como intervalo del $(1-\\alpha)\\times 100\\%$ de confianza. "
   ]
  },
  {
   "cell_type": "markdown",
   "metadata": {},
   "source": [
    "### Distribución Normal\n",
    "\n",
    "Consideramos $X_1,\\dots,X_n$ una muestra aleatoria donde $X_i \\sim N(\\mu,\\sigma^2)$\n",
    "\n",
    "Entonces:\n",
    "\n",
    "- $\\bar{X} \\sim \\mathcal{N}(\\mu, \\frac{\\sigma^2}{n})$\n",
    "- $Z = \\frac{\\bar{X} - \\mu}{\\sigma / \\sqrt{n}} \\sim \\mathcal{N}(0,1)$\n",
    "\n",
    "Un concepto importante es el siguiente:\n",
    "\n",
    "- Error estándar $(SE)$: nos permite cuantificar cuánto varía una estadística \n",
    "   - si conozco $\\sigma$: $SE = \\frac{\\sigma}{\\sqrt{n}}$\n",
    "   - si no conozco $\\sigma$: se utiliza la $S$ muestral, entonces $SE = \\frac{S}{\\sqrt{n}}$\n",
    "\n",
    "#### Intervalo para la media con varianza conocida \n",
    "\n",
    "$$ IC = \\left(\\bar{X} \\pm Z_{\\alpha/2} \\cdot \\frac{\\sigma}{\\sqrt{n}} \\right)$$ \n",
    "\n",
    "Es decir que $ \\mu \\in \\left(\\bar{X} - Z_{\\alpha/2} \\cdot \\frac{\\sigma}{\\sqrt{n}}, \\bar{X} + Z_{\\alpha/2}\\cdot \\frac{\\sigma}{\\sqrt{n}} \\right) $ con $(1-\\alpha)\\times 100\\%$ de confianza.\n",
    "\n",
    "**Observación** \n",
    "\n",
    "A mayor valor de $n$ se tiene menor error estándar, entonces el intervalo de confianza es más pequeño, lo cual hace que se acerque más a la media, es decir, que haya menos variación.\n",
    "\n",
    "**Ejemplos** \n",
    "\n",
    "Para trata de estimar la media de consumo por cliente en un restaurante, se reunieron datos de una muestra de $49$ clientes durante tres semanas.\n",
    "\n",
    "**a)** Supongamos que la **desviación estándar** de la población es de $\\$2.5$. ¿Cuál es el error estándar de la media?\n",
    "\n",
    "**b)** Con un nivel de confianza del $95\\%$, ¿cuál es el margen de error?\n",
    "\n",
    "**c)** Si la media de la muestra es de $\\$22.60$ ¿cuál es el intervalo de confianza del $95\\%$ para la media de la población?"
   ]
  },
  {
   "cell_type": "code",
   "execution_count": 2,
   "metadata": {},
   "outputs": [],
   "source": [
    "# Llamamos a las librerias que ocuparemos\n",
    "import numpy as np\n",
    "import matplotlib.pyplot as plt\n",
    "import scipy.stats as st"
   ]
  },
  {
   "cell_type": "code",
   "execution_count": 3,
   "metadata": {},
   "outputs": [
    {
     "name": "stdout",
     "output_type": "stream",
     "text": [
      "Eror estándar de la media: 0.36\n",
      "Margen de error: 0.70\n",
      "Intervalo de confianza del 95.0%: (21.90, 23.30)\n"
     ]
    }
   ],
   "source": [
    "# Datos:\n",
    "n = 49 \n",
    "sigma = 2.5\n",
    "media_muestral = 22.60\n",
    "confianza = 0.95\n",
    "\n",
    "# a) Error estándar de la media\n",
    "error_estandar = sigma / np.sqrt(n)\n",
    "print(f\"Eror estándar de la media: {error_estandar:.2f}\")\n",
    "\n",
    "# b) Margen de error\n",
    "# 1-confianza= 0.05 => 0.025 en cada cola -> (1-confianza)/2\n",
    "\n",
    "z = st.norm.ppf(1 - (1 - confianza) / 2) # ppf -> percentil point function\n",
    "# z_{0.975} es tal que P(Z <= z_{0.975}) = 0.975\n",
    "margen_error = z * error_estandar\n",
    "print(f\"Margen de error: {margen_error:.2f}\")\n",
    "\n",
    "# c) Intervalo de confianza\n",
    "limite_inferior = media_muestral - margen_error\n",
    "limite_superior = media_muestral + margen_error\n",
    "print(f\"Intervalo de confianza del {confianza*100}%: ({limite_inferior:.2f}, {limite_superior:.2f})\")"
   ]
  },
  {
   "cell_type": "markdown",
   "metadata": {},
   "source": [
    "Por lo tanto, podemos decir que con un $95\\%$ de confianza, se estima que el **consumo medio poblacional** está entre $\\$21.90$ y $\\$23.30$\n"
   ]
  },
  {
   "cell_type": "markdown",
   "metadata": {},
   "source": [
    "Supongamos que se toma una muestra aleatoria de 100 personas para estimar la media del peso de una población, y se obtiene que la media muestral es de $70$ kg con una desviación estándar que es conocida de $10$ kg. Para un nivel de confianza del $95\\%$, calcular el intervalo de confianza."
   ]
  },
  {
   "cell_type": "code",
   "execution_count": 4,
   "metadata": {},
   "outputs": [
    {
     "name": "stdout",
     "output_type": "stream",
     "text": [
      "Intervalo de confianza del 95.0%: (68.04, 71.96)\n"
     ]
    }
   ],
   "source": [
    "# Datos:\n",
    "n = 100\n",
    "sigma = 10\n",
    "media_muestral = 70 \n",
    "confianza = 0.95    \n",
    "error_estandar = sigma / np.sqrt(n)\n",
    "\n",
    "# Vamos a utilizar la función scipy.stats.norm.interval\n",
    "# Sintaxis: scipy.stats.norm.interval(confidence = confianza, loc=media_muestral, scale=error_estandar)\n",
    "\n",
    "intervalo = st.norm.interval(confianza, loc=media_muestral, scale=error_estandar)\n",
    "\n",
    "print(f\"Intervalo de confianza del {confianza*100}%: ({intervalo[0]:.2f}, {intervalo[1]:.2f})\")"
   ]
  },
  {
   "cell_type": "markdown",
   "metadata": {},
   "source": [
    "#### Intervalo para la media con varianza desconocida \n",
    "\n",
    "En el caso $n>30$ se tiene el intervalo \n",
    "$$ IC = \\left(\\bar{X} \\pm Z_{\\alpha/2} \\cdot \\frac{S}{\\sqrt{n}}  \\right)$$\n",
    "para $n<30$ se tiene \n",
    "$$ IC = \\left(\\bar{X} \\pm t_{\\alpha/2}^{(n-1)} \\cdot \\frac{S}{\\sqrt{n}}  \\right)$$\n",
    "\n",
    "\n",
    "**Ejemplo** \n",
    "\n",
    "Supongamos que tenemos los soguientes datos de una muestra aleatoria de 10 observaciones:\n",
    "$$ datos = [45, 55, 67, 45, 68, 79, 98, 87, 84, 82] $$\n",
    "Calcular un intervalo de confianza para la media."
   ]
  },
  {
   "cell_type": "code",
   "execution_count": 5,
   "metadata": {},
   "outputs": [
    {
     "name": "stdout",
     "output_type": "stream",
     "text": [
      "La media muestral es: 71.00\n",
      "Intervalo de confianza del 95.0%: (58.00, 84.00)\n"
     ]
    }
   ],
   "source": [
    "# Datos \n",
    "datos = [45, 55, 67, 45, 68, 79, 98, 87, 84, 82]\n",
    "n = len(datos) # es facil notar que n<30\n",
    "confianza = 0.95\n",
    "gl = n - 1\n",
    "\n",
    "# Tenemos la media y el error estándar\n",
    "media_muestral = np.mean(datos)\n",
    "error_estandar = st.sem(datos) # std error of the mean utilizando la desviación estándar muestral\n",
    "\n",
    "# Utilizamos la distribución t de Student\n",
    "intervalo = st.t.interval(confianza, df=gl, loc=media_muestral, scale=error_estandar)\n",
    "print(f\"La media muestral es: {media_muestral:.2f}\")\n",
    "print(f\"Intervalo de confianza del {confianza*100}%: ({intervalo[0]:.2f}, {intervalo[1]:.2f})\")"
   ]
  },
  {
   "cell_type": "markdown",
   "metadata": {},
   "source": [
    "#### Intervalo para la varianza\n",
    "\n",
    "$$IC = \\left(\\frac{(n-1)S^2}{\\chi^2_{\\alpha/2,n-1}},\\frac{(n-1)S^2}{\\chi^2_{1-\\alpha/2,n-1}}  \\right)$$\n",
    "\n",
    "**Ejemplo** \n",
    "\n",
    "Los artículos de cerámica utilizados sobre velas electricas sobrecargadas se rompen con diferentes presiones. Supongamos que los datos provienen de una distribución normal.\n",
    "\n",
    "La resistencia a la ruptura fue medida en una muestra de 100 artículos, y el promedio fue de $1750$ con un desviación estándar de 315.8\n",
    "\n",
    "**a)** Estimar con un nivel del confianza del $90\\%$ a la media poblacional de la presión de la ruptura.\n",
    "\n",
    "**b)** Estimar con un nivel del confianza del $90\\%$ a la varianza poblacional."
   ]
  },
  {
   "cell_type": "code",
   "execution_count": 7,
   "metadata": {},
   "outputs": [
    {
     "name": "stdout",
     "output_type": "stream",
     "text": [
      "Intervalo de confianza para la media del 90.0%: (1698.06, 1801.94)\n",
      "Intervalo de confianza para la varianza del 90.0%: (80123.49, 128146.72)\n",
      "Intervalo de confianza para la varianza del 90.0%: (80123.49, 128146.72)\n"
     ]
    }
   ],
   "source": [
    "from scipy.stats import chi2 # importamos la distribución chi-cuadrado\n",
    "\n",
    "\n",
    "#Datos:\n",
    "n = 100\n",
    "media_muestral = 1750\n",
    "desviacion_muestral = 315.8 # varianza muestral = 99,729.64\n",
    "confianza = 0.90\n",
    "\n",
    "# a) Se tiene que n>30, por lo que usamos la normal\n",
    "error_estandar = desviacion_muestral / np.sqrt(n)\n",
    "intervalo_media = st.norm.interval(confianza, loc=media_muestral, scale=error_estandar)\n",
    "print(f\"Intervalo de confianza para la media del {confianza*100}%: ({intervalo_media[0]:.2f}, {intervalo_media[1]:.2f})\")\n",
    "\n",
    "# b) Intervalo de confianza para la varianza\n",
    "gl = n - 1\n",
    "alpha = 1 - confianza   \n",
    "s2 = desviacion_muestral**2\n",
    "\n",
    "# Vamos a calcular los cuantiles de la distribución chi-cuadrado\n",
    "chi2_inf = st.chi2.ppf(alpha / 2, df=gl)\n",
    "chi2_sup = st.chi2.ppf(1 - alpha / 2, df=gl)\n",
    "intervalo_varianza = ((gl * s2) / chi2_sup, (gl * s2) / chi2_inf)\n",
    "print(f\"Intervalo de confianza para la varianza del {confianza*100}%: ({intervalo_varianza[0]:.2f}, {intervalo_varianza[1]:.2f})\")\n",
    "\n",
    "# Otra forma de calcular el intervalo de confianza para la varianza\n",
    "chi2_inf, chi2_sup = chi2.interval(confianza, df=gl)\n",
    "intervalo_varianza2 = ((gl * s2) / chi2_sup, (gl * s2) / chi2_inf)\n",
    "print(f\"Intervalo de confianza para la varianza del {confianza*100}%: ({intervalo_varianza2[0]:.2f}, {intervalo_varianza2[1]:.2f})\")\n"
   ]
  },
  {
   "cell_type": "markdown",
   "metadata": {},
   "source": [
    "#### Intervalo para la diferencia de dos medias con varianzas conocidas\n",
    "\n",
    "Ahora consideramos dos muestras aleatorias $X_1,\\dots,X_n$ con distribución $N(\\mu_1,\\sigma^2)$ y $Y_1,\\dots,Y_m$ independiente de la primera y con distribución $N(\\mu_2,\\sigma_2^2)$, el intervalo de confianza para $\\mu_1-\\mu_2$ es\n",
    "$$ IC = \\left((\\bar{X}-\\bar{Y})\\pm Z_{\\alpha/2}\\sqrt{\\frac{\\sigma_1^2}{n} + \\frac{\\sigma_2^2}{m}}  \\right).$$\n",
    "\n",
    "#### Intervalo para la diferencia de dos medias con varianzas desconocidas pero iguales\n",
    "\n",
    "En este caso también tenemos dos muestras aleatorias independientes, $X_1,\\dots,X_n$ que se distribuye como $N(\\mu_1,\\sigma^2)$ y $Y_1,\\dots,Y_m$ que se distribuye como $N(\\mu_2,\\sigma^2)$. El intervalo de confianza para $\\mu_1-\\mu_2$, con $\\sigma^2$ desconocida es\n",
    "$$IC = \\left( (\\bar{X}-\\bar{Y}) \\pm t_{(n+m-2)}S\\sqrt{\\frac{1}{n}+\\frac{1}{m} }\\right).$$"
   ]
  },
  {
   "cell_type": "markdown",
   "metadata": {},
   "source": [
    "## Referencias\n",
    "\n",
    "- Rincón, L. (2019). *Una introducción a la estadística inferencial*. México: Universidad Nacional Autónoma de México, Facultad de Ciencias.\n",
    "\n",
    "- Mendenhall, W., Beaver, R. J., Beaver, B. M., & Romo Muñoz, J. H. (2010). *Introducción a la probabilidad y estadística* (13a ed.). México: Cengage Learning."
   ]
  }
 ],
 "metadata": {
  "kernelspec": {
   "display_name": "analisis",
   "language": "python",
   "name": "python3"
  },
  "language_info": {
   "codemirror_mode": {
    "name": "ipython",
    "version": 3
   },
   "file_extension": ".py",
   "mimetype": "text/x-python",
   "name": "python",
   "nbconvert_exporter": "python",
   "pygments_lexer": "ipython3",
   "version": "3.9.19"
  }
 },
 "nbformat": 4,
 "nbformat_minor": 2
}
