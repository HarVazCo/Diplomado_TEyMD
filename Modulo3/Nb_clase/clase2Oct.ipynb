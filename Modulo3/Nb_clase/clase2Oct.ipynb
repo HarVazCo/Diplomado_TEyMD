{
 "cells": [
  {
   "cell_type": "markdown",
   "metadata": {},
   "source": [
    "El intervalo $[-0.5,0.5]$ se considera que no hay correlación, en la estadística descriptiva \n",
    "\n",
    "Hay reglas de dedo en econometria diferentes \n",
    "\n",
    "Prueba de significancia de la correlacion \n",
    "\n"
   ]
  },
  {
   "cell_type": "markdown",
   "metadata": {},
   "source": []
  }
 ],
 "metadata": {
  "language_info": {
   "name": "python"
  }
 },
 "nbformat": 4,
 "nbformat_minor": 2
}
