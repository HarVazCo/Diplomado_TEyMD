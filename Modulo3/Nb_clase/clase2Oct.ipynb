{
 "cells": [
  {
   "cell_type": "markdown",
   "metadata": {},
   "source": [
    "El intervalo $[-0.5,0.5]$ se considera que no hay correlación, en la estadística descriptiva \n",
    "\n",
    "Hay reglas de dedo en econometria diferentes \n",
    "\n",
    "Prueba de significancia de la correlacion \n",
    "\n",
    "Si una variable necesita una diferencia para ser estacionaria *integrada orden uno*, para dos diferencias *integrada orden 2*\n"
   ]
  },
  {
   "cell_type": "markdown",
   "metadata": {},
   "source": [
    "## Modelos de regresión "
   ]
  },
  {
   "cell_type": "markdown",
   "metadata": {},
   "source": [
    "**Ecuación MRLM**\n",
    "\n",
    "$$Y_i = \\beta_1+\\beta_2 x_{i2}+\\dots+\\beta_k x_{ik} + u_i, \\ \\text{para todo } i=1,\\dots,n $$\n",
    "\n",
    "- Endogeneidad \n",
    "\n",
    "$Y_i$ : explicada, regresando, dependiente, endogena\n",
    "$x_{ik}$: explicativa, regresor, independiente, exógena \n",
    "$\\beta_k$: parámetros \n",
    "$u_i$: error aleatorio, perturbación aleatoria\n",
    "\n",
    "**Supuestos del MRLM**\n",
    "\n",
    "- $u_i \\sim N(0,\\sigma)$\n",
    "- No hay autocorrelación del error \n",
    "- Homocedasticidad del error \n",
    "- No multicolinalidad $x$'s\n",
    "- Estabilidad de los parámetros\n",
    "- Forma funcional lineal: la relación entre variables es lineal\n",
    "- Correcta especificación: cuando se hace un modelo se utilicen la cantidad de variables que se necesitan (no usar variables de más, ni omitir variables)\n",
    "\n",
    "Significancia de los coeficientes de la regresión "
   ]
  },
  {
   "cell_type": "markdown",
   "metadata": {},
   "source": [
    "# Tarea \n",
    "\n",
    "Crear el modelo con las tasas de las variables y encontrar el mejor modelo \n",
    "\n",
    "Con las variables G,Pg,Y, identificar el orden de integración \n",
    "\n",
    "Investigar los supuestos "
   ]
  },
  {
   "cell_type": "markdown",
   "metadata": {},
   "source": []
  }
 ],
 "metadata": {
  "language_info": {
   "name": "python"
  }
 },
 "nbformat": 4,
 "nbformat_minor": 2
}
