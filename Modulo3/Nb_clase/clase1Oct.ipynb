{
 "cells": [
  {
   "cell_type": "markdown",
   "metadata": {},
   "source": [
    "## Estructuras de datos\n",
    " - Sección cruzada/corte transversal\n",
    " - Series de tiempo\n",
    " - Datos de panel\n",
    " - Datos georeferenciados "
   ]
  },
  {
   "cell_type": "markdown",
   "metadata": {},
   "source": [
    "### Sección cruzada \n",
    "\n",
    " - Encuestas:\n",
    "\n",
    "   Objetos de observación \n",
    "   - personas\n",
    "   - hogares\n",
    "   - empresas\n",
    "   - países \n",
    "\n",
    "   Número de observaciones\n",
    "\n",
    "\n",
    "### Series de tiempo \n",
    "\n",
    "  Diariamente en $2024$ el precio de una acción $P_1,\\ P_2, \\dots,P_{365}$\n",
    "\n",
    "    Número de objetos = 1 acción\n",
    "\n",
    "    Número de observaciones = 365\n",
    "\n",
    "\n",
    "### Datos de Panel \n",
    "\n",
    "S.C + S.T\n",
    "\n",
    "PIB por año de 2000 a 2024, por entidad federativa"
   ]
  },
  {
   "cell_type": "markdown",
   "metadata": {},
   "source": [
    "## Pruebas de hipótesis \n",
    "\n",
    " - $H_0$: hipótesis nula \n",
    " - $H_a$: hipótesis alternativa\n",
    " - $T$: Estadistico de prueba \n",
    "    $$T\\sim N,t,\\lambda^2,F,Bin,\\dots$$\n",
    "    -> $p$-valor\n",
    "\n",
    "Nivel de confianza $(1-\\alpha)$"
   ]
  },
  {
   "cell_type": "markdown",
   "metadata": {},
   "source": [
    "**Tarea**\n",
    "\n",
    "Para G,Pg,Y, realizar las pruebas de normalidad y distribución de frecuencias "
   ]
  },
  {
   "cell_type": "markdown",
   "metadata": {},
   "source": []
  }
 ],
 "metadata": {
  "language_info": {
   "name": "python"
  }
 },
 "nbformat": 4,
 "nbformat_minor": 2
}
