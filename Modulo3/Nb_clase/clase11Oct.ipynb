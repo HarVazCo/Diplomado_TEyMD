{
 "cells": [
  {
   "cell_type": "markdown",
   "metadata": {},
   "source": [
    "Tarea\n",
    "\n",
    "Investigar prueba de multicolinealidad, ademas del VIF\n",
    "Como se interpretan los parámetros en un modelo log-log (elasticidad, cambio porcentual)\n",
    "Como se interpretan los parámetros en un modelo log-lineal \n",
    "Como se interpretan los parámetros en un modelo lineal-log\n",
    "Inv: RV Quant, CUSUM, CHOW, Reset Ramsey\n"
   ]
  }
 ],
 "metadata": {
  "language_info": {
   "name": "python"
  }
 },
 "nbformat": 4,
 "nbformat_minor": 2
}
