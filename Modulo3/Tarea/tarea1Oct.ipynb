{
 "cells": [
  {
   "cell_type": "markdown",
   "metadata": {},
   "source": [
    "# Pruebas de normalidad a variables de series de tiempo\n",
    "\n",
    "$H_0$: la variable tiene un comportamiento normal"
   ]
  },
  {
   "cell_type": "markdown",
   "metadata": {},
   "source": [
    "| Variable | Nombre de la prueba | p valor | Conclusión al $95\\%$ de confianza |\n",
    "| -------- |---------------------|---------|-----------|\n",
    "| G | Doornik-Hansen | 0.0329343 | la variable no tiene comportamiento normal |\n",
    "| G | Shapiro-Wilk | 0.0125624 | la variable no tiene comportamiento normal |\n",
    "| G | Lilliefors | 0.02 | la variable no tiene comportamiento normal |\n",
    "| G | Jarque-Bera | 0.239585 | la variable tiene comportamiento normal |\n",
    "| G | Chi-cuadrado | 0.0329 | la variable no tiene comportamiento normal |\n",
    "| Pg | Doornik-Hansen | 8.67313e-05 | la variable no tiene comportamiento normal |\n",
    "| Pg | Shapiro-Wilk | 2.78881e-05 | la variable no tiene comportamiento normal |\n",
    "| Pg | Lilliefors | 0 | La variable no tiene comportamiento normal |\n",
    "| Pg | Jarque-Bera | 0.0971551 | la variable no tiene comportamiento normal |\n",
    "| Pg | Chi-cuadrado | 0.0001 | la variable no tiene comportamiento normal |\n",
    "| Y | Doornik-Hansen | 0.142325 | la variable tiene comportamiento normal |\n",
    "| Y | Shapiro-Wilk | 0.0672222 | la variable tiene comportamiento normal |\n",
    "| Y | Lilliefors | 0.35 | la variable tiene comportamiento normal |\n",
    "| Y | Jarque-Bera | 0.329954 | la variable tiene comportamiento normal |\n",
    "| Y | Chi-cuadrado |0.1423 | la variable tiene comportamiento normal |\n"
   ]
  }
 ],
 "metadata": {
  "language_info": {
   "name": "python"
  }
 },
 "nbformat": 4,
 "nbformat_minor": 2
}
